{
 "cells": [
  {
   "cell_type": "code",
   "execution_count": 2,
   "metadata": {},
   "outputs": [],
   "source": [
    "import os\n",
    "import json\n",
    "import pandas as pd\n",
    "import datetime"
   ]
  },
  {
   "cell_type": "code",
   "execution_count": 4,
   "metadata": {},
   "outputs": [],
   "source": [
    "today = datetime.date.today().strftime('%Y/%-m/%-d')\n",
    "html = 'https://www.metaweather.com/api/location/44418/'\n",
    "path = html.replace('https://www.metaweather.com/api/location/','').replace('/','')"
   ]
  },
  {
   "cell_type": "code",
   "execution_count": 5,
   "metadata": {},
   "outputs": [
    {
     "data": {
      "text/plain": [
       "'2020/12/2'"
      ]
     },
     "execution_count": 5,
     "metadata": {},
     "output_type": "execute_result"
    }
   ],
   "source": [
    "today"
   ]
  },
  {
   "cell_type": "code",
   "execution_count": 6,
   "metadata": {},
   "outputs": [
    {
     "data": {
      "text/plain": [
       "'https://www.metaweather.com/api/location/44418/'"
      ]
     },
     "execution_count": 6,
     "metadata": {},
     "output_type": "execute_result"
    }
   ],
   "source": [
    "html"
   ]
  },
  {
   "cell_type": "code",
   "execution_count": 7,
   "metadata": {},
   "outputs": [
    {
     "data": {
      "text/plain": [
       "'44418'"
      ]
     },
     "execution_count": 7,
     "metadata": {},
     "output_type": "execute_result"
    }
   ],
   "source": [
    "path"
   ]
  },
  {
   "cell_type": "code",
   "execution_count": 8,
   "metadata": {},
   "outputs": [
    {
     "data": {
      "text/plain": [
       "0"
      ]
     },
     "execution_count": 8,
     "metadata": {},
     "output_type": "execute_result"
    }
   ],
   "source": [
    "os_command = f'curl {html} > {path}-today.html'\n",
    "os.system(os_command)"
   ]
  },
  {
   "cell_type": "code",
   "execution_count": 9,
   "metadata": {},
   "outputs": [],
   "source": [
    "weather = json.load(open(f'{path}-today.html'))"
   ]
  },
  {
   "cell_type": "code",
   "execution_count": 10,
   "metadata": {},
   "outputs": [
    {
     "data": {
      "text/plain": [
       "{'consolidated_weather': [{'id': 5335216093659136,\n",
       "   'weather_state_name': 'Showers',\n",
       "   'weather_state_abbr': 's',\n",
       "   'wind_direction_compass': 'WSW',\n",
       "   'created': '2020-12-02T15:20:03.467158Z',\n",
       "   'applicable_date': '2020-12-02',\n",
       "   'min_temp': 3.1450000000000005,\n",
       "   'max_temp': 7.484999999999999,\n",
       "   'the_temp': 6.405,\n",
       "   'wind_speed': 3.6220224599512183,\n",
       "   'wind_direction': 250.44378795643559,\n",
       "   'air_pressure': 1018.0,\n",
       "   'humidity': 76,\n",
       "   'visibility': 6.753994174023702,\n",
       "   'predictability': 73},\n",
       "  {'id': 6128080981590016,\n",
       "   'weather_state_name': 'Heavy Rain',\n",
       "   'weather_state_abbr': 'hr',\n",
       "   'wind_direction_compass': 'S',\n",
       "   'created': '2020-12-02T15:20:04.652624Z',\n",
       "   'applicable_date': '2020-12-03',\n",
       "   'min_temp': 4.140000000000001,\n",
       "   'max_temp': 6.859999999999999,\n",
       "   'the_temp': 6.23,\n",
       "   'wind_speed': 5.009473858657441,\n",
       "   'wind_direction': 182.46683952046544,\n",
       "   'air_pressure': 991.5,\n",
       "   'humidity': 88,\n",
       "   'visibility': 6.0844667143879745,\n",
       "   'predictability': 77},\n",
       "  {'id': 5407385234440192,\n",
       "   'weather_state_name': 'Heavy Rain',\n",
       "   'weather_state_abbr': 'hr',\n",
       "   'wind_direction_compass': 'W',\n",
       "   'created': '2020-12-02T15:20:03.943472Z',\n",
       "   'applicable_date': '2020-12-04',\n",
       "   'min_temp': 1.8399999999999999,\n",
       "   'max_temp': 4.95,\n",
       "   'the_temp': 4.705,\n",
       "   'wind_speed': 6.964369527203797,\n",
       "   'wind_direction': 270.51367436526505,\n",
       "   'air_pressure': 977.5,\n",
       "   'humidity': 81,\n",
       "   'visibility': 8.586417819931599,\n",
       "   'predictability': 77},\n",
       "  {'id': 4507462313967616,\n",
       "   'weather_state_name': 'Heavy Cloud',\n",
       "   'weather_state_abbr': 'hc',\n",
       "   'wind_direction_compass': 'ESE',\n",
       "   'created': '2020-12-02T15:20:04.345919Z',\n",
       "   'applicable_date': '2020-12-05',\n",
       "   'min_temp': 0.5999999999999999,\n",
       "   'max_temp': 5.3149999999999995,\n",
       "   'the_temp': 6.03,\n",
       "   'wind_speed': 4.882299320056204,\n",
       "   'wind_direction': 109.11336180924,\n",
       "   'air_pressure': 990.5,\n",
       "   'humidity': 79,\n",
       "   'visibility': 11.100174978127733,\n",
       "   'predictability': 71},\n",
       "  {'id': 6665496314249216,\n",
       "   'weather_state_name': 'Light Rain',\n",
       "   'weather_state_abbr': 'lr',\n",
       "   'wind_direction_compass': 'N',\n",
       "   'created': '2020-12-02T15:20:04.637154Z',\n",
       "   'applicable_date': '2020-12-06',\n",
       "   'min_temp': 1.485,\n",
       "   'max_temp': 4.41,\n",
       "   'the_temp': 5.395,\n",
       "   'wind_speed': 4.508413120856862,\n",
       "   'wind_direction': 5.099147334965307,\n",
       "   'air_pressure': 998.0,\n",
       "   'humidity': 79,\n",
       "   'visibility': 11.613427582915772,\n",
       "   'predictability': 75},\n",
       "  {'id': 5428200793440256,\n",
       "   'weather_state_name': 'Showers',\n",
       "   'weather_state_abbr': 's',\n",
       "   'wind_direction_compass': 'SW',\n",
       "   'created': '2020-12-02T15:20:06.073341Z',\n",
       "   'applicable_date': '2020-12-07',\n",
       "   'min_temp': 1.7,\n",
       "   'max_temp': 4.355,\n",
       "   'the_temp': 4.09,\n",
       "   'wind_speed': 4.4829215382168135,\n",
       "   'wind_direction': 221.5,\n",
       "   'air_pressure': 998.0,\n",
       "   'humidity': 77,\n",
       "   'visibility': 9.576572814761791,\n",
       "   'predictability': 73}],\n",
       " 'time': '2020-12-02T16:16:21.355442Z',\n",
       " 'sun_rise': '2020-12-02T07:45:43.874954Z',\n",
       " 'sun_set': '2020-12-02T15:54:07.726173Z',\n",
       " 'timezone_name': 'LMT',\n",
       " 'parent': {'title': 'England',\n",
       "  'location_type': 'Region / State / Province',\n",
       "  'woeid': 24554868,\n",
       "  'latt_long': '52.883560,-1.974060'},\n",
       " 'sources': [{'title': 'BBC',\n",
       "   'slug': 'bbc',\n",
       "   'url': 'http://www.bbc.co.uk/weather/',\n",
       "   'crawl_rate': 360},\n",
       "  {'title': 'Forecast.io',\n",
       "   'slug': 'forecast-io',\n",
       "   'url': 'http://forecast.io/',\n",
       "   'crawl_rate': 480},\n",
       "  {'title': 'HAMweather',\n",
       "   'slug': 'hamweather',\n",
       "   'url': 'http://www.hamweather.com/',\n",
       "   'crawl_rate': 360},\n",
       "  {'title': 'Met Office',\n",
       "   'slug': 'met-office',\n",
       "   'url': 'http://www.metoffice.gov.uk/',\n",
       "   'crawl_rate': 180},\n",
       "  {'title': 'OpenWeatherMap',\n",
       "   'slug': 'openweathermap',\n",
       "   'url': 'http://openweathermap.org/',\n",
       "   'crawl_rate': 360},\n",
       "  {'title': 'Weather Underground',\n",
       "   'slug': 'wunderground',\n",
       "   'url': 'https://www.wunderground.com/?apiref=fc30dc3cd224e19b',\n",
       "   'crawl_rate': 720},\n",
       "  {'title': 'World Weather Online',\n",
       "   'slug': 'world-weather-online',\n",
       "   'url': 'http://www.worldweatheronline.com/',\n",
       "   'crawl_rate': 360}],\n",
       " 'title': 'London',\n",
       " 'location_type': 'City',\n",
       " 'woeid': 44418,\n",
       " 'latt_long': '51.506321,-0.12714',\n",
       " 'timezone': 'Europe/London'}"
      ]
     },
     "execution_count": 10,
     "metadata": {},
     "output_type": "execute_result"
    }
   ],
   "source": [
    "weather"
   ]
  },
  {
   "cell_type": "code",
   "execution_count": 23,
   "metadata": {},
   "outputs": [],
   "source": [
    "weather_summary = []\n",
    "titles, paras = [], []\n",
    "\n",
    "weather_info = {'applicable_date',\n",
    "                'weather_state_name',\n",
    "                'min_temp',\n",
    "                'max_temp',\n",
    "                'wind_speed'}\n",
    "\n",
    "for i in range(5):\n",
    "    for key, value in weather['consolidated_weather'][i].items():\n",
    "        if key in weather_info:\n",
    "            titles.append(key)\n",
    "            paras.append(value)\n",
    "    weather_summary.append(dict(zip(titles,paras)))\n",
    "\n",
    "for row in weather_summary:\n",
    "        date_object = datetime.datetime.strptime(row['applicable_date'], '%Y-%m-%d')\n",
    "        row['applicable_date'] = date_object.strftime('%a %-d %b %Y')\n",
    "        row['min_temp'] = str(round(row['min_temp'])) + ' C'\n",
    "        row['max_temp'] = str(round(row['max_temp'])) + ' C'\n",
    "        row['wind_speed'] = str(round(row['wind_speed'])) + ' mph'"
   ]
  },
  {
   "cell_type": "code",
   "execution_count": 24,
   "metadata": {},
   "outputs": [
    {
     "data": {
      "text/plain": [
       "[{'weather_state_name': 'Showers',\n",
       "  'applicable_date': 'Wed 2 Dec 2020',\n",
       "  'min_temp': '3 C',\n",
       "  'max_temp': '7 C',\n",
       "  'wind_speed': '4 mph'},\n",
       " {'weather_state_name': 'Heavy Rain',\n",
       "  'applicable_date': 'Thu 3 Dec 2020',\n",
       "  'min_temp': '4 C',\n",
       "  'max_temp': '7 C',\n",
       "  'wind_speed': '5 mph'},\n",
       " {'weather_state_name': 'Heavy Rain',\n",
       "  'applicable_date': 'Fri 4 Dec 2020',\n",
       "  'min_temp': '2 C',\n",
       "  'max_temp': '5 C',\n",
       "  'wind_speed': '7 mph'},\n",
       " {'weather_state_name': 'Heavy Cloud',\n",
       "  'applicable_date': 'Sat 5 Dec 2020',\n",
       "  'min_temp': '1 C',\n",
       "  'max_temp': '5 C',\n",
       "  'wind_speed': '5 mph'},\n",
       " {'weather_state_name': 'Light Rain',\n",
       "  'applicable_date': 'Sun 6 Dec 2020',\n",
       "  'min_temp': '1 C',\n",
       "  'max_temp': '4 C',\n",
       "  'wind_speed': '5 mph'}]"
      ]
     },
     "execution_count": 24,
     "metadata": {},
     "output_type": "execute_result"
    }
   ],
   "source": [
    "weather_summary"
   ]
  },
  {
   "cell_type": "code",
   "execution_count": null,
   "metadata": {},
   "outputs": [],
   "source": []
  }
 ],
 "metadata": {
  "kernelspec": {
   "display_name": "Python 3",
   "language": "python",
   "name": "python3"
  },
  "language_info": {
   "codemirror_mode": {
    "name": "ipython",
    "version": 3
   },
   "file_extension": ".py",
   "mimetype": "text/x-python",
   "name": "python",
   "nbconvert_exporter": "python",
   "pygments_lexer": "ipython3",
   "version": "3.7.7"
  },
  "toc": {
   "base_numbering": 1,
   "nav_menu": {},
   "number_sections": true,
   "sideBar": true,
   "skip_h1_title": false,
   "title_cell": "Table of Contents",
   "title_sidebar": "Contents",
   "toc_cell": false,
   "toc_position": {},
   "toc_section_display": true,
   "toc_window_display": false
  }
 },
 "nbformat": 4,
 "nbformat_minor": 4
}
