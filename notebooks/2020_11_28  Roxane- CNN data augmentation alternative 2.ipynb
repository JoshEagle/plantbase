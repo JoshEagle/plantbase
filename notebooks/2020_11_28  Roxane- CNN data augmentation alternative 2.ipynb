{
 "cells": [
  {
   "cell_type": "code",
   "execution_count": 40,
   "metadata": {},
   "outputs": [],
   "source": [
    "#In this model - I only changed the data augmentation parameters"
   ]
  },
  {
   "cell_type": "code",
   "execution_count": 1,
   "metadata": {},
   "outputs": [],
   "source": [
    "import numpy as np\n",
    "import os\n",
    "import PIL\n",
    "import PIL.Image\n",
    "import pandas as pd"
   ]
  },
  {
   "cell_type": "markdown",
   "metadata": {},
   "source": [
    "# Setting weights to the train class_weights"
   ]
  },
  {
   "cell_type": "code",
   "execution_count": 13,
   "metadata": {},
   "outputs": [],
   "source": [
    "#setting class_weights based on the class 10. \n",
    "#Essentially we treating every instance of the classes as instances of class 10\n",
    "# For example weight of 4 for class 0 means: \n",
    "    #treat every instance of class 0 as 4 instances of class 10\n",
    "\n",
    "class_weight = {0:4. ,\n",
    "                1:2., \n",
    "                2:1.5 ,\n",
    "                3:2.,\n",
    "                4:3.,\n",
    "                5:2.,\n",
    "                6:1.5,\n",
    "                7:4.,\n",
    "                8:2.,\n",
    "                9:3.,\n",
    "                10:1.,\n",
    "                11:4.,\n",
    "                12:3.,\n",
    "                13:2.,\n",
    "                14:3.,\n",
    "                15:2.\n",
    "               }"
   ]
  },
  {
   "cell_type": "markdown",
   "metadata": {},
   "source": [
    "# Loading the images into train and validation sets"
   ]
  },
  {
   "cell_type": "markdown",
   "metadata": {},
   "source": [
    "Load the images"
   ]
  },
  {
   "cell_type": "code",
   "execution_count": 1,
   "metadata": {},
   "outputs": [],
   "source": [
    "from tensorflow.keras.preprocessing.image import ImageDataGenerator"
   ]
  },
  {
   "cell_type": "code",
   "execution_count": 2,
   "metadata": {},
   "outputs": [],
   "source": [
    "#setting the directory for the train dataset\n",
    "directory = r\"../raw_data/train\""
   ]
  },
  {
   "cell_type": "code",
   "execution_count": 5,
   "metadata": {},
   "outputs": [],
   "source": [
    "#augmenting the data \n",
    "train_datagen = ImageDataGenerator(\n",
    "        rescale=1./255,\n",
    "        vertical_flip=True,\n",
    "        width_shift_range=0.3,\n",
    "        rotation_range=90,\n",
    "        brightness_range=(0.1, 0.9),\n",
    "        validation_split = 0.2)\n",
    "\n",
    "valid_datagen = ImageDataGenerator(\n",
    "        rescale=1./255,\n",
    "        validation_split = 0.2)"
   ]
  },
  {
   "cell_type": "code",
   "execution_count": 6,
   "metadata": {},
   "outputs": [],
   "source": [
    "img_height, img_width = (256,256)"
   ]
  },
  {
   "cell_type": "code",
   "execution_count": 7,
   "metadata": {},
   "outputs": [
    {
     "name": "stdout",
     "output_type": "stream",
     "text": [
      "Found 3460 images belonging to 16 classes.\n",
      "Found 857 images belonging to 16 classes.\n"
     ]
    }
   ],
   "source": [
    "train_generator = train_datagen.flow_from_directory(\n",
    "    directory,\n",
    "    target_size=(img_height, img_width),\n",
    "    batch_size=32,\n",
    "    class_mode='binary',\n",
    "    subset='training',\n",
    "    seed = 123) # set as training data\n",
    "\n",
    "validation_generator = valid_datagen.flow_from_directory(\n",
    "    directory, # same directory as training data\n",
    "    target_size=(img_height, img_width),\n",
    "    batch_size=32,\n",
    "    class_mode='binary',\n",
    "    subset='validation',\n",
    "    seed = 123) # set as validation data"
   ]
  },
  {
   "cell_type": "markdown",
   "metadata": {},
   "source": [
    "# Training baseline model"
   ]
  },
  {
   "cell_type": "code",
   "execution_count": 8,
   "metadata": {},
   "outputs": [],
   "source": [
    "from tensorflow.keras import layers\n",
    "from tensorflow.keras.models import Sequential"
   ]
  },
  {
   "cell_type": "code",
   "execution_count": 9,
   "metadata": {},
   "outputs": [],
   "source": [
    "num_classes = 16\n",
    "\n",
    "model = Sequential([\n",
    "  #layers.experimental.preprocessing.Rescaling(1./255, input_shape=(img_height, img_width, 3)),\n",
    "  layers.Conv2D(16, 3, input_shape=(img_height, img_width, 3),padding='same', activation='relu'),\n",
    "  layers.MaxPooling2D(),\n",
    "  layers.Conv2D(32, 3, padding='same', activation='relu'),\n",
    "  layers.MaxPooling2D(),\n",
    "  layers.Conv2D(64, 3, padding='same', activation='relu'),\n",
    "  layers.MaxPooling2D(),\n",
    "  layers.Flatten(),\n",
    "  layers.Dense(64, activation='relu'),\n",
    "  layers.Dense(num_classes)\n",
    "])"
   ]
  },
  {
   "cell_type": "code",
   "execution_count": 10,
   "metadata": {},
   "outputs": [],
   "source": [
    "import tensorflow.keras.losses\n",
    "\n",
    "model.compile(optimizer='adam',\n",
    "              loss=tensorflow.keras.losses.SparseCategoricalCrossentropy(from_logits=True),\n",
    "              metrics=['accuracy'])"
   ]
  },
  {
   "cell_type": "code",
   "execution_count": 11,
   "metadata": {},
   "outputs": [
    {
     "name": "stdout",
     "output_type": "stream",
     "text": [
      "Model: \"sequential\"\n",
      "_________________________________________________________________\n",
      "Layer (type)                 Output Shape              Param #   \n",
      "=================================================================\n",
      "conv2d (Conv2D)              (None, 256, 256, 16)      448       \n",
      "_________________________________________________________________\n",
      "max_pooling2d (MaxPooling2D) (None, 128, 128, 16)      0         \n",
      "_________________________________________________________________\n",
      "conv2d_1 (Conv2D)            (None, 128, 128, 32)      4640      \n",
      "_________________________________________________________________\n",
      "max_pooling2d_1 (MaxPooling2 (None, 64, 64, 32)        0         \n",
      "_________________________________________________________________\n",
      "conv2d_2 (Conv2D)            (None, 64, 64, 64)        18496     \n",
      "_________________________________________________________________\n",
      "max_pooling2d_2 (MaxPooling2 (None, 32, 32, 64)        0         \n",
      "_________________________________________________________________\n",
      "flatten (Flatten)            (None, 65536)             0         \n",
      "_________________________________________________________________\n",
      "dense (Dense)                (None, 64)                4194368   \n",
      "_________________________________________________________________\n",
      "dense_1 (Dense)              (None, 16)                1040      \n",
      "=================================================================\n",
      "Total params: 4,218,992\n",
      "Trainable params: 4,218,992\n",
      "Non-trainable params: 0\n",
      "_________________________________________________________________\n"
     ]
    }
   ],
   "source": [
    "model.summary()"
   ]
  },
  {
   "cell_type": "code",
   "execution_count": 14,
   "metadata": {},
   "outputs": [
    {
     "name": "stdout",
     "output_type": "stream",
     "text": [
      "Epoch 1/10\n",
      "108/108 [==============================] - 108s 1s/step - loss: 5.8651 - accuracy: 0.1024 - val_loss: 2.5479 - val_accuracy: 0.1731\n",
      "Epoch 2/10\n",
      "108/108 [==============================] - 100s 929ms/step - loss: 5.3398 - accuracy: 0.2127 - val_loss: 2.2688 - val_accuracy: 0.3125\n",
      "Epoch 3/10\n",
      "108/108 [==============================] - 101s 932ms/step - loss: 4.8809 - accuracy: 0.2605 - val_loss: 2.1765 - val_accuracy: 0.3510\n",
      "Epoch 4/10\n",
      "108/108 [==============================] - 102s 940ms/step - loss: 4.6557 - accuracy: 0.3148 - val_loss: 2.2376 - val_accuracy: 0.3317\n",
      "Epoch 5/10\n",
      "108/108 [==============================] - 105s 969ms/step - loss: 4.3947 - accuracy: 0.3320 - val_loss: 2.0132 - val_accuracy: 0.4087\n",
      "Epoch 6/10\n",
      "108/108 [==============================] - 103s 954ms/step - loss: 4.2815 - accuracy: 0.3541 - val_loss: 2.4088 - val_accuracy: 0.3317\n",
      "Epoch 7/10\n",
      "108/108 [==============================] - 102s 944ms/step - loss: 4.1237 - accuracy: 0.3725 - val_loss: 2.2508 - val_accuracy: 0.4002\n",
      "Epoch 8/10\n",
      "108/108 [==============================] - 101s 932ms/step - loss: 4.1225 - accuracy: 0.3760 - val_loss: 2.2554 - val_accuracy: 0.3606\n",
      "Epoch 9/10\n",
      "108/108 [==============================] - 99s 920ms/step - loss: 3.8912 - accuracy: 0.4016 - val_loss: 2.1322 - val_accuracy: 0.4123\n",
      "Epoch 10/10\n",
      "108/108 [==============================] - 94s 874ms/step - loss: 3.8383 - accuracy: 0.4224 - val_loss: 2.1650 - val_accuracy: 0.4399\n"
     ]
    }
   ],
   "source": [
    "epochs=10\n",
    "history = model.fit(\n",
    "    train_generator,\n",
    "    steps_per_epoch = train_generator.samples // 32,\n",
    "    validation_data = validation_generator, \n",
    "    validation_steps = validation_generator.samples // 32,\n",
    "    class_weight=class_weight,\n",
    "    epochs = epochs)"
   ]
  },
  {
   "cell_type": "code",
   "execution_count": 15,
   "metadata": {},
   "outputs": [
    {
     "data": {
      "image/png": "[encoded data removed]",
      "text/plain": [
       "<Figure size 576x576 with 2 Axes>"
      ]
     },
     "metadata": {
      "needs_background": "light"
     },
     "output_type": "display_data"
    }
   ],
   "source": [
    "import matplotlib.pyplot as plt\n",
    "\n",
    "acc = history.history['accuracy']\n",
    "val_acc = history.history['val_accuracy']\n",
    "\n",
    "loss = history.history['loss']\n",
    "val_loss = history.history['val_loss']\n",
    "\n",
    "epochs_range = range(epochs)\n",
    "\n",
    "plt.figure(figsize=(8, 8))\n",
    "plt.subplot(1, 2, 1)\n",
    "plt.plot(epochs_range, acc, label='Training Accuracy')\n",
    "plt.plot(epochs_range, val_acc, label='Validation Accuracy')\n",
    "plt.legend(loc='lower right')\n",
    "plt.title('Training and Validation Accuracy')\n",
    "\n",
    "plt.subplot(1, 2, 2)\n",
    "plt.plot(epochs_range, loss, label='Training Loss')\n",
    "plt.plot(epochs_range, val_loss, label='Validation Loss')\n",
    "plt.legend(loc='upper right')\n",
    "plt.title('Training and Validation Loss')\n",
    "plt.show()"
   ]
  },
  {
   "cell_type": "code",
   "execution_count": 16,
   "metadata": {},
   "outputs": [
    {
     "name": "stdout",
     "output_type": "stream",
     "text": [
      "WARNING:tensorflow:From /Users/momeni/.pyenv/versions/3.7.7/envs/lewagon/lib/python3.7/site-packages/tensorflow/python/training/tracking/tracking.py:111: Model.state_updates (from tensorflow.python.keras.engine.training) is deprecated and will be removed in a future version.\n",
      "Instructions for updating:\n",
      "This property should not be used in TensorFlow 2.0, as updates are applied automatically.\n",
      "WARNING:tensorflow:From /Users/momeni/.pyenv/versions/3.7.7/envs/lewagon/lib/python3.7/site-packages/tensorflow/python/training/tracking/tracking.py:111: Layer.updates (from tensorflow.python.keras.engine.base_layer) is deprecated and will be removed in a future version.\n",
      "Instructions for updating:\n",
      "This property should not be used in TensorFlow 2.0, as updates are applied automatically.\n",
      "INFO:tensorflow:Assets written to: ../model/cnn_2_rm/assets\n"
     ]
    }
   ],
   "source": [
    "model.save(r'../model/cnn_2_rm')"
   ]
  },
  {
   "cell_type": "markdown",
   "metadata": {},
   "source": [
    "# Checking succession rate"
   ]
  },
  {
   "cell_type": "markdown",
   "metadata": {},
   "source": [
    "#### Loading test csv"
   ]
  },
  {
   "cell_type": "code",
   "execution_count": 20,
   "metadata": {},
   "outputs": [],
   "source": [
    "import pandas as pd\n",
    "test_df = pd.read_csv(\"../plantbase/data/test_data.csv\").drop(columns = \"Unnamed: 0\")"
   ]
  },
  {
   "cell_type": "code",
   "execution_count": 21,
   "metadata": {},
   "outputs": [
    {
     "data": {
      "text/html": [
       "<div>\n",
       "<style scoped>\n",
       "    .dataframe tbody tr th:only-of-type {\n",
       "        vertical-align: middle;\n",
       "    }\n",
       "\n",
       "    .dataframe tbody tr th {\n",
       "        vertical-align: top;\n",
       "    }\n",
       "\n",
       "    .dataframe thead th {\n",
       "        text-align: right;\n",
       "    }\n",
       "</style>\n",
       "<table border=\"1\" class=\"dataframe\">\n",
       "  <thead>\n",
       "    <tr style=\"text-align: right;\">\n",
       "      <th></th>\n",
       "      <th>id</th>\n",
       "      <th>genus</th>\n",
       "    </tr>\n",
       "  </thead>\n",
       "  <tbody>\n",
       "    <tr>\n",
       "      <th>0</th>\n",
       "      <td>100035</td>\n",
       "      <td>Verbascum</td>\n",
       "    </tr>\n",
       "    <tr>\n",
       "      <th>1</th>\n",
       "      <td>100058</td>\n",
       "      <td>Trifolium</td>\n",
       "    </tr>\n",
       "    <tr>\n",
       "      <th>2</th>\n",
       "      <td>100186</td>\n",
       "      <td>Veronica</td>\n",
       "    </tr>\n",
       "    <tr>\n",
       "      <th>3</th>\n",
       "      <td>100238</td>\n",
       "      <td>Campanula</td>\n",
       "    </tr>\n",
       "    <tr>\n",
       "      <th>4</th>\n",
       "      <td>1003</td>\n",
       "      <td>Geranium</td>\n",
       "    </tr>\n",
       "  </tbody>\n",
       "</table>\n",
       "</div>"
      ],
      "text/plain": [
       "       id      genus\n",
       "0  100035  Verbascum\n",
       "1  100058  Trifolium\n",
       "2  100186   Veronica\n",
       "3  100238  Campanula\n",
       "4    1003   Geranium"
      ]
     },
     "execution_count": 21,
     "metadata": {},
     "output_type": "execute_result"
    }
   ],
   "source": [
    "test_df = test_df[['id', 'genus']]\n",
    "test_df.head()"
   ]
  },
  {
   "cell_type": "code",
   "execution_count": 23,
   "metadata": {},
   "outputs": [
    {
     "data": {
      "text/plain": [
       "array(['Ajuga', 'Allium', 'Campanula', 'Cirsium', 'Crataegus', 'Gentiana',\n",
       "       'Geranium', 'Iris', 'Malva', 'Narcissus', 'Ophrys', 'Rosa',\n",
       "       'Trifolium', 'Verbascum', 'Veronica', 'Viola'], dtype=object)"
      ]
     },
     "execution_count": 23,
     "metadata": {},
     "output_type": "execute_result"
    }
   ],
   "source": [
    "import numpy as np\n",
    "columns = np.sort(test_df.genus.unique())\n",
    "columns"
   ]
  },
  {
   "cell_type": "code",
   "execution_count": 24,
   "metadata": {},
   "outputs": [
    {
     "data": {
      "text/plain": [
       "{0: 'Ajuga',\n",
       " 1: 'Allium',\n",
       " 2: 'Campanula',\n",
       " 3: 'Cirsium',\n",
       " 4: 'Crataegus',\n",
       " 5: 'Gentiana',\n",
       " 6: 'Geranium',\n",
       " 7: 'Iris',\n",
       " 8: 'Malva',\n",
       " 9: 'Narcissus',\n",
       " 10: 'Ophrys',\n",
       " 11: 'Rosa',\n",
       " 12: 'Trifolium',\n",
       " 13: 'Verbascum',\n",
       " 14: 'Veronica',\n",
       " 15: 'Viola'}"
      ]
     },
     "execution_count": 24,
     "metadata": {},
     "output_type": "execute_result"
    }
   ],
   "source": [
    "rename_columns = {}\n",
    "col_index = 0\n",
    "for n in columns:\n",
    "    rename_columns[col_index] = n\n",
    "    col_index += 1\n",
    "    \n",
    "rename_columns"
   ]
  },
  {
   "cell_type": "markdown",
   "metadata": {},
   "source": [
    "#### Loading test images using tensorflow load_img and img_to_array"
   ]
  },
  {
   "cell_type": "code",
   "execution_count": 25,
   "metadata": {},
   "outputs": [],
   "source": [
    "from tensorflow.keras.preprocessing.image import load_img\n",
    "from tensorflow.keras.preprocessing.image import img_to_array"
   ]
  },
  {
   "cell_type": "code",
   "execution_count": 26,
   "metadata": {},
   "outputs": [],
   "source": [
    "X_list = []\n",
    "y_list = []\n",
    "\n",
    "for index, row in test_df.iterrows():\n",
    "    img = load_img(rf\"../raw_data/test/{row.id}.jpg\", target_size=(256, 256))\n",
    "    img = tensorflow.keras.preprocessing.image.img_to_array(img)\n",
    "    #img = tensorflow.expand_dims(img, 0)\n",
    "    X_list.append(img)\n",
    "    y_list.append((row.genus, row.id))"
   ]
  },
  {
   "cell_type": "code",
   "execution_count": 27,
   "metadata": {},
   "outputs": [
    {
     "data": {
      "text/html": [
       "<div>\n",
       "<style scoped>\n",
       "    .dataframe tbody tr th:only-of-type {\n",
       "        vertical-align: middle;\n",
       "    }\n",
       "\n",
       "    .dataframe tbody tr th {\n",
       "        vertical-align: top;\n",
       "    }\n",
       "\n",
       "    .dataframe thead th {\n",
       "        text-align: right;\n",
       "    }\n",
       "</style>\n",
       "<table border=\"1\" class=\"dataframe\">\n",
       "  <thead>\n",
       "    <tr style=\"text-align: right;\">\n",
       "      <th></th>\n",
       "      <th>true_genus</th>\n",
       "      <th>id</th>\n",
       "    </tr>\n",
       "  </thead>\n",
       "  <tbody>\n",
       "    <tr>\n",
       "      <th>0</th>\n",
       "      <td>Verbascum</td>\n",
       "      <td>100035</td>\n",
       "    </tr>\n",
       "    <tr>\n",
       "      <th>1</th>\n",
       "      <td>Trifolium</td>\n",
       "      <td>100058</td>\n",
       "    </tr>\n",
       "    <tr>\n",
       "      <th>2</th>\n",
       "      <td>Veronica</td>\n",
       "      <td>100186</td>\n",
       "    </tr>\n",
       "    <tr>\n",
       "      <th>3</th>\n",
       "      <td>Campanula</td>\n",
       "      <td>100238</td>\n",
       "    </tr>\n",
       "    <tr>\n",
       "      <th>4</th>\n",
       "      <td>Geranium</td>\n",
       "      <td>1003</td>\n",
       "    </tr>\n",
       "  </tbody>\n",
       "</table>\n",
       "</div>"
      ],
      "text/plain": [
       "  true_genus      id\n",
       "0  Verbascum  100035\n",
       "1  Trifolium  100058\n",
       "2   Veronica  100186\n",
       "3  Campanula  100238\n",
       "4   Geranium    1003"
      ]
     },
     "execution_count": 27,
     "metadata": {},
     "output_type": "execute_result"
    }
   ],
   "source": [
    "y_true_df = pd.DataFrame(y_list, columns = ['true_genus', 'id'])\n",
    "y_true_df.head()"
   ]
  },
  {
   "cell_type": "code",
   "execution_count": 28,
   "metadata": {},
   "outputs": [],
   "source": [
    "X_test = np.stack(X_list, axis=0)"
   ]
  },
  {
   "cell_type": "code",
   "execution_count": 29,
   "metadata": {},
   "outputs": [],
   "source": [
    "y_pred = model.predict(X_test)"
   ]
  },
  {
   "cell_type": "code",
   "execution_count": 30,
   "metadata": {},
   "outputs": [
    {
     "data": {
      "text/plain": [
       "(1341, 16)"
      ]
     },
     "execution_count": 30,
     "metadata": {},
     "output_type": "execute_result"
    }
   ],
   "source": [
    "y_pred.shape"
   ]
  },
  {
   "cell_type": "code",
   "execution_count": 31,
   "metadata": {},
   "outputs": [
    {
     "data": {
      "text/html": [
       "<div>\n",
       "<style scoped>\n",
       "    .dataframe tbody tr th:only-of-type {\n",
       "        vertical-align: middle;\n",
       "    }\n",
       "\n",
       "    .dataframe tbody tr th {\n",
       "        vertical-align: top;\n",
       "    }\n",
       "\n",
       "    .dataframe thead th {\n",
       "        text-align: right;\n",
       "    }\n",
       "</style>\n",
       "<table border=\"1\" class=\"dataframe\">\n",
       "  <thead>\n",
       "    <tr style=\"text-align: right;\">\n",
       "      <th></th>\n",
       "      <th>Ajuga</th>\n",
       "      <th>Allium</th>\n",
       "      <th>Campanula</th>\n",
       "      <th>Cirsium</th>\n",
       "      <th>Crataegus</th>\n",
       "      <th>Gentiana</th>\n",
       "      <th>Geranium</th>\n",
       "      <th>Iris</th>\n",
       "      <th>Malva</th>\n",
       "      <th>Narcissus</th>\n",
       "      <th>Ophrys</th>\n",
       "      <th>Rosa</th>\n",
       "      <th>Trifolium</th>\n",
       "      <th>Verbascum</th>\n",
       "      <th>Veronica</th>\n",
       "      <th>Viola</th>\n",
       "    </tr>\n",
       "  </thead>\n",
       "  <tbody>\n",
       "    <tr>\n",
       "      <th>0</th>\n",
       "      <td>-285.933502</td>\n",
       "      <td>-2118.197998</td>\n",
       "      <td>-1176.220093</td>\n",
       "      <td>-3163.041748</td>\n",
       "      <td>-1924.844482</td>\n",
       "      <td>2217.587402</td>\n",
       "      <td>-1922.501465</td>\n",
       "      <td>3352.841309</td>\n",
       "      <td>-4929.559082</td>\n",
       "      <td>3000.468262</td>\n",
       "      <td>2179.360352</td>\n",
       "      <td>-401.211456</td>\n",
       "      <td>-1010.747009</td>\n",
       "      <td>3593.494873</td>\n",
       "      <td>-1802.197021</td>\n",
       "      <td>2668.940430</td>\n",
       "    </tr>\n",
       "    <tr>\n",
       "      <th>1</th>\n",
       "      <td>2426.232422</td>\n",
       "      <td>-330.194641</td>\n",
       "      <td>-567.814514</td>\n",
       "      <td>6.692516</td>\n",
       "      <td>-1428.028687</td>\n",
       "      <td>3461.447266</td>\n",
       "      <td>1236.590332</td>\n",
       "      <td>1336.542969</td>\n",
       "      <td>-1586.555176</td>\n",
       "      <td>-3421.212158</td>\n",
       "      <td>-989.946411</td>\n",
       "      <td>441.172363</td>\n",
       "      <td>1889.692017</td>\n",
       "      <td>19.945452</td>\n",
       "      <td>3356.204346</td>\n",
       "      <td>-790.923523</td>\n",
       "    </tr>\n",
       "    <tr>\n",
       "      <th>2</th>\n",
       "      <td>549.941711</td>\n",
       "      <td>-362.000854</td>\n",
       "      <td>317.960785</td>\n",
       "      <td>-415.623718</td>\n",
       "      <td>-781.978088</td>\n",
       "      <td>560.017883</td>\n",
       "      <td>-101.627243</td>\n",
       "      <td>114.272804</td>\n",
       "      <td>-535.536011</td>\n",
       "      <td>-510.481812</td>\n",
       "      <td>54.246185</td>\n",
       "      <td>-618.681091</td>\n",
       "      <td>-240.110413</td>\n",
       "      <td>-85.314590</td>\n",
       "      <td>447.937042</td>\n",
       "      <td>334.795013</td>\n",
       "    </tr>\n",
       "    <tr>\n",
       "      <th>3</th>\n",
       "      <td>-935.699707</td>\n",
       "      <td>374.205078</td>\n",
       "      <td>132.452972</td>\n",
       "      <td>2723.860596</td>\n",
       "      <td>-3890.352051</td>\n",
       "      <td>-1452.978271</td>\n",
       "      <td>1085.764282</td>\n",
       "      <td>1819.084351</td>\n",
       "      <td>2144.253418</td>\n",
       "      <td>-4551.235352</td>\n",
       "      <td>-586.116272</td>\n",
       "      <td>-228.725342</td>\n",
       "      <td>336.069214</td>\n",
       "      <td>-1476.329590</td>\n",
       "      <td>-3009.104492</td>\n",
       "      <td>-298.614532</td>\n",
       "    </tr>\n",
       "    <tr>\n",
       "      <th>4</th>\n",
       "      <td>707.021179</td>\n",
       "      <td>237.021027</td>\n",
       "      <td>1574.736816</td>\n",
       "      <td>172.984390</td>\n",
       "      <td>-1857.806152</td>\n",
       "      <td>136.939514</td>\n",
       "      <td>1559.512817</td>\n",
       "      <td>730.687988</td>\n",
       "      <td>825.971619</td>\n",
       "      <td>-1688.931030</td>\n",
       "      <td>932.374268</td>\n",
       "      <td>-742.151245</td>\n",
       "      <td>343.940125</td>\n",
       "      <td>-2025.420166</td>\n",
       "      <td>-30.391790</td>\n",
       "      <td>1596.375610</td>\n",
       "    </tr>\n",
       "  </tbody>\n",
       "</table>\n",
       "</div>"
      ],
      "text/plain": [
       "         Ajuga       Allium    Campanula      Cirsium    Crataegus  \\\n",
       "0  -285.933502 -2118.197998 -1176.220093 -3163.041748 -1924.844482   \n",
       "1  2426.232422  -330.194641  -567.814514     6.692516 -1428.028687   \n",
       "2   549.941711  -362.000854   317.960785  -415.623718  -781.978088   \n",
       "3  -935.699707   374.205078   132.452972  2723.860596 -3890.352051   \n",
       "4   707.021179   237.021027  1574.736816   172.984390 -1857.806152   \n",
       "\n",
       "      Gentiana     Geranium         Iris        Malva    Narcissus  \\\n",
       "0  2217.587402 -1922.501465  3352.841309 -4929.559082  3000.468262   \n",
       "1  3461.447266  1236.590332  1336.542969 -1586.555176 -3421.212158   \n",
       "2   560.017883  -101.627243   114.272804  -535.536011  -510.481812   \n",
       "3 -1452.978271  1085.764282  1819.084351  2144.253418 -4551.235352   \n",
       "4   136.939514  1559.512817   730.687988   825.971619 -1688.931030   \n",
       "\n",
       "        Ophrys        Rosa    Trifolium    Verbascum     Veronica        Viola  \n",
       "0  2179.360352 -401.211456 -1010.747009  3593.494873 -1802.197021  2668.940430  \n",
       "1  -989.946411  441.172363  1889.692017    19.945452  3356.204346  -790.923523  \n",
       "2    54.246185 -618.681091  -240.110413   -85.314590   447.937042   334.795013  \n",
       "3  -586.116272 -228.725342   336.069214 -1476.329590 -3009.104492  -298.614532  \n",
       "4   932.374268 -742.151245   343.940125 -2025.420166   -30.391790  1596.375610  "
      ]
     },
     "execution_count": 31,
     "metadata": {},
     "output_type": "execute_result"
    }
   ],
   "source": [
    "y_pred_df = pd.DataFrame(y_pred)\n",
    "y_pred_df = y_pred_df.rename(columns = rename_columns)\n",
    "y_pred_df.head()"
   ]
  },
  {
   "cell_type": "code",
   "execution_count": 32,
   "metadata": {},
   "outputs": [],
   "source": [
    "y_true = np.stack(y_list, axis = 0)"
   ]
  },
  {
   "cell_type": "code",
   "execution_count": 33,
   "metadata": {},
   "outputs": [
    {
     "data": {
      "text/plain": [
       "0       Verbascum\n",
       "1        Gentiana\n",
       "2        Gentiana\n",
       "3         Cirsium\n",
       "4           Viola\n",
       "5         Cirsium\n",
       "6          Ophrys\n",
       "7            Iris\n",
       "8       Trifolium\n",
       "9       Campanula\n",
       "10         Allium\n",
       "11       Geranium\n",
       "12      Campanula\n",
       "13          Malva\n",
       "14        Cirsium\n",
       "15         Ophrys\n",
       "16      Campanula\n",
       "17        Cirsium\n",
       "18           Iris\n",
       "19        Cirsium\n",
       "20        Cirsium\n",
       "21         Allium\n",
       "22      Campanula\n",
       "23      Campanula\n",
       "24         Allium\n",
       "25         Ophrys\n",
       "26      Verbascum\n",
       "27       Geranium\n",
       "28           Iris\n",
       "29           Iris\n",
       "          ...    \n",
       "1311        Viola\n",
       "1312         Rosa\n",
       "1313     Gentiana\n",
       "1314      Cirsium\n",
       "1315      Cirsium\n",
       "1316        Malva\n",
       "1317    Campanula\n",
       "1318       Ophrys\n",
       "1319        Malva\n",
       "1320    Trifolium\n",
       "1321      Cirsium\n",
       "1322        Viola\n",
       "1323       Allium\n",
       "1324      Cirsium\n",
       "1325        Malva\n",
       "1326     Gentiana\n",
       "1327      Cirsium\n",
       "1328         Rosa\n",
       "1329        Viola\n",
       "1330         Iris\n",
       "1331         Rosa\n",
       "1332    Crataegus\n",
       "1333      Cirsium\n",
       "1334      Cirsium\n",
       "1335    Crataegus\n",
       "1336         Iris\n",
       "1337    Verbascum\n",
       "1338       Allium\n",
       "1339        Viola\n",
       "1340      Cirsium\n",
       "Name: pred_genus, Length: 1341, dtype: object"
      ]
     },
     "execution_count": 33,
     "metadata": {},
     "output_type": "execute_result"
    }
   ],
   "source": [
    "y_pred_df['pred_genus'] = y_pred_df.idxmax(axis = 1)\n",
    "y_pred_df['pred_genus']"
   ]
  },
  {
   "cell_type": "code",
   "execution_count": 34,
   "metadata": {},
   "outputs": [],
   "source": [
    "prediction_review = (y_pred_df['pred_genus'] == y_true_df['true_genus'])"
   ]
  },
  {
   "cell_type": "code",
   "execution_count": 35,
   "metadata": {},
   "outputs": [],
   "source": [
    "prediction_vec_df = y_pred_df[['pred_genus']].copy()\n",
    "prediction_vec_df['true_genus'] = y_true_df['true_genus'].copy()\n",
    "prediction_vec_df['result'] = (y_pred_df['pred_genus'] == y_true_df['true_genus'])"
   ]
  },
  {
   "cell_type": "code",
   "execution_count": 36,
   "metadata": {},
   "outputs": [
    {
     "data": {
      "text/html": [
       "<div>\n",
       "<style scoped>\n",
       "    .dataframe tbody tr th:only-of-type {\n",
       "        vertical-align: middle;\n",
       "    }\n",
       "\n",
       "    .dataframe tbody tr th {\n",
       "        vertical-align: top;\n",
       "    }\n",
       "\n",
       "    .dataframe thead th {\n",
       "        text-align: right;\n",
       "    }\n",
       "</style>\n",
       "<table border=\"1\" class=\"dataframe\">\n",
       "  <thead>\n",
       "    <tr style=\"text-align: right;\">\n",
       "      <th></th>\n",
       "      <th>pred_genus</th>\n",
       "      <th>true_genus</th>\n",
       "      <th>result</th>\n",
       "      <th>false</th>\n",
       "      <th>true</th>\n",
       "    </tr>\n",
       "  </thead>\n",
       "  <tbody>\n",
       "    <tr>\n",
       "      <th>0</th>\n",
       "      <td>Verbascum</td>\n",
       "      <td>Verbascum</td>\n",
       "      <td>True</td>\n",
       "      <td>0</td>\n",
       "      <td>1</td>\n",
       "    </tr>\n",
       "    <tr>\n",
       "      <th>1</th>\n",
       "      <td>Gentiana</td>\n",
       "      <td>Trifolium</td>\n",
       "      <td>False</td>\n",
       "      <td>1</td>\n",
       "      <td>0</td>\n",
       "    </tr>\n",
       "  </tbody>\n",
       "</table>\n",
       "</div>"
      ],
      "text/plain": [
       "  pred_genus true_genus  result  false  true\n",
       "0  Verbascum  Verbascum    True      0     1\n",
       "1   Gentiana  Trifolium   False      1     0"
      ]
     },
     "execution_count": 36,
     "metadata": {},
     "output_type": "execute_result"
    }
   ],
   "source": [
    "prediction_vec_df['false'] = prediction_vec_df['result'].apply(lambda x: 1 if x == False else 0)\n",
    "prediction_vec_df['true'] = prediction_vec_df['result'].apply(lambda x: 1 if x == True else 0)\n",
    "prediction_vec_df.head(2)"
   ]
  },
  {
   "cell_type": "code",
   "execution_count": 37,
   "metadata": {},
   "outputs": [],
   "source": [
    "true_pos_neg = prediction_vec_df.groupby('true_genus').sum().drop(columns=['result'])\n",
    "true_pos_neg['percent_true'] = true_pos_neg['true'] / (true_pos_neg['true'] + true_pos_neg['false'])"
   ]
  },
  {
   "cell_type": "code",
   "execution_count": 38,
   "metadata": {},
   "outputs": [],
   "source": [
    "success_ratio = round(true_pos_neg[['percent_true']]*100).sort_values(by='percent_true', ascending=False)"
   ]
  },
  {
   "cell_type": "code",
   "execution_count": 39,
   "metadata": {},
   "outputs": [
    {
     "data": {
      "text/html": [
       "<div>\n",
       "<style scoped>\n",
       "    .dataframe tbody tr th:only-of-type {\n",
       "        vertical-align: middle;\n",
       "    }\n",
       "\n",
       "    .dataframe tbody tr th {\n",
       "        vertical-align: top;\n",
       "    }\n",
       "\n",
       "    .dataframe thead th {\n",
       "        text-align: right;\n",
       "    }\n",
       "</style>\n",
       "<table border=\"1\" class=\"dataframe\">\n",
       "  <thead>\n",
       "    <tr style=\"text-align: right;\">\n",
       "      <th></th>\n",
       "      <th>percent_true</th>\n",
       "    </tr>\n",
       "    <tr>\n",
       "      <th>true_genus</th>\n",
       "      <th></th>\n",
       "    </tr>\n",
       "  </thead>\n",
       "  <tbody>\n",
       "    <tr>\n",
       "      <th>Cirsium</th>\n",
       "      <td>72.0</td>\n",
       "    </tr>\n",
       "    <tr>\n",
       "      <th>Verbascum</th>\n",
       "      <td>64.0</td>\n",
       "    </tr>\n",
       "    <tr>\n",
       "      <th>Crataegus</th>\n",
       "      <td>56.0</td>\n",
       "    </tr>\n",
       "    <tr>\n",
       "      <th>Ajuga</th>\n",
       "      <td>52.0</td>\n",
       "    </tr>\n",
       "    <tr>\n",
       "      <th>Gentiana</th>\n",
       "      <td>52.0</td>\n",
       "    </tr>\n",
       "    <tr>\n",
       "      <th>Rosa</th>\n",
       "      <td>47.0</td>\n",
       "    </tr>\n",
       "    <tr>\n",
       "      <th>Ophrys</th>\n",
       "      <td>46.0</td>\n",
       "    </tr>\n",
       "    <tr>\n",
       "      <th>Iris</th>\n",
       "      <td>43.0</td>\n",
       "    </tr>\n",
       "    <tr>\n",
       "      <th>Malva</th>\n",
       "      <td>41.0</td>\n",
       "    </tr>\n",
       "    <tr>\n",
       "      <th>Allium</th>\n",
       "      <td>34.0</td>\n",
       "    </tr>\n",
       "    <tr>\n",
       "      <th>Geranium</th>\n",
       "      <td>33.0</td>\n",
       "    </tr>\n",
       "    <tr>\n",
       "      <th>Narcissus</th>\n",
       "      <td>26.0</td>\n",
       "    </tr>\n",
       "    <tr>\n",
       "      <th>Campanula</th>\n",
       "      <td>25.0</td>\n",
       "    </tr>\n",
       "    <tr>\n",
       "      <th>Veronica</th>\n",
       "      <td>17.0</td>\n",
       "    </tr>\n",
       "    <tr>\n",
       "      <th>Trifolium</th>\n",
       "      <td>11.0</td>\n",
       "    </tr>\n",
       "    <tr>\n",
       "      <th>Viola</th>\n",
       "      <td>9.0</td>\n",
       "    </tr>\n",
       "  </tbody>\n",
       "</table>\n",
       "</div>"
      ],
      "text/plain": [
       "            percent_true\n",
       "true_genus              \n",
       "Cirsium             72.0\n",
       "Verbascum           64.0\n",
       "Crataegus           56.0\n",
       "Ajuga               52.0\n",
       "Gentiana            52.0\n",
       "Rosa                47.0\n",
       "Ophrys              46.0\n",
       "Iris                43.0\n",
       "Malva               41.0\n",
       "Allium              34.0\n",
       "Geranium            33.0\n",
       "Narcissus           26.0\n",
       "Campanula           25.0\n",
       "Veronica            17.0\n",
       "Trifolium           11.0\n",
       "Viola                9.0"
      ]
     },
     "execution_count": 39,
     "metadata": {},
     "output_type": "execute_result"
    }
   ],
   "source": [
    "success_ratio"
   ]
  },
  {
   "cell_type": "code",
   "execution_count": null,
   "metadata": {},
   "outputs": [],
   "source": []
  }
 ],
 "metadata": {
  "kernelspec": {
   "display_name": "Python 3",
   "language": "python",
   "name": "python3"
  },
  "language_info": {
   "codemirror_mode": {
    "name": "ipython",
    "version": 3
   },
   "file_extension": ".py",
   "mimetype": "text/x-python",
   "name": "python",
   "nbconvert_exporter": "python",
   "pygments_lexer": "ipython3",
   "version": "3.7.7"
  },
  "toc": {
   "base_numbering": 1,
   "nav_menu": {},
   "number_sections": false,
   "sideBar": true,
   "skip_h1_title": false,
   "title_cell": "Table of Contents",
   "title_sidebar": "Contents",
   "toc_cell": false,
   "toc_position": {},
   "toc_section_display": true,
   "toc_window_display": false
  }
 },
 "nbformat": 4,
 "nbformat_minor": 4
}
