{
 "cells": [
  {
   "cell_type": "code",
   "execution_count": 2,
   "metadata": {},
   "outputs": [],
   "source": [
    "import numpy as np\n",
    "import os\n",
    "import PIL\n",
    "import PIL.Image\n",
    "import pandas as pd"
   ]
  },
  {
   "cell_type": "markdown",
   "metadata": {},
   "source": [
    "# Importing train data csv"
   ]
  },
  {
   "cell_type": "code",
   "execution_count": 12,
   "metadata": {},
   "outputs": [],
   "source": [
    "#importing the train csv\n",
    "\n",
    "import pandas as pd\n",
    "\n",
    "plants=pd.read_csv('../plantbase/data/priority_plants_VF.csv').drop(columns='Unnamed: 0')"
   ]
  },
  {
   "cell_type": "code",
   "execution_count": 13,
   "metadata": {},
   "outputs": [
    {
     "data": {
      "text/html": [
       "<div>\n",
       "<style scoped>\n",
       "    .dataframe tbody tr th:only-of-type {\n",
       "        vertical-align: middle;\n",
       "    }\n",
       "\n",
       "    .dataframe tbody tr th {\n",
       "        vertical-align: top;\n",
       "    }\n",
       "\n",
       "    .dataframe thead th {\n",
       "        text-align: right;\n",
       "    }\n",
       "</style>\n",
       "<table border=\"1\" class=\"dataframe\">\n",
       "  <thead>\n",
       "    <tr style=\"text-align: right;\">\n",
       "      <th></th>\n",
       "      <th>id</th>\n",
       "      <th>family</th>\n",
       "      <th>genus</th>\n",
       "      <th>species</th>\n",
       "      <th>content</th>\n",
       "    </tr>\n",
       "  </thead>\n",
       "  <tbody>\n",
       "    <tr>\n",
       "      <th>0</th>\n",
       "      <td>100005</td>\n",
       "      <td>Lamiaceae</td>\n",
       "      <td>Ajuga</td>\n",
       "      <td>Ajuga reptans L.</td>\n",
       "      <td>Flower</td>\n",
       "    </tr>\n",
       "    <tr>\n",
       "      <th>1</th>\n",
       "      <td>100038</td>\n",
       "      <td>Iridaceae</td>\n",
       "      <td>Iris</td>\n",
       "      <td>Iris lutescens Lam.</td>\n",
       "      <td>Flower</td>\n",
       "    </tr>\n",
       "    <tr>\n",
       "      <th>2</th>\n",
       "      <td>100144</td>\n",
       "      <td>Malvaceae</td>\n",
       "      <td>Malva</td>\n",
       "      <td>Malva sylvestris L.</td>\n",
       "      <td>Flower</td>\n",
       "    </tr>\n",
       "    <tr>\n",
       "      <th>3</th>\n",
       "      <td>10019</td>\n",
       "      <td>Orchidaceae</td>\n",
       "      <td>Ophrys</td>\n",
       "      <td>Ophrys apifera Huds.</td>\n",
       "      <td>Flower</td>\n",
       "    </tr>\n",
       "    <tr>\n",
       "      <th>4</th>\n",
       "      <td>100190</td>\n",
       "      <td>Geraniaceae</td>\n",
       "      <td>Geranium</td>\n",
       "      <td>Geranium sylvaticum L.</td>\n",
       "      <td>Flower</td>\n",
       "    </tr>\n",
       "    <tr>\n",
       "      <th>5</th>\n",
       "      <td>100201</td>\n",
       "      <td>Rosaceae</td>\n",
       "      <td>Crataegus</td>\n",
       "      <td>Crataegus germanica (L.) Kuntze</td>\n",
       "      <td>Flower</td>\n",
       "    </tr>\n",
       "    <tr>\n",
       "      <th>6</th>\n",
       "      <td>100229</td>\n",
       "      <td>Fabaceae</td>\n",
       "      <td>Trifolium</td>\n",
       "      <td>Trifolium alpinum L.</td>\n",
       "      <td>Flower</td>\n",
       "    </tr>\n",
       "    <tr>\n",
       "      <th>7</th>\n",
       "      <td>100255</td>\n",
       "      <td>Violaceae</td>\n",
       "      <td>Viola</td>\n",
       "      <td>Viola odorata L.</td>\n",
       "      <td>Flower</td>\n",
       "    </tr>\n",
       "    <tr>\n",
       "      <th>8</th>\n",
       "      <td>100273</td>\n",
       "      <td>Scrophulariaceae</td>\n",
       "      <td>Verbascum</td>\n",
       "      <td>Verbascum thapsus L.</td>\n",
       "      <td>Flower</td>\n",
       "    </tr>\n",
       "    <tr>\n",
       "      <th>9</th>\n",
       "      <td>100303</td>\n",
       "      <td>Rosaceae</td>\n",
       "      <td>Crataegus</td>\n",
       "      <td>Crataegus germanica (L.) Kuntze</td>\n",
       "      <td>Flower</td>\n",
       "    </tr>\n",
       "  </tbody>\n",
       "</table>\n",
       "</div>"
      ],
      "text/plain": [
       "       id            family      genus                          species  \\\n",
       "0  100005         Lamiaceae      Ajuga                 Ajuga reptans L.   \n",
       "1  100038         Iridaceae       Iris              Iris lutescens Lam.   \n",
       "2  100144         Malvaceae      Malva              Malva sylvestris L.   \n",
       "3   10019       Orchidaceae     Ophrys             Ophrys apifera Huds.   \n",
       "4  100190       Geraniaceae   Geranium           Geranium sylvaticum L.   \n",
       "5  100201          Rosaceae  Crataegus  Crataegus germanica (L.) Kuntze   \n",
       "6  100229          Fabaceae  Trifolium             Trifolium alpinum L.   \n",
       "7  100255         Violaceae      Viola                 Viola odorata L.   \n",
       "8  100273  Scrophulariaceae  Verbascum             Verbascum thapsus L.   \n",
       "9  100303          Rosaceae  Crataegus  Crataegus germanica (L.) Kuntze   \n",
       "\n",
       "  content  \n",
       "0  Flower  \n",
       "1  Flower  \n",
       "2  Flower  \n",
       "3  Flower  \n",
       "4  Flower  \n",
       "5  Flower  \n",
       "6  Flower  \n",
       "7  Flower  \n",
       "8  Flower  \n",
       "9  Flower  "
      ]
     },
     "execution_count": 13,
     "metadata": {},
     "output_type": "execute_result"
    }
   ],
   "source": [
    "plants.head(10)"
   ]
  },
  {
   "cell_type": "markdown",
   "metadata": {},
   "source": [
    "# Understanding the train data balance & setting class_weights"
   ]
  },
  {
   "cell_type": "code",
   "execution_count": 28,
   "metadata": {},
   "outputs": [
    {
     "data": {
      "text/plain": [
       "{'Ajuga': 0,\n",
       " 'Allium': 1,\n",
       " 'Campanula': 2,\n",
       " 'Cirsium': 3,\n",
       " 'Crataegus': 4,\n",
       " 'Gentiana': 5,\n",
       " 'Geranium': 6,\n",
       " 'Iris': 7,\n",
       " 'Malva': 8,\n",
       " 'Narcissus': 9,\n",
       " 'Ophrys': 10,\n",
       " 'Rosa': 11,\n",
       " 'Trifolium': 12,\n",
       " 'Verbascum': 13,\n",
       " 'Veronica': 14,\n",
       " 'Viola': 15}"
      ]
     },
     "execution_count": 28,
     "metadata": {},
     "output_type": "execute_result"
    }
   ],
   "source": [
    "#Class names based on genus\n",
    "class_names={0: 'Ajuga',\n",
    " 1: 'Allium',\n",
    " 2: 'Campanula',\n",
    " 3: 'Cirsium',\n",
    " 4: 'Crataegus',\n",
    " 5: 'Gentiana',\n",
    " 6: 'Geranium',\n",
    " 7: 'Iris',\n",
    " 8: 'Malva',\n",
    " 9: 'Narcissus',\n",
    " 10: 'Ophrys',\n",
    " 11: 'Rosa',\n",
    " 12: 'Trifolium',\n",
    " 13: 'Verbascum',\n",
    " 14: 'Veronica',\n",
    " 15: 'Viola'}"
   ]
  },
  {
   "cell_type": "code",
   "execution_count": 29,
   "metadata": {},
   "outputs": [
    {
     "data": {
      "text/plain": [
       "{'Ajuga': 0,\n",
       " 'Allium': 1,\n",
       " 'Campanula': 2,\n",
       " 'Cirsium': 3,\n",
       " 'Crataegus': 4,\n",
       " 'Gentiana': 5,\n",
       " 'Geranium': 6,\n",
       " 'Iris': 7,\n",
       " 'Malva': 8,\n",
       " 'Narcissus': 9,\n",
       " 'Ophrys': 10,\n",
       " 'Rosa': 11,\n",
       " 'Trifolium': 12,\n",
       " 'Verbascum': 13,\n",
       " 'Veronica': 14,\n",
       " 'Viola': 15}"
      ]
     },
     "execution_count": 29,
     "metadata": {},
     "output_type": "execute_result"
    }
   ],
   "source": [
    "#flipping the dictionary so we can assign class number to every genus\n",
    "class_numbers= {} \n",
    "for key, value in class_names.items(): \n",
    "   if value in class_numbers: \n",
    "       class_numbers[value].append(key) \n",
    "   else: \n",
    "       class_numbers[value]=key \n",
    "        \n",
    "class_numbers"
   ]
  },
  {
   "cell_type": "code",
   "execution_count": 45,
   "metadata": {},
   "outputs": [
    {
     "data": {
      "text/html": [
       "<div>\n",
       "<style scoped>\n",
       "    .dataframe tbody tr th:only-of-type {\n",
       "        vertical-align: middle;\n",
       "    }\n",
       "\n",
       "    .dataframe tbody tr th {\n",
       "        vertical-align: top;\n",
       "    }\n",
       "\n",
       "    .dataframe thead th {\n",
       "        text-align: right;\n",
       "    }\n",
       "</style>\n",
       "<table border=\"1\" class=\"dataframe\">\n",
       "  <thead>\n",
       "    <tr style=\"text-align: right;\">\n",
       "      <th></th>\n",
       "      <th>id</th>\n",
       "      <th>family</th>\n",
       "      <th>genus</th>\n",
       "      <th>species</th>\n",
       "      <th>content</th>\n",
       "      <th>class</th>\n",
       "    </tr>\n",
       "  </thead>\n",
       "  <tbody>\n",
       "    <tr>\n",
       "      <th>0</th>\n",
       "      <td>100005</td>\n",
       "      <td>Lamiaceae</td>\n",
       "      <td>Ajuga</td>\n",
       "      <td>Ajuga reptans L.</td>\n",
       "      <td>Flower</td>\n",
       "      <td>0</td>\n",
       "    </tr>\n",
       "    <tr>\n",
       "      <th>1</th>\n",
       "      <td>100038</td>\n",
       "      <td>Iridaceae</td>\n",
       "      <td>Iris</td>\n",
       "      <td>Iris lutescens Lam.</td>\n",
       "      <td>Flower</td>\n",
       "      <td>7</td>\n",
       "    </tr>\n",
       "    <tr>\n",
       "      <th>2</th>\n",
       "      <td>100144</td>\n",
       "      <td>Malvaceae</td>\n",
       "      <td>Malva</td>\n",
       "      <td>Malva sylvestris L.</td>\n",
       "      <td>Flower</td>\n",
       "      <td>8</td>\n",
       "    </tr>\n",
       "    <tr>\n",
       "      <th>3</th>\n",
       "      <td>10019</td>\n",
       "      <td>Orchidaceae</td>\n",
       "      <td>Ophrys</td>\n",
       "      <td>Ophrys apifera Huds.</td>\n",
       "      <td>Flower</td>\n",
       "      <td>10</td>\n",
       "    </tr>\n",
       "    <tr>\n",
       "      <th>4</th>\n",
       "      <td>100190</td>\n",
       "      <td>Geraniaceae</td>\n",
       "      <td>Geranium</td>\n",
       "      <td>Geranium sylvaticum L.</td>\n",
       "      <td>Flower</td>\n",
       "      <td>6</td>\n",
       "    </tr>\n",
       "  </tbody>\n",
       "</table>\n",
       "</div>"
      ],
      "text/plain": [
       "       id       family     genus                 species content  class\n",
       "0  100005    Lamiaceae     Ajuga        Ajuga reptans L.  Flower      0\n",
       "1  100038    Iridaceae      Iris     Iris lutescens Lam.  Flower      7\n",
       "2  100144    Malvaceae     Malva     Malva sylvestris L.  Flower      8\n",
       "3   10019  Orchidaceae    Ophrys    Ophrys apifera Huds.  Flower     10\n",
       "4  100190  Geraniaceae  Geranium  Geranium sylvaticum L.  Flower      6"
      ]
     },
     "execution_count": 45,
     "metadata": {},
     "output_type": "execute_result"
    }
   ],
   "source": [
    "#Assigning the class number to each genus\n",
    "plants['class']=plants['genus'].map(class_numbers)\n",
    "\n",
    "plants.head()"
   ]
  },
  {
   "cell_type": "code",
   "execution_count": 46,
   "metadata": {},
   "outputs": [
    {
     "data": {
      "text/html": [
       "<div>\n",
       "<style scoped>\n",
       "    .dataframe tbody tr th:only-of-type {\n",
       "        vertical-align: middle;\n",
       "    }\n",
       "\n",
       "    .dataframe tbody tr th {\n",
       "        vertical-align: top;\n",
       "    }\n",
       "\n",
       "    .dataframe thead th {\n",
       "        text-align: right;\n",
       "    }\n",
       "</style>\n",
       "<table border=\"1\" class=\"dataframe\">\n",
       "  <thead>\n",
       "    <tr style=\"text-align: right;\">\n",
       "      <th></th>\n",
       "      <th>id</th>\n",
       "      <th>family</th>\n",
       "      <th>genus</th>\n",
       "      <th>species</th>\n",
       "      <th>content</th>\n",
       "    </tr>\n",
       "    <tr>\n",
       "      <th>class</th>\n",
       "      <th></th>\n",
       "      <th></th>\n",
       "      <th></th>\n",
       "      <th></th>\n",
       "      <th></th>\n",
       "    </tr>\n",
       "  </thead>\n",
       "  <tbody>\n",
       "    <tr>\n",
       "      <th>0</th>\n",
       "      <td>119</td>\n",
       "      <td>119</td>\n",
       "      <td>119</td>\n",
       "      <td>119</td>\n",
       "      <td>119</td>\n",
       "    </tr>\n",
       "    <tr>\n",
       "      <th>11</th>\n",
       "      <td>150</td>\n",
       "      <td>150</td>\n",
       "      <td>150</td>\n",
       "      <td>150</td>\n",
       "      <td>150</td>\n",
       "    </tr>\n",
       "    <tr>\n",
       "      <th>7</th>\n",
       "      <td>154</td>\n",
       "      <td>154</td>\n",
       "      <td>154</td>\n",
       "      <td>154</td>\n",
       "      <td>154</td>\n",
       "    </tr>\n",
       "    <tr>\n",
       "      <th>4</th>\n",
       "      <td>183</td>\n",
       "      <td>183</td>\n",
       "      <td>183</td>\n",
       "      <td>183</td>\n",
       "      <td>183</td>\n",
       "    </tr>\n",
       "    <tr>\n",
       "      <th>14</th>\n",
       "      <td>200</td>\n",
       "      <td>200</td>\n",
       "      <td>200</td>\n",
       "      <td>200</td>\n",
       "      <td>200</td>\n",
       "    </tr>\n",
       "    <tr>\n",
       "      <th>12</th>\n",
       "      <td>214</td>\n",
       "      <td>214</td>\n",
       "      <td>214</td>\n",
       "      <td>214</td>\n",
       "      <td>214</td>\n",
       "    </tr>\n",
       "    <tr>\n",
       "      <th>9</th>\n",
       "      <td>223</td>\n",
       "      <td>223</td>\n",
       "      <td>223</td>\n",
       "      <td>223</td>\n",
       "      <td>223</td>\n",
       "    </tr>\n",
       "    <tr>\n",
       "      <th>3</th>\n",
       "      <td>231</td>\n",
       "      <td>231</td>\n",
       "      <td>231</td>\n",
       "      <td>231</td>\n",
       "      <td>231</td>\n",
       "    </tr>\n",
       "    <tr>\n",
       "      <th>1</th>\n",
       "      <td>232</td>\n",
       "      <td>232</td>\n",
       "      <td>232</td>\n",
       "      <td>232</td>\n",
       "      <td>232</td>\n",
       "    </tr>\n",
       "    <tr>\n",
       "      <th>15</th>\n",
       "      <td>254</td>\n",
       "      <td>254</td>\n",
       "      <td>254</td>\n",
       "      <td>254</td>\n",
       "      <td>254</td>\n",
       "    </tr>\n",
       "    <tr>\n",
       "      <th>8</th>\n",
       "      <td>289</td>\n",
       "      <td>289</td>\n",
       "      <td>289</td>\n",
       "      <td>289</td>\n",
       "      <td>289</td>\n",
       "    </tr>\n",
       "    <tr>\n",
       "      <th>13</th>\n",
       "      <td>295</td>\n",
       "      <td>295</td>\n",
       "      <td>295</td>\n",
       "      <td>295</td>\n",
       "      <td>295</td>\n",
       "    </tr>\n",
       "    <tr>\n",
       "      <th>5</th>\n",
       "      <td>296</td>\n",
       "      <td>296</td>\n",
       "      <td>296</td>\n",
       "      <td>296</td>\n",
       "      <td>296</td>\n",
       "    </tr>\n",
       "    <tr>\n",
       "      <th>2</th>\n",
       "      <td>381</td>\n",
       "      <td>381</td>\n",
       "      <td>381</td>\n",
       "      <td>381</td>\n",
       "      <td>381</td>\n",
       "    </tr>\n",
       "    <tr>\n",
       "      <th>6</th>\n",
       "      <td>436</td>\n",
       "      <td>436</td>\n",
       "      <td>436</td>\n",
       "      <td>436</td>\n",
       "      <td>436</td>\n",
       "    </tr>\n",
       "    <tr>\n",
       "      <th>10</th>\n",
       "      <td>660</td>\n",
       "      <td>660</td>\n",
       "      <td>660</td>\n",
       "      <td>660</td>\n",
       "      <td>660</td>\n",
       "    </tr>\n",
       "  </tbody>\n",
       "</table>\n",
       "</div>"
      ],
      "text/plain": [
       "        id  family  genus  species  content\n",
       "class                                      \n",
       "0      119     119    119      119      119\n",
       "11     150     150    150      150      150\n",
       "7      154     154    154      154      154\n",
       "4      183     183    183      183      183\n",
       "14     200     200    200      200      200\n",
       "12     214     214    214      214      214\n",
       "9      223     223    223      223      223\n",
       "3      231     231    231      231      231\n",
       "1      232     232    232      232      232\n",
       "15     254     254    254      254      254\n",
       "8      289     289    289      289      289\n",
       "13     295     295    295      295      295\n",
       "5      296     296    296      296      296\n",
       "2      381     381    381      381      381\n",
       "6      436     436    436      436      436\n",
       "10     660     660    660      660      660"
      ]
     },
     "execution_count": 46,
     "metadata": {},
     "output_type": "execute_result"
    }
   ],
   "source": [
    "#understanding how unbalanced our data set is\n",
    "plants.groupby('class').count().sort_values(by='id',ascending=True)"
   ]
  },
  {
   "cell_type": "code",
   "execution_count": 44,
   "metadata": {},
   "outputs": [],
   "source": [
    "#setting class_weights based on the class 10. \n",
    "#Essentially we treating every instance of the classes as instances of class 10\n",
    "# For example weight of 4 for class 0 means: \n",
    "    #treat every instance of class 0 as 4 instances of class 10\n",
    "\n",
    "class_weight = {0:4. ,\n",
    "                1:2., \n",
    "                2:1.5 ,\n",
    "                3:2.,\n",
    "                4:3.,\n",
    "                5:2.,\n",
    "                6:1.5,\n",
    "                7:4.,\n",
    "                8:2.,\n",
    "                9:3.,\n",
    "                10:1.,\n",
    "                11:4.,\n",
    "                12:3.,\n",
    "                13:2.,\n",
    "                14:3.,\n",
    "                15:2.\n",
    "               }"
   ]
  },
  {
   "cell_type": "markdown",
   "metadata": {},
   "source": [
    "# Loading the images into train and validation sets"
   ]
  },
  {
   "cell_type": "markdown",
   "metadata": {},
   "source": [
    "Load the images"
   ]
  },
  {
   "cell_type": "code",
   "execution_count": 4,
   "metadata": {},
   "outputs": [],
   "source": [
    "from tensorflow.keras.preprocessing.image import ImageDataGenerator"
   ]
  },
  {
   "cell_type": "code",
   "execution_count": 57,
   "metadata": {},
   "outputs": [],
   "source": [
    "#setting the directory for the train dataset\n",
    "directory = r\"../raw_data/train\""
   ]
  },
  {
   "cell_type": "code",
   "execution_count": 74,
   "metadata": {},
   "outputs": [],
   "source": [
    "#augmenting the data using : horizontal flips, adapting the horiztontal width, shear range, zooming and rotating the images\n",
    "train_datagen = ImageDataGenerator(\n",
    "        rescale=1./255,\n",
    "        shear_range=0.2,\n",
    "        zoom_range=0.2,\n",
    "        horizontal_flip=True,\n",
    "        rotation_range=90,\n",
    "        validation_split = 0.2)\n",
    "\n",
    "valid_datagen = ImageDataGenerator(\n",
    "        rescale=1./255,\n",
    "        validation_split = 0.2)"
   ]
  },
  {
   "cell_type": "code",
   "execution_count": 75,
   "metadata": {},
   "outputs": [],
   "source": [
    "img_height, img_width = (256,256)"
   ]
  },
  {
   "cell_type": "code",
   "execution_count": 76,
   "metadata": {},
   "outputs": [
    {
     "name": "stdout",
     "output_type": "stream",
     "text": [
      "Found 3460 images belonging to 16 classes.\n",
      "Found 857 images belonging to 16 classes.\n"
     ]
    }
   ],
   "source": [
    "train_generator = train_datagen.flow_from_directory(\n",
    "    directory,\n",
    "    target_size=(img_height, img_width),\n",
    "    batch_size=32,\n",
    "    class_mode='binary',\n",
    "    subset='training',\n",
    "    seed = 123) # set as training data\n",
    "\n",
    "validation_generator = valid_datagen.flow_from_directory(\n",
    "    directory, # same directory as training data\n",
    "    target_size=(img_height, img_width),\n",
    "    batch_size=32,\n",
    "    class_mode='binary',\n",
    "    subset='validation',\n",
    "    seed = 123) # set as validation data"
   ]
  },
  {
   "cell_type": "markdown",
   "metadata": {},
   "source": [
    "# Training baseline model"
   ]
  },
  {
   "cell_type": "code",
   "execution_count": 77,
   "metadata": {},
   "outputs": [],
   "source": [
    "from tensorflow.keras import layers\n",
    "from tensorflow.keras.models import Sequential"
   ]
  },
  {
   "cell_type": "code",
   "execution_count": 81,
   "metadata": {},
   "outputs": [],
   "source": [
    "num_classes = 16\n",
    "\n",
    "model = Sequential([\n",
    "  #layers.experimental.preprocessing.Rescaling(1./255, input_shape=(img_height, img_width, 3)),\n",
    "  layers.Conv2D(16, 3, input_shape=(img_height, img_width, 3),padding='same', activation='relu'),\n",
    "  layers.MaxPooling2D(),\n",
    "  layers.Conv2D(32, 3, padding='same', activation='relu'),\n",
    "  layers.MaxPooling2D(),\n",
    "  layers.Conv2D(64, 3, padding='same', activation='relu'),\n",
    "  layers.MaxPooling2D(),\n",
    "  layers.Flatten(),\n",
    "  layers.Dense(64, activation='relu'),\n",
    "  layers.Dense(num_classes)\n",
    "])"
   ]
  },
  {
   "cell_type": "code",
   "execution_count": 82,
   "metadata": {},
   "outputs": [],
   "source": [
    "model.compile(optimizer='adam',\n",
    "              loss=tensorflow.keras.losses.SparseCategoricalCrossentropy(from_logits=True),\n",
    "              metrics=['accuracy'])"
   ]
  },
  {
   "cell_type": "code",
   "execution_count": 83,
   "metadata": {},
   "outputs": [
    {
     "name": "stdout",
     "output_type": "stream",
     "text": [
      "Model: \"sequential_2\"\n",
      "_________________________________________________________________\n",
      "Layer (type)                 Output Shape              Param #   \n",
      "=================================================================\n",
      "conv2d_6 (Conv2D)            (None, 256, 256, 16)      448       \n",
      "_________________________________________________________________\n",
      "max_pooling2d_6 (MaxPooling2 (None, 128, 128, 16)      0         \n",
      "_________________________________________________________________\n",
      "conv2d_7 (Conv2D)            (None, 128, 128, 32)      4640      \n",
      "_________________________________________________________________\n",
      "max_pooling2d_7 (MaxPooling2 (None, 64, 64, 32)        0         \n",
      "_________________________________________________________________\n",
      "conv2d_8 (Conv2D)            (None, 64, 64, 64)        18496     \n",
      "_________________________________________________________________\n",
      "max_pooling2d_8 (MaxPooling2 (None, 32, 32, 64)        0         \n",
      "_________________________________________________________________\n",
      "flatten_2 (Flatten)          (None, 65536)             0         \n",
      "_________________________________________________________________\n",
      "dense_4 (Dense)              (None, 64)                4194368   \n",
      "_________________________________________________________________\n",
      "dense_5 (Dense)              (None, 16)                1040      \n",
      "=================================================================\n",
      "Total params: 4,218,992\n",
      "Trainable params: 4,218,992\n",
      "Non-trainable params: 0\n",
      "_________________________________________________________________\n"
     ]
    }
   ],
   "source": [
    "model.summary()"
   ]
  },
  {
   "cell_type": "code",
   "execution_count": 84,
   "metadata": {},
   "outputs": [
    {
     "name": "stdout",
     "output_type": "stream",
     "text": [
      "Epoch 1/10\n",
      "108/108 [==============================] - 118s 1s/step - loss: 5.9098 - accuracy: 0.1231 - val_loss: 2.5967 - val_accuracy: 0.1538\n",
      "Epoch 2/10\n",
      "108/108 [==============================] - 115s 1s/step - loss: 5.2706 - accuracy: 0.1794 - val_loss: 2.3313 - val_accuracy: 0.2608\n",
      "Epoch 3/10\n",
      "108/108 [==============================] - 115s 1s/step - loss: 4.8560 - accuracy: 0.2608 - val_loss: 2.2987 - val_accuracy: 0.2368\n",
      "Epoch 4/10\n",
      "108/108 [==============================] - 142s 1s/step - loss: 4.6632 - accuracy: 0.2891 - val_loss: 2.0717 - val_accuracy: 0.3377\n",
      "Epoch 5/10\n",
      "108/108 [==============================] - 133s 1s/step - loss: 4.4367 - accuracy: 0.3422 - val_loss: 1.9365 - val_accuracy: 0.4135\n",
      "Epoch 6/10\n",
      "108/108 [==============================] - 117s 1s/step - loss: 4.2862 - accuracy: 0.3626 - val_loss: 1.8873 - val_accuracy: 0.4147\n",
      "Epoch 7/10\n",
      "108/108 [==============================] - 137s 1s/step - loss: 4.0392 - accuracy: 0.4046 - val_loss: 1.8961 - val_accuracy: 0.3930\n",
      "Epoch 8/10\n",
      "108/108 [==============================] - 135s 1s/step - loss: 3.8490 - accuracy: 0.4139 - val_loss: 1.6798 - val_accuracy: 0.4844\n",
      "Epoch 9/10\n",
      "108/108 [==============================] - 128s 1s/step - loss: 3.6028 - accuracy: 0.4446 - val_loss: 1.6702 - val_accuracy: 0.4904\n",
      "Epoch 10/10\n",
      "108/108 [==============================] - 117s 1s/step - loss: 3.4033 - accuracy: 0.4883 - val_loss: 1.5442 - val_accuracy: 0.5132\n"
     ]
    }
   ],
   "source": [
    "epochs=10\n",
    "history = model.fit(\n",
    "    train_generator,\n",
    "    steps_per_epoch = train_generator.samples // 32,\n",
    "    validation_data = validation_generator, \n",
    "    validation_steps = validation_generator.samples // 32,\n",
    "    class_weight=class_weight,\n",
    "    epochs = epochs)"
   ]
  },
  {
   "cell_type": "code",
   "execution_count": 86,
   "metadata": {},
   "outputs": [
    {
     "data": {
      "image/png": "[encoded data removed]",
      "text/plain": [
       "<Figure size 576x576 with 2 Axes>"
      ]
     },
     "metadata": {
      "needs_background": "light"
     },
     "output_type": "display_data"
    }
   ],
   "source": [
    "import matplotlib.pyplot as plt\n",
    "\n",
    "acc = history.history['accuracy']\n",
    "val_acc = history.history['val_accuracy']\n",
    "\n",
    "loss = history.history['loss']\n",
    "val_loss = history.history['val_loss']\n",
    "\n",
    "epochs_range = range(epochs)\n",
    "\n",
    "plt.figure(figsize=(8, 8))\n",
    "plt.subplot(1, 2, 1)\n",
    "plt.plot(epochs_range, acc, label='Training Accuracy')\n",
    "plt.plot(epochs_range, val_acc, label='Validation Accuracy')\n",
    "plt.legend(loc='lower right')\n",
    "plt.title('Training and Validation Accuracy')\n",
    "\n",
    "plt.subplot(1, 2, 2)\n",
    "plt.plot(epochs_range, loss, label='Training Loss')\n",
    "plt.plot(epochs_range, val_loss, label='Validation Loss')\n",
    "plt.legend(loc='upper right')\n",
    "plt.title('Training and Validation Loss')\n",
    "plt.show()"
   ]
  },
  {
   "cell_type": "markdown",
   "metadata": {},
   "source": [
    "# Checking succession rate"
   ]
  },
  {
   "cell_type": "code",
   "execution_count": null,
   "metadata": {},
   "outputs": [],
   "source": []
  },
  {
   "cell_type": "code",
   "execution_count": null,
   "metadata": {},
   "outputs": [],
   "source": []
  },
  {
   "cell_type": "code",
   "execution_count": null,
   "metadata": {},
   "outputs": [],
   "source": []
  },
  {
   "cell_type": "code",
   "execution_count": null,
   "metadata": {},
   "outputs": [],
   "source": []
  },
  {
   "cell_type": "code",
   "execution_count": null,
   "metadata": {},
   "outputs": [],
   "source": []
  },
  {
   "cell_type": "code",
   "execution_count": null,
   "metadata": {},
   "outputs": [],
   "source": []
  },
  {
   "cell_type": "code",
   "execution_count": null,
   "metadata": {},
   "outputs": [],
   "source": []
  },
  {
   "cell_type": "code",
   "execution_count": null,
   "metadata": {},
   "outputs": [],
   "source": []
  },
  {
   "cell_type": "markdown",
   "metadata": {},
   "source": [
    "# VGG model"
   ]
  },
  {
   "cell_type": "code",
   "execution_count": null,
   "metadata": {},
   "outputs": [],
   "source": []
  }
 ],
 "metadata": {
  "kernelspec": {
   "display_name": "Python 3",
   "language": "python",
   "name": "python3"
  },
  "language_info": {
   "codemirror_mode": {
    "name": "ipython",
    "version": 3
   },
   "file_extension": ".py",
   "mimetype": "text/x-python",
   "name": "python",
   "nbconvert_exporter": "python",
   "pygments_lexer": "ipython3",
   "version": "3.7.7"
  }
 },
 "nbformat": 4,
 "nbformat_minor": 4
}
