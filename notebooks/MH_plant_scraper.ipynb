{
 "cells": [
  {
   "cell_type": "code",
   "execution_count": 1,
   "metadata": {},
   "outputs": [],
   "source": [
    "import requests\n",
    "from bs4 import BeautifulSoup\n",
    "import pandas as pd"
   ]
  },
  {
   "cell_type": "code",
   "execution_count": 2,
   "metadata": {},
   "outputs": [],
   "source": [
    "# HTML saved on file, URL below:\n",
    "# https://www.rhs.org.uk/Plants/206745/i-Agapanthus-i-Exmoor/Details\n",
    "\n",
    "file = ('../raw_data/plant_scraper.html')"
   ]
  },
  {
   "cell_type": "code",
   "execution_count": 3,
   "metadata": {},
   "outputs": [],
   "source": [
    "soup = BeautifulSoup(open(file), 'html.parser')"
   ]
  },
  {
   "cell_type": "code",
   "execution_count": 4,
   "metadata": {},
   "outputs": [],
   "source": [
    "titles = []\n",
    "paras = []"
   ]
  },
  {
   "cell_type": "code",
   "execution_count": 5,
   "metadata": {},
   "outputs": [],
   "source": [
    "plant_name = soup.find('h1', class_='Plant-formated-Name').text.strip()"
   ]
  },
  {
   "cell_type": "code",
   "execution_count": 6,
   "metadata": {},
   "outputs": [],
   "source": [
    "titles.append('Sepcies')\n",
    "paras.append(plant_name)"
   ]
  },
  {
   "cell_type": "code",
   "execution_count": 7,
   "metadata": {},
   "outputs": [],
   "source": [
    "detail_block = soup.find('ul', class_='clr', id='plant_details_desc')"
   ]
  },
  {
   "cell_type": "code",
   "execution_count": 8,
   "metadata": {},
   "outputs": [],
   "source": [
    "detail_ids = [\n",
    "    'ctl00_ctl00_ctl00_plcMainContent_plcMainContent_plcMainContent_PlantDetail1_Li15',\n",
    "    'ctl00_ctl00_ctl00_plcMainContent_plcMainContent_plcMainContent_PlantDetail1_Li2',\n",
    "    'ctl00_ctl00_ctl00_plcMainContent_plcMainContent_plcMainContent_PlantDetail1_Li3'\n",
    "        ]"
   ]
  },
  {
   "cell_type": "code",
   "execution_count": 9,
   "metadata": {},
   "outputs": [],
   "source": [
    "details = []\n",
    "\n",
    "for detail_id in detail_ids:\n",
    "    details.append(detail_block.find('li', id=detail_id))"
   ]
  },
  {
   "cell_type": "code",
   "execution_count": 10,
   "metadata": {},
   "outputs": [],
   "source": [
    "for part in details:\n",
    "    title = part.find('strong').text\n",
    "    para = part.text.replace(title,'').strip()\n",
    "    titles.append(title)\n",
    "    paras.append(para)"
   ]
  },
  {
   "cell_type": "code",
   "execution_count": 11,
   "metadata": {},
   "outputs": [],
   "source": [
    "how_to_grow = soup.find('div', class_='how-to').find_all('p')"
   ]
  },
  {
   "cell_type": "code",
   "execution_count": 12,
   "metadata": {},
   "outputs": [],
   "source": [
    "for part in how_to_grow:\n",
    "    title = part.find('strong').text\n",
    "    para = part.text.replace(title,'').strip()\n",
    "    titles.append(title)\n",
    "    paras.append(para)"
   ]
  },
  {
   "cell_type": "code",
   "execution_count": 13,
   "metadata": {},
   "outputs": [],
   "source": [
    "how_to_care = soup.find('div',\n",
    "        class_='how-to how-to-double-margin').find_all('p')\n",
    "\n",
    "for part in how_to_care:\n",
    "    title = part.find('strong').text\n",
    "    para = part.text.replace(title,'').strip()\n",
    "    titles.append(title)\n",
    "    paras.append(para)"
   ]
  },
  {
   "cell_type": "code",
   "execution_count": 14,
   "metadata": {},
   "outputs": [
    {
     "data": {
      "text/plain": [
       "['Sepcies',\n",
       " 'Family',\n",
       " 'Genus',\n",
       " 'Details',\n",
       " 'Cultivation',\n",
       " 'Propagation',\n",
       " 'Suggested planting locations and garden types',\n",
       " 'Pruning',\n",
       " 'Pests',\n",
       " 'Diseases ']"
      ]
     },
     "execution_count": 14,
     "metadata": {},
     "output_type": "execute_result"
    }
   ],
   "source": [
    "titles"
   ]
  },
  {
   "cell_type": "code",
   "execution_count": 15,
   "metadata": {},
   "outputs": [
    {
     "data": {
      "text/plain": [
       "[\"Agapanthus 'Exmoor'\",\n",
       " 'Agapanthaceae',\n",
       " 'Agapanthus are clump-forming perennials with narrowly strap-shaped leaves, evergreen in some species, and erect stems bearing umbels of funnel-shaped blue or white flowers',\n",
       " \"'Exmoor' is a clump-forming perennial with deciduous, strap-shaped foliage and, in summer, rounded umbels of rich blue flowers with darker blue veining held on upright stems to 90cm tall\",\n",
       " 'Grow in fertile, moist but well-drained soil in full sun or grow in a container. In cold areas, mulch well overwinter and take containers under cover. See agapanthus cultivation',\n",
       " 'Propagate by division every three to four years in spring',\n",
       " 'Wall-side Borders  Drought Resistant  Cut Flowers  Flower borders and beds\\n                        City & Courtyard Gardens  Cottage & Informal Garden  Patio & Container Plants  Mediterranean Climate Plants  Coastal',\n",
       " 'In late autumn remove any remaining leaves, but seedheads can be left as they look attractive over winter',\n",
       " 'May be affected by agapanthus gall midge',\n",
       " 'A virus disease may be a problem']"
      ]
     },
     "execution_count": 15,
     "metadata": {},
     "output_type": "execute_result"
    }
   ],
   "source": [
    "paras"
   ]
  },
  {
   "cell_type": "code",
   "execution_count": 16,
   "metadata": {},
   "outputs": [],
   "source": [
    "df = pd.DataFrame([paras],\n",
    "                 columns=titles)"
   ]
  },
  {
   "cell_type": "code",
   "execution_count": 17,
   "metadata": {},
   "outputs": [
    {
     "data": {
      "text/html": [
       "<div>\n",
       "<style scoped>\n",
       "    .dataframe tbody tr th:only-of-type {\n",
       "        vertical-align: middle;\n",
       "    }\n",
       "\n",
       "    .dataframe tbody tr th {\n",
       "        vertical-align: top;\n",
       "    }\n",
       "\n",
       "    .dataframe thead th {\n",
       "        text-align: right;\n",
       "    }\n",
       "</style>\n",
       "<table border=\"1\" class=\"dataframe\">\n",
       "  <thead>\n",
       "    <tr style=\"text-align: right;\">\n",
       "      <th></th>\n",
       "      <th>Sepcies</th>\n",
       "      <th>Family</th>\n",
       "      <th>Genus</th>\n",
       "      <th>Details</th>\n",
       "      <th>Cultivation</th>\n",
       "      <th>Propagation</th>\n",
       "      <th>Suggested planting locations and garden types</th>\n",
       "      <th>Pruning</th>\n",
       "      <th>Pests</th>\n",
       "      <th>Diseases</th>\n",
       "    </tr>\n",
       "  </thead>\n",
       "  <tbody>\n",
       "    <tr>\n",
       "      <th>0</th>\n",
       "      <td>Agapanthus 'Exmoor'</td>\n",
       "      <td>Agapanthaceae</td>\n",
       "      <td>Agapanthus are clump-forming perennials with n...</td>\n",
       "      <td>'Exmoor' is a clump-forming perennial with dec...</td>\n",
       "      <td>Grow in fertile, moist but well-drained soil i...</td>\n",
       "      <td>Propagate by division every three to four year...</td>\n",
       "      <td>Wall-side Borders  Drought Resistant  Cut Flow...</td>\n",
       "      <td>In late autumn remove any remaining leaves, bu...</td>\n",
       "      <td>May be affected by agapanthus gall midge</td>\n",
       "      <td>A virus disease may be a problem</td>\n",
       "    </tr>\n",
       "  </tbody>\n",
       "</table>\n",
       "</div>"
      ],
      "text/plain": [
       "               Sepcies         Family  \\\n",
       "0  Agapanthus 'Exmoor'  Agapanthaceae   \n",
       "\n",
       "                                               Genus  \\\n",
       "0  Agapanthus are clump-forming perennials with n...   \n",
       "\n",
       "                                             Details  \\\n",
       "0  'Exmoor' is a clump-forming perennial with dec...   \n",
       "\n",
       "                                         Cultivation  \\\n",
       "0  Grow in fertile, moist but well-drained soil i...   \n",
       "\n",
       "                                         Propagation  \\\n",
       "0  Propagate by division every three to four year...   \n",
       "\n",
       "       Suggested planting locations and garden types  \\\n",
       "0  Wall-side Borders  Drought Resistant  Cut Flow...   \n",
       "\n",
       "                                             Pruning  \\\n",
       "0  In late autumn remove any remaining leaves, bu...   \n",
       "\n",
       "                                      Pests                         Diseases   \n",
       "0  May be affected by agapanthus gall midge  A virus disease may be a problem  "
      ]
     },
     "execution_count": 17,
     "metadata": {},
     "output_type": "execute_result"
    }
   ],
   "source": [
    "df"
   ]
  },
  {
   "cell_type": "code",
   "execution_count": null,
   "metadata": {},
   "outputs": [],
   "source": []
  }
 ],
 "metadata": {
  "kernelspec": {
   "display_name": "Python 3",
   "language": "python",
   "name": "python3"
  },
  "language_info": {
   "codemirror_mode": {
    "name": "ipython",
    "version": 3
   },
   "file_extension": ".py",
   "mimetype": "text/x-python",
   "name": "python",
   "nbconvert_exporter": "python",
   "pygments_lexer": "ipython3",
   "version": "3.7.7"
  },
  "toc": {
   "base_numbering": 1,
   "nav_menu": {},
   "number_sections": true,
   "sideBar": true,
   "skip_h1_title": false,
   "title_cell": "Table of Contents",
   "title_sidebar": "Contents",
   "toc_cell": false,
   "toc_position": {},
   "toc_section_display": true,
   "toc_window_display": false
  }
 },
 "nbformat": 4,
 "nbformat_minor": 4
}
