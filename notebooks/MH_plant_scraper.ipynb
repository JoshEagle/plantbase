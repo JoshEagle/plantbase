{
 "cells": [
  {
   "cell_type": "code",
   "execution_count": 3,
   "metadata": {},
   "outputs": [],
   "source": [
    "import requests\n",
    "from bs4 import BeautifulSoup\n",
    "import pandas as pd"
   ]
  },
  {
   "cell_type": "code",
   "execution_count": 4,
   "metadata": {},
   "outputs": [],
   "source": [
    "# HTML saved on file, URL below:\n",
    "# https://www.rhs.org.uk/Plants/206745/i-Agapanthus-i-Exmoor/Details\n",
    "\n",
    "file = ('../plantbase/scraping/Ajuga.html')"
   ]
  },
  {
   "cell_type": "code",
   "execution_count": 5,
   "metadata": {},
   "outputs": [],
   "source": [
    "soup = BeautifulSoup(open(file), 'html.parser')"
   ]
  },
  {
   "cell_type": "code",
   "execution_count": 161,
   "metadata": {},
   "outputs": [],
   "source": [
    "titles = []\n",
    "paras = []"
   ]
  },
  {
   "cell_type": "code",
   "execution_count": 25,
   "metadata": {
    "collapsed": true
   },
   "outputs": [
    {
     "data": {
      "text/plain": [
       "[<li><p><strong>Foliage</strong> Semi-evergreen</p></li>,\n",
       " <li><p><strong>Habit</strong> Bushy</p></li>,\n",
       " <li class=\"li-hardiness\"><div class=\"tooltip-trigger tooltip-trigger-icon-r\"><p><strong>Hardiness</strong></p>\n",
       " <div class=\"tooltip tooltip-down tooltip-br tooltip-large\">\n",
       " <h5>Hardiness ratings</h5>\n",
       " <p>All ratings refer to the UK growing conditions unless otherwise stated. Minimum temperature ranges (in degrees C) are shown in brackets</p>\n",
       " <ul>\n",
       " <li><strong>H1a</strong> - Under glass all year (&gt;15C)</li>\n",
       " <li><strong>H1b</strong> - Can be grown outside in the summer (10 - 15)</li>\n",
       " <li><strong>H1c</strong> - Can be grown outside in the summer (5 - 10)</li>\n",
       " <li><strong>H2</strong> - Tolerant of low temperatures, but not surviving being frozen (1 to 5)</li>\n",
       " <li><strong>H3</strong> - Hardy in coastal and relatively mild parts of the UK (-5 to 1)</li>\n",
       " <li><strong>H4</strong> - Hardy through most of the UK (-10 to -5)</li>\n",
       " <li><strong>H5</strong> - Hardy in most places throughout the UK even in severe winters (-15 to -10)</li>\n",
       " <li><strong>H6</strong> - Hardy in all of UK and northern Europe (-20 to -15)</li>\n",
       " <li><strong>H7</strong> - Hardy in the severest European continental climates (&lt; -20)</li>\n",
       " </ul>\n",
       " </div>\n",
       " </div>\n",
       " <p>H7</p>\n",
       " </li>,\n",
       " <li><strong>H1a</strong> - Under glass all year (&gt;15C)</li>,\n",
       " <li><strong>H1b</strong> - Can be grown outside in the summer (10 - 15)</li>,\n",
       " <li><strong>H1c</strong> - Can be grown outside in the summer (5 - 10)</li>,\n",
       " <li><strong>H2</strong> - Tolerant of low temperatures, but not surviving being frozen (1 to 5)</li>,\n",
       " <li><strong>H3</strong> - Hardy in coastal and relatively mild parts of the UK (-5 to 1)</li>,\n",
       " <li><strong>H4</strong> - Hardy through most of the UK (-10 to -5)</li>,\n",
       " <li><strong>H5</strong> - Hardy in most places throughout the UK even in severe winters (-15 to -10)</li>,\n",
       " <li><strong>H6</strong> - Hardy in all of UK and northern Europe (-20 to -15)</li>,\n",
       " <li><strong>H7</strong> - Hardy in the severest European continental climates (&lt; -20)</li>]"
      ]
     },
     "execution_count": 25,
     "metadata": {},
     "output_type": "execute_result"
    }
   ],
   "source": [
    "characteristics = soup.find('div', class_='grid g3 char').find_all('li')\n",
    "\n",
    "for i in range(2):\n",
    "    title = characteristics[i].strong.text.strip()\n",
    "    para = characteristics[i].text.replace(characteristics[0].strong.text,'').strip()\n",
    "    titles.append(title)\n",
    "    paras.append(para)\n",
    "    \n",
    "for li in characteristics[2].find_all('li'):\n",
    "    if characteristics[2].find_all('p')[2].text in li.text:\n",
    "        title = characteristics[2].h5.text.strip()\n",
    "        para = li.text\n",
    "        titles.append(title)\n",
    "        paras.append(para)"
   ]
  },
  {
   "cell_type": "code",
   "execution_count": 155,
   "metadata": {},
   "outputs": [
    {
     "data": {
      "text/plain": [
       "[<h4 class=\"collapsed\">Sunlight</h4>,\n",
       " <h4 class=\"collapsed\">Colour by type</h4>,\n",
       " <h4 class=\"collapsed\">\n",
       "                                     Season of interest</h4>,\n",
       " <h4 class=\"collapsed\">Colour by season</h4>]"
      ]
     },
     "execution_count": 155,
     "metadata": {},
     "output_type": "execute_result"
    }
   ],
   "source": [
    "colour = soup.find_all('h4', class_='collapsed')\n",
    "colour"
   ]
  },
  {
   "cell_type": "code",
   "execution_count": 162,
   "metadata": {},
   "outputs": [],
   "source": [
    "sunlight = soup.find('div', class_='grid sun g3')\n",
    "sunlight\n",
    "\n",
    "# titles.append('Sunlight')\n",
    "# paras.append(sunlight.find_all('li')[0].text.strip())\n",
    "\n",
    "for i in range(1,3):\n",
    "    title = sunlight.find_all('li')[i].strong.text.strip()\n",
    "    para = sunlight.find_all('li')[i].text.replace(title,'').strip()\n",
    "    titles.append(title)\n",
    "    paras.append(para)"
   ]
  },
  {
   "cell_type": "code",
   "execution_count": 163,
   "metadata": {},
   "outputs": [
    {
     "data": {
      "text/plain": [
       "['Aspect', 'Exposure']"
      ]
     },
     "execution_count": 163,
     "metadata": {},
     "output_type": "execute_result"
    }
   ],
   "source": [
    "titles"
   ]
  },
  {
   "cell_type": "code",
   "execution_count": 164,
   "metadata": {},
   "outputs": [
    {
     "data": {
      "text/plain": [
       "['West-facing or North-facing or East-facing', 'Sheltered']"
      ]
     },
     "execution_count": 164,
     "metadata": {},
     "output_type": "execute_result"
    }
   ],
   "source": [
    "paras"
   ]
  },
  {
   "cell_type": "code",
   "execution_count": 165,
   "metadata": {},
   "outputs": [
    {
     "data": {
      "text/plain": [
       "bs4.element.Tag"
      ]
     },
     "execution_count": 165,
     "metadata": {},
     "output_type": "execute_result"
    }
   ],
   "source": [
    "type(sunlight)"
   ]
  },
  {
   "cell_type": "code",
   "execution_count": null,
   "metadata": {},
   "outputs": [],
   "source": [
    "soil = soup.find('div', class_='grid soil g3')\n",
    "\n",
    "for i in range(3):\n",
    "    title = soil.find_all('p')[len(soil.find_all('p'))-3+i].strong.text.strip()\n",
    "    para = soil.find_all('p')[len(soil.find_all('p'))-3+i].text.replace(title,'').strip()\n",
    "    titles.append(title)\n",
    "    paras.append(para)"
   ]
  },
  {
   "cell_type": "code",
   "execution_count": 121,
   "metadata": {
    "collapsed": true
   },
   "outputs": [
    {
     "data": {
      "text/plain": [
       "<div class=\"grid size g3\">\n",
       "<div class=\"clr\">\n",
       "<div>\n",
       "<h3 ng-click=\"size.toggleIt()\">Size <span ng-class=\"size.arrow()\"></span></h3>\n",
       "<div class=\"plant-detailed-description clr\" ng-hide=\"!size.show\">\n",
       "<ul class=\"results-size\">\n",
       "<li class=\"ultimate-height\">\n",
       "<p><strong>Ultimate height</strong>\n",
       "                                    0.1-0.5 metres</p>\n",
       "</li>\n",
       "<li class=\"ultimate-spread\">\n",
       "<p><strong>Ultimate spread</strong>\n",
       "                                    0.5-1 metres</p>\n",
       "</li>\n",
       "<li class=\"time-to-ultimate-height\">\n",
       "<p><strong>Time to ultimate height</strong>\n",
       "                                    2-5 years</p>\n",
       "</li>\n",
       "</ul>\n",
       "</div>\n",
       "</div>\n",
       "</div>\n",
       "</div>"
      ]
     },
     "execution_count": 121,
     "metadata": {},
     "output_type": "execute_result"
    }
   ],
   "source": [
    "size = soup.find('div', class_='grid size g3')\n",
    "\n",
    "for i in range(3):\n",
    "    title = size.find_all('p')[i].strong.text.strip()\n",
    "    para = size.find_all('p')[i].text.replace(title,'').strip()\n",
    "    titles.append(title)\n",
    "    paras.append(para)"
   ]
  },
  {
   "cell_type": "code",
   "execution_count": 125,
   "metadata": {},
   "outputs": [],
   "source": []
  },
  {
   "cell_type": "code",
   "execution_count": null,
   "metadata": {},
   "outputs": [],
   "source": []
  },
  {
   "cell_type": "code",
   "execution_count": 7,
   "metadata": {},
   "outputs": [
    {
     "data": {
      "text/plain": [
       "'Ajuga pyramidalis'"
      ]
     },
     "execution_count": 7,
     "metadata": {},
     "output_type": "execute_result"
    }
   ],
   "source": [
    "plant_name = soup.find('h1', class_='Plant-formated-Name').text.strip()\n",
    "plant_name"
   ]
  },
  {
   "cell_type": "code",
   "execution_count": 6,
   "metadata": {},
   "outputs": [],
   "source": [
    "titles.append('Sepcies')\n",
    "paras.append(plant_name)"
   ]
  },
  {
   "cell_type": "code",
   "execution_count": 7,
   "metadata": {},
   "outputs": [],
   "source": [
    "detail_block = soup.find('ul', class_='clr', id='plant_details_desc')"
   ]
  },
  {
   "cell_type": "code",
   "execution_count": 8,
   "metadata": {},
   "outputs": [],
   "source": [
    "detail_ids = [\n",
    "    'ctl00_ctl00_ctl00_plcMainContent_plcMainContent_plcMainContent_PlantDetail1_Li15',\n",
    "    'ctl00_ctl00_ctl00_plcMainContent_plcMainContent_plcMainContent_PlantDetail1_Li2',\n",
    "    'ctl00_ctl00_ctl00_plcMainContent_plcMainContent_plcMainContent_PlantDetail1_Li3'\n",
    "        ]"
   ]
  },
  {
   "cell_type": "code",
   "execution_count": 9,
   "metadata": {},
   "outputs": [],
   "source": [
    "details = []\n",
    "\n",
    "for detail_id in detail_ids:\n",
    "    details.append(detail_block.find('li', id=detail_id))"
   ]
  },
  {
   "cell_type": "code",
   "execution_count": 10,
   "metadata": {},
   "outputs": [],
   "source": [
    "for part in details:\n",
    "    title = part.find('strong').text\n",
    "    para = part.text.replace(title,'').strip()\n",
    "    titles.append(title)\n",
    "    paras.append(para)"
   ]
  },
  {
   "cell_type": "code",
   "execution_count": 11,
   "metadata": {},
   "outputs": [],
   "source": [
    "how_to_grow = soup.find('div', class_='how-to').find_all('p')"
   ]
  },
  {
   "cell_type": "code",
   "execution_count": 12,
   "metadata": {},
   "outputs": [],
   "source": [
    "for part in how_to_grow:\n",
    "    title = part.find('strong').text\n",
    "    para = part.text.replace(title,'').strip()\n",
    "    titles.append(title)\n",
    "    paras.append(para)"
   ]
  },
  {
   "cell_type": "code",
   "execution_count": 13,
   "metadata": {},
   "outputs": [],
   "source": [
    "how_to_care = soup.find('div',\n",
    "        class_='how-to how-to-double-margin').find_all('p')\n",
    "\n",
    "for part in how_to_care:\n",
    "    title = part.find('strong').text\n",
    "    para = part.text.replace(title,'').strip()\n",
    "    titles.append(title)\n",
    "    paras.append(para)"
   ]
  },
  {
   "cell_type": "code",
   "execution_count": 14,
   "metadata": {},
   "outputs": [
    {
     "data": {
      "text/plain": [
       "['Sepcies',\n",
       " 'Family',\n",
       " 'Genus',\n",
       " 'Details',\n",
       " 'Cultivation',\n",
       " 'Propagation',\n",
       " 'Suggested planting locations and garden types',\n",
       " 'Pruning',\n",
       " 'Pests',\n",
       " 'Diseases ']"
      ]
     },
     "execution_count": 14,
     "metadata": {},
     "output_type": "execute_result"
    }
   ],
   "source": [
    "titles"
   ]
  },
  {
   "cell_type": "code",
   "execution_count": 15,
   "metadata": {},
   "outputs": [
    {
     "data": {
      "text/plain": [
       "[\"Agapanthus 'Exmoor'\",\n",
       " 'Agapanthaceae',\n",
       " 'Agapanthus are clump-forming perennials with narrowly strap-shaped leaves, evergreen in some species, and erect stems bearing umbels of funnel-shaped blue or white flowers',\n",
       " \"'Exmoor' is a clump-forming perennial with deciduous, strap-shaped foliage and, in summer, rounded umbels of rich blue flowers with darker blue veining held on upright stems to 90cm tall\",\n",
       " 'Grow in fertile, moist but well-drained soil in full sun or grow in a container. In cold areas, mulch well overwinter and take containers under cover. See agapanthus cultivation',\n",
       " 'Propagate by division every three to four years in spring',\n",
       " 'Wall-side Borders  Drought Resistant  Cut Flowers  Flower borders and beds\\n                        City & Courtyard Gardens  Cottage & Informal Garden  Patio & Container Plants  Mediterranean Climate Plants  Coastal',\n",
       " 'In late autumn remove any remaining leaves, but seedheads can be left as they look attractive over winter',\n",
       " 'May be affected by agapanthus gall midge',\n",
       " 'A virus disease may be a problem']"
      ]
     },
     "execution_count": 15,
     "metadata": {},
     "output_type": "execute_result"
    }
   ],
   "source": [
    "paras"
   ]
  },
  {
   "cell_type": "code",
   "execution_count": 16,
   "metadata": {},
   "outputs": [],
   "source": [
    "df = pd.DataFrame([paras],\n",
    "                 columns=titles)"
   ]
  },
  {
   "cell_type": "code",
   "execution_count": 17,
   "metadata": {},
   "outputs": [
    {
     "data": {
      "text/html": [
       "<div>\n",
       "<style scoped>\n",
       "    .dataframe tbody tr th:only-of-type {\n",
       "        vertical-align: middle;\n",
       "    }\n",
       "\n",
       "    .dataframe tbody tr th {\n",
       "        vertical-align: top;\n",
       "    }\n",
       "\n",
       "    .dataframe thead th {\n",
       "        text-align: right;\n",
       "    }\n",
       "</style>\n",
       "<table border=\"1\" class=\"dataframe\">\n",
       "  <thead>\n",
       "    <tr style=\"text-align: right;\">\n",
       "      <th></th>\n",
       "      <th>Sepcies</th>\n",
       "      <th>Family</th>\n",
       "      <th>Genus</th>\n",
       "      <th>Details</th>\n",
       "      <th>Cultivation</th>\n",
       "      <th>Propagation</th>\n",
       "      <th>Suggested planting locations and garden types</th>\n",
       "      <th>Pruning</th>\n",
       "      <th>Pests</th>\n",
       "      <th>Diseases</th>\n",
       "    </tr>\n",
       "  </thead>\n",
       "  <tbody>\n",
       "    <tr>\n",
       "      <th>0</th>\n",
       "      <td>Agapanthus 'Exmoor'</td>\n",
       "      <td>Agapanthaceae</td>\n",
       "      <td>Agapanthus are clump-forming perennials with n...</td>\n",
       "      <td>'Exmoor' is a clump-forming perennial with dec...</td>\n",
       "      <td>Grow in fertile, moist but well-drained soil i...</td>\n",
       "      <td>Propagate by division every three to four year...</td>\n",
       "      <td>Wall-side Borders  Drought Resistant  Cut Flow...</td>\n",
       "      <td>In late autumn remove any remaining leaves, bu...</td>\n",
       "      <td>May be affected by agapanthus gall midge</td>\n",
       "      <td>A virus disease may be a problem</td>\n",
       "    </tr>\n",
       "  </tbody>\n",
       "</table>\n",
       "</div>"
      ],
      "text/plain": [
       "               Sepcies         Family  \\\n",
       "0  Agapanthus 'Exmoor'  Agapanthaceae   \n",
       "\n",
       "                                               Genus  \\\n",
       "0  Agapanthus are clump-forming perennials with n...   \n",
       "\n",
       "                                             Details  \\\n",
       "0  'Exmoor' is a clump-forming perennial with dec...   \n",
       "\n",
       "                                         Cultivation  \\\n",
       "0  Grow in fertile, moist but well-drained soil i...   \n",
       "\n",
       "                                         Propagation  \\\n",
       "0  Propagate by division every three to four year...   \n",
       "\n",
       "       Suggested planting locations and garden types  \\\n",
       "0  Wall-side Borders  Drought Resistant  Cut Flow...   \n",
       "\n",
       "                                             Pruning  \\\n",
       "0  In late autumn remove any remaining leaves, bu...   \n",
       "\n",
       "                                      Pests                         Diseases   \n",
       "0  May be affected by agapanthus gall midge  A virus disease may be a problem  "
      ]
     },
     "execution_count": 17,
     "metadata": {},
     "output_type": "execute_result"
    }
   ],
   "source": [
    "df"
   ]
  },
  {
   "cell_type": "code",
   "execution_count": null,
   "metadata": {},
   "outputs": [],
   "source": []
  }
 ],
 "metadata": {
  "kernelspec": {
   "display_name": "Python 3",
   "language": "python",
   "name": "python3"
  },
  "language_info": {
   "codemirror_mode": {
    "name": "ipython",
    "version": 3
   },
   "file_extension": ".py",
   "mimetype": "text/x-python",
   "name": "python",
   "nbconvert_exporter": "python",
   "pygments_lexer": "ipython3",
   "version": "3.7.7"
  },
  "toc": {
   "base_numbering": 1,
   "nav_menu": {},
   "number_sections": true,
   "sideBar": true,
   "skip_h1_title": false,
   "title_cell": "Table of Contents",
   "title_sidebar": "Contents",
   "toc_cell": false,
   "toc_position": {},
   "toc_section_display": true,
   "toc_window_display": false
  }
 },
 "nbformat": 4,
 "nbformat_minor": 4
}
