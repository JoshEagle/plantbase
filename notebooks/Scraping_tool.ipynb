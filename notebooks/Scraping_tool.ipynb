{
 "cells": [
  {
   "cell_type": "code",
   "execution_count": 4,
   "metadata": {},
   "outputs": [],
   "source": [
    "import requests\n",
    "from bs4 import BeautifulSoup\n",
    "import chromedriver_binary\n",
    "from selenium import webdriver\n",
    "import csv\n",
    "import time\n",
    "from selenium.webdriver.common.keys import Keys\n",
    "from selenium.webdriver.support.ui import WebDriverWait\n",
    "from selenium.webdriver.support import expected_conditions as ec\n",
    "from selenium.webdriver.common.by import By"
   ]
  },
  {
   "cell_type": "code",
   "execution_count": null,
   "metadata": {},
   "outputs": [],
   "source": [
    "# browser.execute_script(\"window.scrollTo(0,document.body.scrollHeight)\")\n",
    "# browser.close()\n",
    "# document.body.scrollHeigh"
   ]
  },
  {
   "cell_type": "code",
   "execution_count": null,
   "metadata": {},
   "outputs": [],
   "source": [
    "# SCROLL_PAUSE_TIME = 0.5\n",
    "\n",
    "# browser = webdriver.Chrome()\n",
    "# browser.get(\"https://identify.plantnet.org/explo/weurope/\")\n",
    "\n",
    "# for n in range(5):\n",
    "\n",
    "#     # Get scroll height\n",
    "#     ### This is the difference. Moving this *inside* the loop\n",
    "#     ### means that it checks if scrollTo is still scrolling \n",
    "#     last_height = browser.execute_script(\"return document.body.scrollHeight\")\n",
    "\n",
    "#     # Scroll down to bottom\n",
    "#     browser.execute_script(\"window.scrollTo(0, document.body.scrollHeight);\")\n",
    "\n",
    "#     # Wait to load page\n",
    "#     time.sleep(SCROLL_PAUSE_TIME)\n",
    "\n",
    "#     # Calculate new scroll height and compare with last scroll height\n",
    "#     new_height = browser.execute_script(\"return document.body.scrollHeight\")\n",
    "#     if new_height == last_height:\n",
    "\n",
    "#         # try again (can be removed)\n",
    "#         browser.execute_script(\"window.scrollTo(0, document.body.scrollHeight);\")\n",
    "\n",
    "#         # Wait to load page\n",
    "#         time.sleep(SCROLL_PAUSE_TIME)\n",
    "\n",
    "#         # Calculate new scroll height and compare with last scroll height\n",
    "#         new_height = browser.execute_script(\"return document.body.scrollHeight\")\n",
    "\n",
    "#         # check if the page height has remained the same\n",
    "#         if new_height == last_height:\n",
    "#             # if so, you are done\n",
    "#             break\n",
    "#         # if not, move on to the next loop\n",
    "#         else:\n",
    "#             last_height = new_height\n",
    "#             continue"
   ]
  },
  {
   "cell_type": "code",
   "execution_count": null,
   "metadata": {},
   "outputs": [],
   "source": [
    "\n",
    "# # Extract all rows\n",
    "# rows = browser.find_elements_by_xpath(\"//div[@class='row']\")\n",
    "\n",
    "# plants = []\n",
    "\n",
    "# for row in rows:    \n",
    "#     plant = {}\n",
    "#     heading1 = browser.find_element_by_tag_name('h6')\n",
    "#     heading2 = browser.find_element_by_xpath(\"//h6[@class='colored ng-binding']\")\n",
    "#     heading3 = browser.find_element_by_xpath(\"//em[@class='family-name ng-binding']\")\n",
    "#     a = heading1.find_element_by_tag_name('a')\n",
    "#     plant['url'] = a.get_attribute('href')\n",
    "#     plant['species_name'] = heading1.text\n",
    "#     plant['common_name'] = heading2.text\n",
    "#     plant['family'] = heading3.text\n",
    "#     plants.append(plant)\n",
    "\n",
    "# plants[0]"
   ]
  },
  {
   "cell_type": "code",
   "execution_count": null,
   "metadata": {},
   "outputs": [],
   "source": [
    "# images = browser.find_elements_by_xpath('//a[@ng-click=\"openLightboxModal($index)\"]')\n",
    "\n",
    "# wait = WebDriverWait(browser, 15)\n",
    "\n",
    "# links = []\n",
    "# for image in images[:4]:\n",
    "#     time.sleep(2)\n",
    "#     image.click()\n",
    "#     wait.until(ec.visibility_of_element_located((By.XPATH, \"//div[@class='lightbox-image-container']\")))\n",
    "#     lightbox = browser.find_element_by_class_name('lightbox-image-container')\n",
    "#     image_link = lightbox.find_element_by_tag_name('img').get_attribute('src')\n",
    "#     links.append(image_link)\n",
    "#     webdriver.ActionChains(browser).send_keys(Keys.ESCAPE).perform()\n",
    "#     time.sleep(2)"
   ]
  },
  {
   "cell_type": "code",
   "execution_count": 10,
   "metadata": {},
   "outputs": [],
   "source": [
    "selected_species = ['https://identify.plantnet.org/species/weurope/Acanthus%20mollis%20L.']"
   ]
  },
  {
   "cell_type": "code",
   "execution_count": 11,
   "metadata": {},
   "outputs": [],
   "source": [
    "full_image_list_2 = []\n",
    "page = 1"
   ]
  },
  {
   "cell_type": "code",
   "execution_count": 13,
   "metadata": {},
   "outputs": [
    {
     "ename": "TimeoutException",
     "evalue": "Message: \n",
     "output_type": "error",
     "traceback": [
      "\u001b[1;31m---------------------------------------------------------------------------\u001b[0m",
      "\u001b[1;31mTimeoutException\u001b[0m                          Traceback (most recent call last)",
      "\u001b[1;32m<ipython-input-13-15d4aa503fc2>\u001b[0m in \u001b[0;36m<module>\u001b[1;34m\u001b[0m\n\u001b[0;32m      7\u001b[0m     \u001b[1;31m# wait for element to appear\u001b[0m\u001b[1;33m\u001b[0m\u001b[1;33m\u001b[0m\u001b[1;33m\u001b[0m\u001b[0m\n\u001b[0;32m      8\u001b[0m     \u001b[0mwait\u001b[0m \u001b[1;33m=\u001b[0m \u001b[0mWebDriverWait\u001b[0m\u001b[1;33m(\u001b[0m\u001b[0mbrowser\u001b[0m\u001b[1;33m,\u001b[0m \u001b[1;36m10\u001b[0m\u001b[1;33m)\u001b[0m\u001b[1;33m\u001b[0m\u001b[1;33m\u001b[0m\u001b[0m\n\u001b[1;32m----> 9\u001b[1;33m     \u001b[0mwait\u001b[0m\u001b[1;33m.\u001b[0m\u001b[0muntil\u001b[0m\u001b[1;33m(\u001b[0m\u001b[0mec\u001b[0m\u001b[1;33m.\u001b[0m\u001b[0mvisibility_of_element_located\u001b[0m\u001b[1;33m(\u001b[0m\u001b[1;33m(\u001b[0m\u001b[0mBy\u001b[0m\u001b[1;33m.\u001b[0m\u001b[0mCLASS_NAME\u001b[0m\u001b[1;33m,\u001b[0m \u001b[1;34m\"table-condensed\"\u001b[0m\u001b[1;33m)\u001b[0m\u001b[1;33m)\u001b[0m\u001b[1;33m)\u001b[0m\u001b[1;33m\u001b[0m\u001b[1;33m\u001b[0m\u001b[0m\n\u001b[0m\u001b[0;32m     10\u001b[0m \u001b[1;33m\u001b[0m\u001b[0m\n\u001b[0;32m     11\u001b[0m     \u001b[1;31m# find the section with the plant info\u001b[0m\u001b[1;33m\u001b[0m\u001b[1;33m\u001b[0m\u001b[1;33m\u001b[0m\u001b[0m\n",
      "\u001b[1;32mc:\\users\\user\\.venvs\\lewagon\\lib\\site-packages\\selenium\\webdriver\\support\\wait.py\u001b[0m in \u001b[0;36muntil\u001b[1;34m(self, method, message)\u001b[0m\n\u001b[0;32m     78\u001b[0m             \u001b[1;32mif\u001b[0m \u001b[0mtime\u001b[0m\u001b[1;33m.\u001b[0m\u001b[0mtime\u001b[0m\u001b[1;33m(\u001b[0m\u001b[1;33m)\u001b[0m \u001b[1;33m>\u001b[0m \u001b[0mend_time\u001b[0m\u001b[1;33m:\u001b[0m\u001b[1;33m\u001b[0m\u001b[1;33m\u001b[0m\u001b[0m\n\u001b[0;32m     79\u001b[0m                 \u001b[1;32mbreak\u001b[0m\u001b[1;33m\u001b[0m\u001b[1;33m\u001b[0m\u001b[0m\n\u001b[1;32m---> 80\u001b[1;33m         \u001b[1;32mraise\u001b[0m \u001b[0mTimeoutException\u001b[0m\u001b[1;33m(\u001b[0m\u001b[0mmessage\u001b[0m\u001b[1;33m,\u001b[0m \u001b[0mscreen\u001b[0m\u001b[1;33m,\u001b[0m \u001b[0mstacktrace\u001b[0m\u001b[1;33m)\u001b[0m\u001b[1;33m\u001b[0m\u001b[1;33m\u001b[0m\u001b[0m\n\u001b[0m\u001b[0;32m     81\u001b[0m \u001b[1;33m\u001b[0m\u001b[0m\n\u001b[0;32m     82\u001b[0m     \u001b[1;32mdef\u001b[0m \u001b[0muntil_not\u001b[0m\u001b[1;33m(\u001b[0m\u001b[0mself\u001b[0m\u001b[1;33m,\u001b[0m \u001b[0mmethod\u001b[0m\u001b[1;33m,\u001b[0m \u001b[0mmessage\u001b[0m\u001b[1;33m=\u001b[0m\u001b[1;34m''\u001b[0m\u001b[1;33m)\u001b[0m\u001b[1;33m:\u001b[0m\u001b[1;33m\u001b[0m\u001b[1;33m\u001b[0m\u001b[0m\n",
      "\u001b[1;31mTimeoutException\u001b[0m: Message: \n"
     ]
    }
   ],
   "source": [
    "for selected in selected_species:\n",
    "    \n",
    "    # open the page \n",
    "    browser = webdriver.Chrome()\n",
    "    browser.get(selected)\n",
    "\n",
    "    # wait for element to appear\n",
    "    wait = WebDriverWait(browser, 10)\n",
    "    wait.until(ec.visibility_of_element_located((By.CLASS_NAME, \"table-condensed\")))\n",
    "\n",
    "    # find the section with the plant info\n",
    "    plant_info_node = browser.find_element_by_class_name(\"table-condensed\")\n",
    "    a = plant_info_node.find_element_by_tag_name('td a')\n",
    "    b = a.find_elements_by_xpath('//i[@class=\"ng-binding\"]')\n",
    "\n",
    "    image_angle = ['flower', 'habit', 'leaf', 'other']\n",
    "\n",
    "    for angle in image_angle:   \n",
    "        # select the angel of image\n",
    "        wait.until(ec.visibility_of_element_located((By.XPATH, f'//img[@ng-src=\"app/webimgs/tags/{angle}.png\"]')))\n",
    "        icone = browser.find_element_by_xpath(f'//img[@ng-src=\"app/webimgs/tags/{angle}.png\"]')\n",
    "        icone.click() \n",
    "        # select the images in the gallery\n",
    "        gallery = browser.find_element_by_class_name('gallery')\n",
    "        small_images = gallery.find_elements_by_tag_name('img')\n",
    "        image_count = 1\n",
    "        # loop over images to extract all plant info and url with 'src'\n",
    "        for small_image in small_images:\n",
    "            plant = {}\n",
    "            plant['family'] = b[0].text\n",
    "            plant['genus'] = b[1].text\n",
    "            plant['species'] = b[2].text\n",
    "            plant['angle'] = angle\n",
    "            plant['image_url'] = small_image.get_attribute('src')\n",
    "            plant['image_title'] = f'{b[2].text}_{angle}_img_{image_count}'\n",
    "            full_image_list_2.append(plant)\n",
    "            image_count += 1\n",
    "    browser.quit()\n",
    "    print(page)\n",
    "    page += 1"
   ]
  },
  {
   "cell_type": "code",
   "execution_count": null,
   "metadata": {},
   "outputs": [],
   "source": [
    "len(full_image_list_2)"
   ]
  },
  {
   "cell_type": "code",
   "execution_count": null,
   "metadata": {},
   "outputs": [],
   "source": [
    "# import pandas as pd\n",
    "# image_dataframe_v2 = pd.DataFrame(full_image_list_2)"
   ]
  },
  {
   "cell_type": "code",
   "execution_count": null,
   "metadata": {},
   "outputs": [],
   "source": [
    "# len(image_dataframe_v2.image_title.unique())"
   ]
  },
  {
   "cell_type": "code",
   "execution_count": null,
   "metadata": {},
   "outputs": [],
   "source": [
    "# image_dataframe_v2.to_csv('~/code/Clement-CL/bumbulb/data/bumbulb_v2.csv', index=False)"
   ]
  },
  {
   "cell_type": "code",
   "execution_count": null,
   "metadata": {},
   "outputs": [],
   "source": [
    "# image_dataframe_v2.head()"
   ]
  },
  {
   "cell_type": "code",
   "execution_count": null,
   "metadata": {},
   "outputs": [],
   "source": [
    "\n",
    "# full_list_for_csv = full_image_list"
   ]
  },
  {
   "cell_type": "code",
   "execution_count": null,
   "metadata": {},
   "outputs": [],
   "source": [
    "# len(image_list_0to9)"
   ]
  },
  {
   "cell_type": "code",
   "execution_count": null,
   "metadata": {},
   "outputs": [],
   "source": [
    "# full_list_for_csv[0].items()"
   ]
  },
  {
   "cell_type": "code",
   "execution_count": null,
   "metadata": {},
   "outputs": [],
   "source": [
    "# ignore\n",
    "\n",
    "\n",
    "# transfer key/value, image/url into two different values in a dictionary\n",
    "\n",
    "# image_title_list = []\n",
    "\n",
    "# for list_dict in full_list_for_csv:\n",
    "#     for item in list_dict.items():\n",
    "#         if '_img_' in item[0]:\n",
    "#             image_only = {}\n",
    "#             image_only['image_title'] = item[0]\n",
    "#             image_only['image_url'] = item[1]\n",
    "#             image_title_list.append(image_only)"
   ]
  },
  {
   "cell_type": "code",
   "execution_count": null,
   "metadata": {},
   "outputs": [],
   "source": [
    "\n",
    "# import pandas as pd"
   ]
  },
  {
   "cell_type": "code",
   "execution_count": null,
   "metadata": {},
   "outputs": [],
   "source": [
    "# bumbulb_url_df = image_dataframe_v2.drop_duplicates()"
   ]
  },
  {
   "cell_type": "code",
   "execution_count": null,
   "metadata": {},
   "outputs": [],
   "source": [
    "# bumbulb_url_df.to_csv('~/code/Clement-CL/bumbulb/data/bumbulb.csv', index=False)"
   ]
  },
  {
   "cell_type": "code",
   "execution_count": null,
   "metadata": {},
   "outputs": [],
   "source": [
    "# bumbulb_csv = pd.read_csv('~/code/Clement-CL/bumbulb/data/bumbulb_img_v2.csv')"
   ]
  },
  {
   "cell_type": "code",
   "execution_count": null,
   "metadata": {},
   "outputs": [],
   "source": [
    "# image_url_df = bumbulb_csv['image_url'][0]"
   ]
  },
  {
   "cell_type": "code",
   "execution_count": null,
   "metadata": {},
   "outputs": [],
   "source": [
    "\n",
    "# print(image_url)"
   ]
  },
  {
   "cell_type": "code",
   "execution_count": null,
   "metadata": {},
   "outputs": [],
   "source": [
    "\n",
    "# import wget"
   ]
  },
  {
   "cell_type": "code",
   "execution_count": null,
   "metadata": {},
   "outputs": [],
   "source": [
    "# bumbulb_csv"
   ]
  },
  {
   "cell_type": "code",
   "execution_count": null,
   "metadata": {},
   "outputs": [],
   "source": [
    "# for index, row in bumbulb_csv.iterrows():\n",
    "#     try:\n",
    "#         wget.download(row['image_url'], out = f\"{row['image_title']}.jpg\")\n",
    "#     except:\n",
    "#         continue"
   ]
  },
  {
   "cell_type": "code",
   "execution_count": null,
   "metadata": {},
   "outputs": [],
   "source": [
    "#local_image_filename"
   ]
  },
  {
   "cell_type": "code",
   "execution_count": null,
   "metadata": {},
   "outputs": [],
   "source": []
  }
 ],
 "metadata": {
  "kernelspec": {
   "display_name": "Python 3",
   "language": "python",
   "name": "python3"
  },
  "language_info": {
   "codemirror_mode": {
    "name": "ipython",
    "version": 3
   },
   "file_extension": ".py",
   "mimetype": "text/x-python",
   "name": "python",
   "nbconvert_exporter": "python",
   "pygments_lexer": "ipython3",
   "version": "3.7.7"
  },
  "toc": {
   "base_numbering": 1,
   "nav_menu": {},
   "number_sections": false,
   "sideBar": true,
   "skip_h1_title": false,
   "title_cell": "Table of Contents",
   "title_sidebar": "Contents",
   "toc_cell": false,
   "toc_position": {},
   "toc_section_display": true,
   "toc_window_display": false
  }
 },
 "nbformat": 4,
 "nbformat_minor": 4
}
