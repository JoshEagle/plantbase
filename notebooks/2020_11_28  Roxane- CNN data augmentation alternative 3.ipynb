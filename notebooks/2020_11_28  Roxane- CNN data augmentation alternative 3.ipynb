{
 "cells": [
  {
   "cell_type": "code",
   "execution_count": 8,
   "metadata": {},
   "outputs": [],
   "source": [
    "#In this model - I changed the data augmentation parameters and the weights for viola (class =15) and changed the number of layers "
   ]
  },
  {
   "cell_type": "code",
   "execution_count": 9,
   "metadata": {},
   "outputs": [],
   "source": [
    "import numpy as np\n",
    "import os\n",
    "import PIL\n",
    "import PIL.Image\n",
    "import pandas as pd"
   ]
  },
  {
   "cell_type": "markdown",
   "metadata": {},
   "source": [
    "# Setting weights to the train class_weights"
   ]
  },
  {
   "cell_type": "code",
   "execution_count": 10,
   "metadata": {},
   "outputs": [],
   "source": [
    "#setting class_weights based on the class 10. \n",
    "#Essentially we treating every instance of the classes as instances of class 10\n",
    "# For example weight of 4 for class 0 means: \n",
    "    #treat every instance of class 0 as 4 instances of class 10\n",
    "\n",
    "class_weight = {0:4. ,\n",
    "                1:2., \n",
    "                2:1.5 ,\n",
    "                3:2.,\n",
    "                4:3.,\n",
    "                5:2.,\n",
    "                6:1.5,\n",
    "                7:4.,\n",
    "                8:2.,\n",
    "                9:3.,\n",
    "                10:1.,\n",
    "                11:4.,\n",
    "                12:3.,\n",
    "                13:2.,\n",
    "                14:3.,\n",
    "                15:2.5\n",
    "               }"
   ]
  },
  {
   "cell_type": "markdown",
   "metadata": {},
   "source": [
    "# Loading the images into train and validation sets"
   ]
  },
  {
   "cell_type": "markdown",
   "metadata": {},
   "source": [
    "Load the images"
   ]
  },
  {
   "cell_type": "code",
   "execution_count": 11,
   "metadata": {},
   "outputs": [],
   "source": [
    "from tensorflow.keras.preprocessing.image import ImageDataGenerator"
   ]
  },
  {
   "cell_type": "code",
   "execution_count": 12,
   "metadata": {},
   "outputs": [],
   "source": [
    "#setting the directory for the train dataset\n",
    "directory = r\"../raw_data/train\""
   ]
  },
  {
   "cell_type": "code",
   "execution_count": 31,
   "metadata": {},
   "outputs": [],
   "source": [
    "#augmenting the data \n",
    "train_datagen = ImageDataGenerator(\n",
    "        rescale=1./255,\n",
    "        vertical_flip=True,\n",
    "        width_shift_range=0.3,\n",
    "        zoom_range=[0.5, 1.5],\n",
    "        rotation_range =90,\n",
    "        brightness_range=(0.1, 0.9),\n",
    "        channel_shift_range=150.0,\n",
    "        validation_split = 0.2)\n",
    "\n",
    "valid_datagen = ImageDataGenerator(\n",
    "        rescale=1./255,\n",
    "        validation_split = 0.2)"
   ]
  },
  {
   "cell_type": "code",
   "execution_count": 32,
   "metadata": {},
   "outputs": [],
   "source": [
    "img_height, img_width = (256,256)"
   ]
  },
  {
   "cell_type": "code",
   "execution_count": 33,
   "metadata": {},
   "outputs": [
    {
     "name": "stdout",
     "output_type": "stream",
     "text": [
      "Found 3460 images belonging to 16 classes.\n",
      "Found 857 images belonging to 16 classes.\n"
     ]
    }
   ],
   "source": [
    "train_generator = train_datagen.flow_from_directory(\n",
    "    directory,\n",
    "    target_size=(img_height, img_width),\n",
    "    batch_size=32,\n",
    "    class_mode='binary',\n",
    "    subset='training',\n",
    "    seed = 123) # set as training data\n",
    "\n",
    "validation_generator = valid_datagen.flow_from_directory(\n",
    "    directory, # same directory as training data\n",
    "    target_size=(img_height, img_width),\n",
    "    batch_size=32,\n",
    "    class_mode='binary',\n",
    "    subset='validation',\n",
    "    seed = 123) # set as validation data"
   ]
  },
  {
   "cell_type": "markdown",
   "metadata": {},
   "source": [
    "# Training baseline model"
   ]
  },
  {
   "cell_type": "code",
   "execution_count": 34,
   "metadata": {},
   "outputs": [],
   "source": [
    "from tensorflow.keras import layers\n",
    "from tensorflow.keras.models import Sequential"
   ]
  },
  {
   "cell_type": "code",
   "execution_count": 35,
   "metadata": {},
   "outputs": [],
   "source": [
    "num_classes = 16\n",
    "\n",
    "model = Sequential([\n",
    "  #layers.experimental.preprocessing.Rescaling(1./255, input_shape=(img_height, img_width, 3)),\n",
    "  layers.Conv2D(16, 3, input_shape=(img_height, img_width, 3),padding='same', activation='relu'),\n",
    "  layers.MaxPooling2D(),\n",
    "  layers.Conv2D(32, 3, padding='same', activation='relu'),\n",
    "  layers.MaxPooling2D(),\n",
    "  layers.Conv2D(64, 3, padding='same', activation='relu'),\n",
    "  layers.Conv2D(64, 3, padding='same', activation='relu'),\n",
    "  layers.Conv2D(64, 3, padding='same', activation='relu'),\n",
    "  layers.MaxPooling2D(),\n",
    "  layers.Flatten(),\n",
    "  layers.Dense(64, activation='relu'),\n",
    "  layers.Dense(num_classes)\n",
    "])"
   ]
  },
  {
   "cell_type": "code",
   "execution_count": 36,
   "metadata": {},
   "outputs": [],
   "source": [
    "import tensorflow.keras.losses\n",
    "\n",
    "model.compile(optimizer='adam',\n",
    "              loss=tensorflow.keras.losses.SparseCategoricalCrossentropy(from_logits=True),\n",
    "              metrics=['accuracy'])"
   ]
  },
  {
   "cell_type": "code",
   "execution_count": 37,
   "metadata": {},
   "outputs": [
    {
     "name": "stdout",
     "output_type": "stream",
     "text": [
      "Model: \"sequential_1\"\n",
      "_________________________________________________________________\n",
      "Layer (type)                 Output Shape              Param #   \n",
      "=================================================================\n",
      "conv2d_5 (Conv2D)            (None, 256, 256, 16)      448       \n",
      "_________________________________________________________________\n",
      "max_pooling2d_3 (MaxPooling2 (None, 128, 128, 16)      0         \n",
      "_________________________________________________________________\n",
      "conv2d_6 (Conv2D)            (None, 128, 128, 32)      4640      \n",
      "_________________________________________________________________\n",
      "max_pooling2d_4 (MaxPooling2 (None, 64, 64, 32)        0         \n",
      "_________________________________________________________________\n",
      "conv2d_7 (Conv2D)            (None, 64, 64, 64)        18496     \n",
      "_________________________________________________________________\n",
      "conv2d_8 (Conv2D)            (None, 64, 64, 64)        36928     \n",
      "_________________________________________________________________\n",
      "conv2d_9 (Conv2D)            (None, 64, 64, 64)        36928     \n",
      "_________________________________________________________________\n",
      "max_pooling2d_5 (MaxPooling2 (None, 32, 32, 64)        0         \n",
      "_________________________________________________________________\n",
      "flatten_1 (Flatten)          (None, 65536)             0         \n",
      "_________________________________________________________________\n",
      "dense_2 (Dense)              (None, 64)                4194368   \n",
      "_________________________________________________________________\n",
      "dense_3 (Dense)              (None, 16)                1040      \n",
      "=================================================================\n",
      "Total params: 4,292,848\n",
      "Trainable params: 4,292,848\n",
      "Non-trainable params: 0\n",
      "_________________________________________________________________\n"
     ]
    }
   ],
   "source": [
    "model.summary()"
   ]
  },
  {
   "cell_type": "code",
   "execution_count": 38,
   "metadata": {},
   "outputs": [
    {
     "name": "stdout",
     "output_type": "stream",
     "text": [
      "Epoch 1/10\n",
      "108/108 [==============================] - 124s 1s/step - loss: 5.9755 - accuracy: 0.0802 - val_loss: 2.6947 - val_accuracy: 0.1226\n",
      "Epoch 2/10\n",
      "108/108 [==============================] - 125s 1s/step - loss: 5.8611 - accuracy: 0.1228 - val_loss: 2.6231 - val_accuracy: 0.1502\n",
      "Epoch 3/10\n",
      "108/108 [==============================] - 126s 1s/step - loss: 5.6384 - accuracy: 0.1613 - val_loss: 2.5318 - val_accuracy: 0.1262\n",
      "Epoch 4/10\n",
      "108/108 [==============================] - 119s 1s/step - loss: 5.4924 - accuracy: 0.1771 - val_loss: 2.4297 - val_accuracy: 0.2019\n",
      "Epoch 5/10\n",
      "108/108 [==============================] - 125s 1s/step - loss: 5.4468 - accuracy: 0.1663 - val_loss: 2.5172 - val_accuracy: 0.1863\n",
      "Epoch 6/10\n",
      "108/108 [==============================] - 122s 1s/step - loss: 5.3609 - accuracy: 0.1765 - val_loss: 2.4269 - val_accuracy: 0.1995\n",
      "Epoch 7/10\n",
      "108/108 [==============================] - 132s 1s/step - loss: 5.3029 - accuracy: 0.1899 - val_loss: 2.5092 - val_accuracy: 0.1923\n",
      "Epoch 8/10\n",
      "108/108 [==============================] - 140s 1s/step - loss: 5.1892 - accuracy: 0.2179 - val_loss: 2.2992 - val_accuracy: 0.2668\n",
      "Epoch 9/10\n",
      "108/108 [==============================] - 145s 1s/step - loss: 5.0812 - accuracy: 0.2447 - val_loss: 2.2230 - val_accuracy: 0.3041\n",
      "Epoch 10/10\n",
      "108/108 [==============================] - 692s 6s/step - loss: 4.9526 - accuracy: 0.2529 - val_loss: 2.1385 - val_accuracy: 0.3173\n"
     ]
    }
   ],
   "source": [
    "epochs=10\n",
    "history = model.fit(\n",
    "    train_generator,\n",
    "    steps_per_epoch = train_generator.samples // 32,\n",
    "    validation_data = validation_generator, \n",
    "    validation_steps = validation_generator.samples // 32,\n",
    "    class_weight=class_weight,\n",
    "    epochs = epochs)"
   ]
  },
  {
   "cell_type": "code",
   "execution_count": 60,
   "metadata": {},
   "outputs": [
    {
     "data": {
      "image/png": "[encoded data removed]",
      "text/plain": [
       "<Figure size 576x576 with 2 Axes>"
      ]
     },
     "metadata": {
      "needs_background": "light"
     },
     "output_type": "display_data"
    }
   ],
   "source": [
    "import matplotlib.pyplot as plt\n",
    "\n",
    "acc = history.history['accuracy']\n",
    "val_acc = history.history['val_accuracy']\n",
    "\n",
    "loss = history.history['loss']\n",
    "val_loss = history.history['val_loss']\n",
    "\n",
    "epochs_range = range(epochs)\n",
    "\n",
    "plt.figure(figsize=(8, 8))\n",
    "plt.subplot(1, 2, 1)\n",
    "plt.plot(epochs_range, acc, label='Training Accuracy')\n",
    "plt.plot(epochs_range, val_acc, label='Validation Accuracy')\n",
    "plt.legend(loc='lower right')\n",
    "plt.title('Training and Validation Accuracy')\n",
    "\n",
    "plt.subplot(1, 2, 2)\n",
    "plt.plot(epochs_range, loss, label='Training Loss')\n",
    "plt.plot(epochs_range, val_loss, label='Validation Loss')\n",
    "plt.legend(loc='upper right')\n",
    "plt.title('Training and Validation Loss')\n",
    "plt.show()"
   ]
  },
  {
   "cell_type": "code",
   "execution_count": 40,
   "metadata": {},
   "outputs": [
    {
     "name": "stdout",
     "output_type": "stream",
     "text": [
      "WARNING:tensorflow:From /Users/momeni/.pyenv/versions/3.7.7/envs/lewagon/lib/python3.7/site-packages/tensorflow/python/training/tracking/tracking.py:111: Model.state_updates (from tensorflow.python.keras.engine.training) is deprecated and will be removed in a future version.\n",
      "Instructions for updating:\n",
      "This property should not be used in TensorFlow 2.0, as updates are applied automatically.\n",
      "WARNING:tensorflow:From /Users/momeni/.pyenv/versions/3.7.7/envs/lewagon/lib/python3.7/site-packages/tensorflow/python/training/tracking/tracking.py:111: Layer.updates (from tensorflow.python.keras.engine.base_layer) is deprecated and will be removed in a future version.\n",
      "Instructions for updating:\n",
      "This property should not be used in TensorFlow 2.0, as updates are applied automatically.\n",
      "INFO:tensorflow:Assets written to: ../model/cnn_3_rm/assets\n"
     ]
    }
   ],
   "source": [
    "model.save(r'../model/cnn_3_rm')"
   ]
  },
  {
   "cell_type": "markdown",
   "metadata": {},
   "source": [
    "# Checking succession rate"
   ]
  },
  {
   "cell_type": "markdown",
   "metadata": {},
   "source": [
    "#### Loading test csv"
   ]
  },
  {
   "cell_type": "code",
   "execution_count": 41,
   "metadata": {},
   "outputs": [],
   "source": [
    "import pandas as pd\n",
    "test_df = pd.read_csv(\"../plantbase/data/test_data.csv\").drop(columns = \"Unnamed: 0\")"
   ]
  },
  {
   "cell_type": "code",
   "execution_count": 42,
   "metadata": {},
   "outputs": [
    {
     "data": {
      "text/html": [
       "<div>\n",
       "<style scoped>\n",
       "    .dataframe tbody tr th:only-of-type {\n",
       "        vertical-align: middle;\n",
       "    }\n",
       "\n",
       "    .dataframe tbody tr th {\n",
       "        vertical-align: top;\n",
       "    }\n",
       "\n",
       "    .dataframe thead th {\n",
       "        text-align: right;\n",
       "    }\n",
       "</style>\n",
       "<table border=\"1\" class=\"dataframe\">\n",
       "  <thead>\n",
       "    <tr style=\"text-align: right;\">\n",
       "      <th></th>\n",
       "      <th>id</th>\n",
       "      <th>genus</th>\n",
       "    </tr>\n",
       "  </thead>\n",
       "  <tbody>\n",
       "    <tr>\n",
       "      <th>0</th>\n",
       "      <td>100035</td>\n",
       "      <td>Verbascum</td>\n",
       "    </tr>\n",
       "    <tr>\n",
       "      <th>1</th>\n",
       "      <td>100058</td>\n",
       "      <td>Trifolium</td>\n",
       "    </tr>\n",
       "    <tr>\n",
       "      <th>2</th>\n",
       "      <td>100186</td>\n",
       "      <td>Veronica</td>\n",
       "    </tr>\n",
       "    <tr>\n",
       "      <th>3</th>\n",
       "      <td>100238</td>\n",
       "      <td>Campanula</td>\n",
       "    </tr>\n",
       "    <tr>\n",
       "      <th>4</th>\n",
       "      <td>1003</td>\n",
       "      <td>Geranium</td>\n",
       "    </tr>\n",
       "  </tbody>\n",
       "</table>\n",
       "</div>"
      ],
      "text/plain": [
       "       id      genus\n",
       "0  100035  Verbascum\n",
       "1  100058  Trifolium\n",
       "2  100186   Veronica\n",
       "3  100238  Campanula\n",
       "4    1003   Geranium"
      ]
     },
     "execution_count": 42,
     "metadata": {},
     "output_type": "execute_result"
    }
   ],
   "source": [
    "test_df = test_df[['id', 'genus']]\n",
    "test_df.head()"
   ]
  },
  {
   "cell_type": "code",
   "execution_count": 43,
   "metadata": {},
   "outputs": [
    {
     "data": {
      "text/plain": [
       "array(['Ajuga', 'Allium', 'Campanula', 'Cirsium', 'Crataegus', 'Gentiana',\n",
       "       'Geranium', 'Iris', 'Malva', 'Narcissus', 'Ophrys', 'Rosa',\n",
       "       'Trifolium', 'Verbascum', 'Veronica', 'Viola'], dtype=object)"
      ]
     },
     "execution_count": 43,
     "metadata": {},
     "output_type": "execute_result"
    }
   ],
   "source": [
    "import numpy as np\n",
    "columns = np.sort(test_df.genus.unique())\n",
    "columns"
   ]
  },
  {
   "cell_type": "code",
   "execution_count": 44,
   "metadata": {},
   "outputs": [
    {
     "data": {
      "text/plain": [
       "{0: 'Ajuga',\n",
       " 1: 'Allium',\n",
       " 2: 'Campanula',\n",
       " 3: 'Cirsium',\n",
       " 4: 'Crataegus',\n",
       " 5: 'Gentiana',\n",
       " 6: 'Geranium',\n",
       " 7: 'Iris',\n",
       " 8: 'Malva',\n",
       " 9: 'Narcissus',\n",
       " 10: 'Ophrys',\n",
       " 11: 'Rosa',\n",
       " 12: 'Trifolium',\n",
       " 13: 'Verbascum',\n",
       " 14: 'Veronica',\n",
       " 15: 'Viola'}"
      ]
     },
     "execution_count": 44,
     "metadata": {},
     "output_type": "execute_result"
    }
   ],
   "source": [
    "rename_columns = {}\n",
    "col_index = 0\n",
    "for n in columns:\n",
    "    rename_columns[col_index] = n\n",
    "    col_index += 1\n",
    "    \n",
    "rename_columns"
   ]
  },
  {
   "cell_type": "markdown",
   "metadata": {},
   "source": [
    "#### Loading test images using tensorflow load_img and img_to_array"
   ]
  },
  {
   "cell_type": "code",
   "execution_count": 45,
   "metadata": {},
   "outputs": [],
   "source": [
    "from tensorflow.keras.preprocessing.image import load_img\n",
    "from tensorflow.keras.preprocessing.image import img_to_array"
   ]
  },
  {
   "cell_type": "code",
   "execution_count": 46,
   "metadata": {},
   "outputs": [],
   "source": [
    "X_list = []\n",
    "y_list = []\n",
    "\n",
    "for index, row in test_df.iterrows():\n",
    "    img = load_img(rf\"../raw_data/test/{row.id}.jpg\", target_size=(256, 256))\n",
    "    img = tensorflow.keras.preprocessing.image.img_to_array(img)\n",
    "    #img = tensorflow.expand_dims(img, 0)\n",
    "    X_list.append(img)\n",
    "    y_list.append((row.genus, row.id))"
   ]
  },
  {
   "cell_type": "code",
   "execution_count": 47,
   "metadata": {},
   "outputs": [
    {
     "data": {
      "text/html": [
       "<div>\n",
       "<style scoped>\n",
       "    .dataframe tbody tr th:only-of-type {\n",
       "        vertical-align: middle;\n",
       "    }\n",
       "\n",
       "    .dataframe tbody tr th {\n",
       "        vertical-align: top;\n",
       "    }\n",
       "\n",
       "    .dataframe thead th {\n",
       "        text-align: right;\n",
       "    }\n",
       "</style>\n",
       "<table border=\"1\" class=\"dataframe\">\n",
       "  <thead>\n",
       "    <tr style=\"text-align: right;\">\n",
       "      <th></th>\n",
       "      <th>true_genus</th>\n",
       "      <th>id</th>\n",
       "    </tr>\n",
       "  </thead>\n",
       "  <tbody>\n",
       "    <tr>\n",
       "      <th>0</th>\n",
       "      <td>Verbascum</td>\n",
       "      <td>100035</td>\n",
       "    </tr>\n",
       "    <tr>\n",
       "      <th>1</th>\n",
       "      <td>Trifolium</td>\n",
       "      <td>100058</td>\n",
       "    </tr>\n",
       "    <tr>\n",
       "      <th>2</th>\n",
       "      <td>Veronica</td>\n",
       "      <td>100186</td>\n",
       "    </tr>\n",
       "    <tr>\n",
       "      <th>3</th>\n",
       "      <td>Campanula</td>\n",
       "      <td>100238</td>\n",
       "    </tr>\n",
       "    <tr>\n",
       "      <th>4</th>\n",
       "      <td>Geranium</td>\n",
       "      <td>1003</td>\n",
       "    </tr>\n",
       "  </tbody>\n",
       "</table>\n",
       "</div>"
      ],
      "text/plain": [
       "  true_genus      id\n",
       "0  Verbascum  100035\n",
       "1  Trifolium  100058\n",
       "2   Veronica  100186\n",
       "3  Campanula  100238\n",
       "4   Geranium    1003"
      ]
     },
     "execution_count": 47,
     "metadata": {},
     "output_type": "execute_result"
    }
   ],
   "source": [
    "y_true_df = pd.DataFrame(y_list, columns = ['true_genus', 'id'])\n",
    "y_true_df.head()"
   ]
  },
  {
   "cell_type": "code",
   "execution_count": 48,
   "metadata": {},
   "outputs": [],
   "source": [
    "X_test = np.stack(X_list, axis=0)"
   ]
  },
  {
   "cell_type": "code",
   "execution_count": 49,
   "metadata": {},
   "outputs": [],
   "source": [
    "y_pred = model.predict(X_test)"
   ]
  },
  {
   "cell_type": "code",
   "execution_count": 50,
   "metadata": {},
   "outputs": [
    {
     "data": {
      "text/plain": [
       "(1341, 16)"
      ]
     },
     "execution_count": 50,
     "metadata": {},
     "output_type": "execute_result"
    }
   ],
   "source": [
    "y_pred.shape"
   ]
  },
  {
   "cell_type": "code",
   "execution_count": 51,
   "metadata": {},
   "outputs": [
    {
     "data": {
      "text/html": [
       "<div>\n",
       "<style scoped>\n",
       "    .dataframe tbody tr th:only-of-type {\n",
       "        vertical-align: middle;\n",
       "    }\n",
       "\n",
       "    .dataframe tbody tr th {\n",
       "        vertical-align: top;\n",
       "    }\n",
       "\n",
       "    .dataframe thead th {\n",
       "        text-align: right;\n",
       "    }\n",
       "</style>\n",
       "<table border=\"1\" class=\"dataframe\">\n",
       "  <thead>\n",
       "    <tr style=\"text-align: right;\">\n",
       "      <th></th>\n",
       "      <th>Ajuga</th>\n",
       "      <th>Allium</th>\n",
       "      <th>Campanula</th>\n",
       "      <th>Cirsium</th>\n",
       "      <th>Crataegus</th>\n",
       "      <th>Gentiana</th>\n",
       "      <th>Geranium</th>\n",
       "      <th>Iris</th>\n",
       "      <th>Malva</th>\n",
       "      <th>Narcissus</th>\n",
       "      <th>Ophrys</th>\n",
       "      <th>Rosa</th>\n",
       "      <th>Trifolium</th>\n",
       "      <th>Verbascum</th>\n",
       "      <th>Veronica</th>\n",
       "      <th>Viola</th>\n",
       "    </tr>\n",
       "  </thead>\n",
       "  <tbody>\n",
       "    <tr>\n",
       "      <th>0</th>\n",
       "      <td>-2023.114014</td>\n",
       "      <td>-3365.900391</td>\n",
       "      <td>-3581.814209</td>\n",
       "      <td>-3413.631836</td>\n",
       "      <td>-1887.825806</td>\n",
       "      <td>837.167969</td>\n",
       "      <td>-3096.028076</td>\n",
       "      <td>1508.556274</td>\n",
       "      <td>-3210.463135</td>\n",
       "      <td>1785.828857</td>\n",
       "      <td>182.369110</td>\n",
       "      <td>-436.427643</td>\n",
       "      <td>-1124.246460</td>\n",
       "      <td>1950.775513</td>\n",
       "      <td>-2645.314209</td>\n",
       "      <td>880.541382</td>\n",
       "    </tr>\n",
       "    <tr>\n",
       "      <th>1</th>\n",
       "      <td>231.936966</td>\n",
       "      <td>-121.793205</td>\n",
       "      <td>523.629700</td>\n",
       "      <td>-1547.799438</td>\n",
       "      <td>-1721.629028</td>\n",
       "      <td>717.939270</td>\n",
       "      <td>-30.378267</td>\n",
       "      <td>662.704834</td>\n",
       "      <td>-803.771057</td>\n",
       "      <td>273.809509</td>\n",
       "      <td>-102.642227</td>\n",
       "      <td>180.057938</td>\n",
       "      <td>25.318199</td>\n",
       "      <td>312.621918</td>\n",
       "      <td>907.816650</td>\n",
       "      <td>-443.965912</td>\n",
       "    </tr>\n",
       "    <tr>\n",
       "      <th>2</th>\n",
       "      <td>148.572906</td>\n",
       "      <td>-199.254318</td>\n",
       "      <td>137.476120</td>\n",
       "      <td>-56.768887</td>\n",
       "      <td>-192.207260</td>\n",
       "      <td>314.121460</td>\n",
       "      <td>-39.803009</td>\n",
       "      <td>75.353821</td>\n",
       "      <td>-145.019943</td>\n",
       "      <td>-468.576691</td>\n",
       "      <td>-138.687347</td>\n",
       "      <td>-90.473640</td>\n",
       "      <td>-75.508430</td>\n",
       "      <td>-206.672806</td>\n",
       "      <td>352.136353</td>\n",
       "      <td>137.983780</td>\n",
       "    </tr>\n",
       "    <tr>\n",
       "      <th>3</th>\n",
       "      <td>70.511551</td>\n",
       "      <td>-186.270599</td>\n",
       "      <td>188.742630</td>\n",
       "      <td>98.057854</td>\n",
       "      <td>-610.466736</td>\n",
       "      <td>346.850464</td>\n",
       "      <td>254.675110</td>\n",
       "      <td>95.750137</td>\n",
       "      <td>35.316063</td>\n",
       "      <td>-940.732178</td>\n",
       "      <td>-120.292870</td>\n",
       "      <td>-21.796915</td>\n",
       "      <td>-34.500523</td>\n",
       "      <td>-565.822998</td>\n",
       "      <td>308.680573</td>\n",
       "      <td>343.646484</td>\n",
       "    </tr>\n",
       "    <tr>\n",
       "      <th>4</th>\n",
       "      <td>204.535263</td>\n",
       "      <td>-162.313614</td>\n",
       "      <td>402.907410</td>\n",
       "      <td>-15.550681</td>\n",
       "      <td>-754.892029</td>\n",
       "      <td>516.192871</td>\n",
       "      <td>164.819565</td>\n",
       "      <td>251.636917</td>\n",
       "      <td>-42.125202</td>\n",
       "      <td>-1086.558838</td>\n",
       "      <td>-300.745911</td>\n",
       "      <td>-132.305237</td>\n",
       "      <td>-92.566292</td>\n",
       "      <td>-830.688660</td>\n",
       "      <td>470.097595</td>\n",
       "      <td>493.093140</td>\n",
       "    </tr>\n",
       "  </tbody>\n",
       "</table>\n",
       "</div>"
      ],
      "text/plain": [
       "         Ajuga       Allium    Campanula      Cirsium    Crataegus  \\\n",
       "0 -2023.114014 -3365.900391 -3581.814209 -3413.631836 -1887.825806   \n",
       "1   231.936966  -121.793205   523.629700 -1547.799438 -1721.629028   \n",
       "2   148.572906  -199.254318   137.476120   -56.768887  -192.207260   \n",
       "3    70.511551  -186.270599   188.742630    98.057854  -610.466736   \n",
       "4   204.535263  -162.313614   402.907410   -15.550681  -754.892029   \n",
       "\n",
       "     Gentiana     Geranium         Iris        Malva    Narcissus      Ophrys  \\\n",
       "0  837.167969 -3096.028076  1508.556274 -3210.463135  1785.828857  182.369110   \n",
       "1  717.939270   -30.378267   662.704834  -803.771057   273.809509 -102.642227   \n",
       "2  314.121460   -39.803009    75.353821  -145.019943  -468.576691 -138.687347   \n",
       "3  346.850464   254.675110    95.750137    35.316063  -940.732178 -120.292870   \n",
       "4  516.192871   164.819565   251.636917   -42.125202 -1086.558838 -300.745911   \n",
       "\n",
       "         Rosa    Trifolium    Verbascum     Veronica       Viola  \n",
       "0 -436.427643 -1124.246460  1950.775513 -2645.314209  880.541382  \n",
       "1  180.057938    25.318199   312.621918   907.816650 -443.965912  \n",
       "2  -90.473640   -75.508430  -206.672806   352.136353  137.983780  \n",
       "3  -21.796915   -34.500523  -565.822998   308.680573  343.646484  \n",
       "4 -132.305237   -92.566292  -830.688660   470.097595  493.093140  "
      ]
     },
     "execution_count": 51,
     "metadata": {},
     "output_type": "execute_result"
    }
   ],
   "source": [
    "y_pred_df = pd.DataFrame(y_pred)\n",
    "y_pred_df = y_pred_df.rename(columns = rename_columns)\n",
    "y_pred_df.head()"
   ]
  },
  {
   "cell_type": "code",
   "execution_count": 52,
   "metadata": {},
   "outputs": [],
   "source": [
    "y_true = np.stack(y_list, axis = 0)"
   ]
  },
  {
   "cell_type": "code",
   "execution_count": 53,
   "metadata": {},
   "outputs": [
    {
     "data": {
      "text/plain": [
       "0       Verbascum\n",
       "1        Veronica\n",
       "2        Veronica\n",
       "3        Gentiana\n",
       "4        Gentiana\n",
       "5        Veronica\n",
       "6       Verbascum\n",
       "7       Narcissus\n",
       "8        Geranium\n",
       "9        Veronica\n",
       "10       Veronica\n",
       "11          Malva\n",
       "12          Viola\n",
       "13      Campanula\n",
       "14       Gentiana\n",
       "15       Veronica\n",
       "16       Veronica\n",
       "17      Trifolium\n",
       "18         Ophrys\n",
       "19      Campanula\n",
       "20          Malva\n",
       "21       Veronica\n",
       "22       Gentiana\n",
       "23      Campanula\n",
       "24       Veronica\n",
       "25         Ophrys\n",
       "26      Verbascum\n",
       "27       Geranium\n",
       "28          Viola\n",
       "29       Veronica\n",
       "          ...    \n",
       "1311     Geranium\n",
       "1312        Malva\n",
       "1313     Veronica\n",
       "1314        Viola\n",
       "1315    Trifolium\n",
       "1316      Cirsium\n",
       "1317    Campanula\n",
       "1318     Gentiana\n",
       "1319     Geranium\n",
       "1320     Veronica\n",
       "1321    Campanula\n",
       "1322        Viola\n",
       "1323     Veronica\n",
       "1324     Veronica\n",
       "1325        Malva\n",
       "1326     Veronica\n",
       "1327      Cirsium\n",
       "1328         Rosa\n",
       "1329     Gentiana\n",
       "1330     Veronica\n",
       "1331         Iris\n",
       "1332    Verbascum\n",
       "1333     Veronica\n",
       "1334     Gentiana\n",
       "1335    Trifolium\n",
       "1336    Verbascum\n",
       "1337    Verbascum\n",
       "1338     Veronica\n",
       "1339     Veronica\n",
       "1340     Geranium\n",
       "Name: pred_genus, Length: 1341, dtype: object"
      ]
     },
     "execution_count": 53,
     "metadata": {},
     "output_type": "execute_result"
    }
   ],
   "source": [
    "y_pred_df['pred_genus'] = y_pred_df.idxmax(axis = 1)\n",
    "y_pred_df['pred_genus']"
   ]
  },
  {
   "cell_type": "code",
   "execution_count": 54,
   "metadata": {},
   "outputs": [],
   "source": [
    "prediction_review = (y_pred_df['pred_genus'] == y_true_df['true_genus'])"
   ]
  },
  {
   "cell_type": "code",
   "execution_count": 55,
   "metadata": {},
   "outputs": [],
   "source": [
    "prediction_vec_df = y_pred_df[['pred_genus']].copy()\n",
    "prediction_vec_df['true_genus'] = y_true_df['true_genus'].copy()\n",
    "prediction_vec_df['result'] = (y_pred_df['pred_genus'] == y_true_df['true_genus'])"
   ]
  },
  {
   "cell_type": "code",
   "execution_count": 56,
   "metadata": {},
   "outputs": [
    {
     "data": {
      "text/html": [
       "<div>\n",
       "<style scoped>\n",
       "    .dataframe tbody tr th:only-of-type {\n",
       "        vertical-align: middle;\n",
       "    }\n",
       "\n",
       "    .dataframe tbody tr th {\n",
       "        vertical-align: top;\n",
       "    }\n",
       "\n",
       "    .dataframe thead th {\n",
       "        text-align: right;\n",
       "    }\n",
       "</style>\n",
       "<table border=\"1\" class=\"dataframe\">\n",
       "  <thead>\n",
       "    <tr style=\"text-align: right;\">\n",
       "      <th></th>\n",
       "      <th>pred_genus</th>\n",
       "      <th>true_genus</th>\n",
       "      <th>result</th>\n",
       "      <th>false</th>\n",
       "      <th>true</th>\n",
       "    </tr>\n",
       "  </thead>\n",
       "  <tbody>\n",
       "    <tr>\n",
       "      <th>0</th>\n",
       "      <td>Verbascum</td>\n",
       "      <td>Verbascum</td>\n",
       "      <td>True</td>\n",
       "      <td>0</td>\n",
       "      <td>1</td>\n",
       "    </tr>\n",
       "    <tr>\n",
       "      <th>1</th>\n",
       "      <td>Veronica</td>\n",
       "      <td>Trifolium</td>\n",
       "      <td>False</td>\n",
       "      <td>1</td>\n",
       "      <td>0</td>\n",
       "    </tr>\n",
       "  </tbody>\n",
       "</table>\n",
       "</div>"
      ],
      "text/plain": [
       "  pred_genus true_genus  result  false  true\n",
       "0  Verbascum  Verbascum    True      0     1\n",
       "1   Veronica  Trifolium   False      1     0"
      ]
     },
     "execution_count": 56,
     "metadata": {},
     "output_type": "execute_result"
    }
   ],
   "source": [
    "prediction_vec_df['false'] = prediction_vec_df['result'].apply(lambda x: 1 if x == False else 0)\n",
    "prediction_vec_df['true'] = prediction_vec_df['result'].apply(lambda x: 1 if x == True else 0)\n",
    "prediction_vec_df.head(2)"
   ]
  },
  {
   "cell_type": "code",
   "execution_count": 57,
   "metadata": {},
   "outputs": [],
   "source": [
    "true_pos_neg = prediction_vec_df.groupby('true_genus').sum().drop(columns=['result'])\n",
    "true_pos_neg['percent_true'] = true_pos_neg['true'] / (true_pos_neg['true'] + true_pos_neg['false'])"
   ]
  },
  {
   "cell_type": "code",
   "execution_count": 58,
   "metadata": {},
   "outputs": [],
   "source": [
    "success_ratio = round(true_pos_neg[['percent_true']]*100).sort_values(by='percent_true', ascending=False)"
   ]
  },
  {
   "cell_type": "code",
   "execution_count": 59,
   "metadata": {},
   "outputs": [
    {
     "data": {
      "text/html": [
       "<div>\n",
       "<style scoped>\n",
       "    .dataframe tbody tr th:only-of-type {\n",
       "        vertical-align: middle;\n",
       "    }\n",
       "\n",
       "    .dataframe tbody tr th {\n",
       "        vertical-align: top;\n",
       "    }\n",
       "\n",
       "    .dataframe thead th {\n",
       "        text-align: right;\n",
       "    }\n",
       "</style>\n",
       "<table border=\"1\" class=\"dataframe\">\n",
       "  <thead>\n",
       "    <tr style=\"text-align: right;\">\n",
       "      <th></th>\n",
       "      <th>percent_true</th>\n",
       "    </tr>\n",
       "    <tr>\n",
       "      <th>true_genus</th>\n",
       "      <th></th>\n",
       "    </tr>\n",
       "  </thead>\n",
       "  <tbody>\n",
       "    <tr>\n",
       "      <th>Verbascum</th>\n",
       "      <td>79.0</td>\n",
       "    </tr>\n",
       "    <tr>\n",
       "      <th>Veronica</th>\n",
       "      <td>78.0</td>\n",
       "    </tr>\n",
       "    <tr>\n",
       "      <th>Narcissus</th>\n",
       "      <td>68.0</td>\n",
       "    </tr>\n",
       "    <tr>\n",
       "      <th>Malva</th>\n",
       "      <td>50.0</td>\n",
       "    </tr>\n",
       "    <tr>\n",
       "      <th>Rosa</th>\n",
       "      <td>28.0</td>\n",
       "    </tr>\n",
       "    <tr>\n",
       "      <th>Trifolium</th>\n",
       "      <td>24.0</td>\n",
       "    </tr>\n",
       "    <tr>\n",
       "      <th>Gentiana</th>\n",
       "      <td>23.0</td>\n",
       "    </tr>\n",
       "    <tr>\n",
       "      <th>Geranium</th>\n",
       "      <td>22.0</td>\n",
       "    </tr>\n",
       "    <tr>\n",
       "      <th>Campanula</th>\n",
       "      <td>18.0</td>\n",
       "    </tr>\n",
       "    <tr>\n",
       "      <th>Ophrys</th>\n",
       "      <td>11.0</td>\n",
       "    </tr>\n",
       "    <tr>\n",
       "      <th>Cirsium</th>\n",
       "      <td>10.0</td>\n",
       "    </tr>\n",
       "    <tr>\n",
       "      <th>Viola</th>\n",
       "      <td>9.0</td>\n",
       "    </tr>\n",
       "    <tr>\n",
       "      <th>Iris</th>\n",
       "      <td>8.0</td>\n",
       "    </tr>\n",
       "    <tr>\n",
       "      <th>Ajuga</th>\n",
       "      <td>0.0</td>\n",
       "    </tr>\n",
       "    <tr>\n",
       "      <th>Allium</th>\n",
       "      <td>0.0</td>\n",
       "    </tr>\n",
       "    <tr>\n",
       "      <th>Crataegus</th>\n",
       "      <td>0.0</td>\n",
       "    </tr>\n",
       "  </tbody>\n",
       "</table>\n",
       "</div>"
      ],
      "text/plain": [
       "            percent_true\n",
       "true_genus              \n",
       "Verbascum           79.0\n",
       "Veronica            78.0\n",
       "Narcissus           68.0\n",
       "Malva               50.0\n",
       "Rosa                28.0\n",
       "Trifolium           24.0\n",
       "Gentiana            23.0\n",
       "Geranium            22.0\n",
       "Campanula           18.0\n",
       "Ophrys              11.0\n",
       "Cirsium             10.0\n",
       "Viola                9.0\n",
       "Iris                 8.0\n",
       "Ajuga                0.0\n",
       "Allium               0.0\n",
       "Crataegus            0.0"
      ]
     },
     "execution_count": 59,
     "metadata": {},
     "output_type": "execute_result"
    }
   ],
   "source": [
    "success_ratio"
   ]
  },
  {
   "cell_type": "code",
   "execution_count": null,
   "metadata": {},
   "outputs": [],
   "source": []
  }
 ],
 "metadata": {
  "kernelspec": {
   "display_name": "Python 3",
   "language": "python",
   "name": "python3"
  },
  "language_info": {
   "codemirror_mode": {
    "name": "ipython",
    "version": 3
   },
   "file_extension": ".py",
   "mimetype": "text/x-python",
   "name": "python",
   "nbconvert_exporter": "python",
   "pygments_lexer": "ipython3",
   "version": "3.7.7"
  },
  "toc": {
   "base_numbering": 1,
   "nav_menu": {},
   "number_sections": false,
   "sideBar": true,
   "skip_h1_title": false,
   "title_cell": "Table of Contents",
   "title_sidebar": "Contents",
   "toc_cell": false,
   "toc_position": {},
   "toc_section_display": true,
   "toc_window_display": false
  }
 },
 "nbformat": 4,
 "nbformat_minor": 4
}
