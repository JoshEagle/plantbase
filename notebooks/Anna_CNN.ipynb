{
 "cells": [
  {
   "cell_type": "markdown",
   "metadata": {},
   "source": [
    "## Data Merge\n",
    "\n",
    "matching images to the list in csv file "
   ]
  },
  {
   "cell_type": "markdown",
   "metadata": {},
   "source": [
    "to delete"
   ]
  },
  {
   "cell_type": "code",
   "execution_count": null,
   "metadata": {},
   "outputs": [],
   "source": []
  },
  {
   "cell_type": "code",
   "execution_count": null,
   "metadata": {},
   "outputs": [],
   "source": []
  },
  {
   "cell_type": "markdown",
   "metadata": {},
   "source": [
    "## Building CNN model"
   ]
  },
  {
   "cell_type": "markdown",
   "metadata": {},
   "source": [
    "### Preprocessing: \n",
    "##### Resizing\n",
    "State-of-the-art networks are trained on (224,224,3) images.\n",
    "\n",
    "##### Intensity normalization\n",
    "Normalize image pixels whose values are between 0 and 255 for each colour.\n",
    "\n",
    "##### Data augmentation\n",
    "if more picture needed we can do some data agumentation like croping, rotations, slight transformation of the colors, change of the textures, \"photoshop effects\": blur, halo, ..., deformations\n",
    "\n",
    "##### Data loader\n",
    "use keras to do data loader\n",
    "\n"
   ]
  },
  {
   "cell_type": "markdown",
   "metadata": {},
   "source": [
    "### Requirements\n"
   ]
  },
  {
   "cell_type": "code",
   "execution_count": 2,
   "metadata": {},
   "outputs": [],
   "source": [
    "from __future__ import print_function\n",
    "\n",
    "import pandas as pd\n",
    "import numpy as np\n",
    "import matplotlib.pyplot as plt\n",
    "import seaborn as sns\n",
    "import csv\n",
    "import tensorflow\n",
    "import os \n",
    "from PIL import Image\n",
    "import glob\n",
    "\n",
    "from sklearn.model_selection import train_test_split\n",
    "\n",
    "\n",
    "from tensorflow import keras\n",
    "from tensorflow.keras.models import Sequential\n",
    "from tensorflow.keras.layers import Dense, Dropout, Activation, Flatten, Reshape\n",
    "from tensorflow.keras.layers import Conv2D, MaxPooling2D\n",
    "from tensorflow.keras import optimizers\n",
    "from tensorflow.keras.applications.vgg16 import preprocess_input"
   ]
  },
  {
   "cell_type": "code",
   "execution_count": null,
   "metadata": {},
   "outputs": [],
   "source": []
  },
  {
   "cell_type": "code",
   "execution_count": null,
   "metadata": {},
   "outputs": [],
   "source": []
  },
  {
   "cell_type": "markdown",
   "metadata": {},
   "source": [
    "### Care information"
   ]
  },
  {
   "cell_type": "code",
   "execution_count": 9,
   "metadata": {},
   "outputs": [
    {
     "data": {
      "text/html": [
       "<div>\n",
       "<style scoped>\n",
       "    .dataframe tbody tr th:only-of-type {\n",
       "        vertical-align: middle;\n",
       "    }\n",
       "\n",
       "    .dataframe tbody tr th {\n",
       "        vertical-align: top;\n",
       "    }\n",
       "\n",
       "    .dataframe thead th {\n",
       "        text-align: right;\n",
       "    }\n",
       "</style>\n",
       "<table border=\"1\" class=\"dataframe\">\n",
       "  <thead>\n",
       "    <tr style=\"text-align: right;\">\n",
       "      <th></th>\n",
       "      <th>Family</th>\n",
       "      <th>Genus</th>\n",
       "      <th>Species</th>\n",
       "      <th>Genus description</th>\n",
       "      <th>Genus details</th>\n",
       "      <th>Characteristics_Foliage</th>\n",
       "      <th>Characteristics_Habit</th>\n",
       "      <th>Characteristics _Hardiness</th>\n",
       "      <th>Colour in autumn fruits</th>\n",
       "      <th>Colour in autumn foliage</th>\n",
       "      <th>...</th>\n",
       "      <th>Soil pH</th>\n",
       "      <th>Size Ultimate height</th>\n",
       "      <th>Size Ultimate spread</th>\n",
       "      <th>Size Time to ultimate height</th>\n",
       "      <th>How to grow_Cultivation</th>\n",
       "      <th>How to grow_ Propogation</th>\n",
       "      <th>How to grow_ Suggested planting locations and garden types</th>\n",
       "      <th>How to care_ Pruning</th>\n",
       "      <th>How to care_Pests</th>\n",
       "      <th>How to care_Diseases</th>\n",
       "    </tr>\n",
       "  </thead>\n",
       "  <tbody>\n",
       "    <tr>\n",
       "      <th>0</th>\n",
       "      <td>Agapanthaceae</td>\n",
       "      <td>Agapanthus</td>\n",
       "      <td>NaN</td>\n",
       "      <td>Agapanthus are clump-forming perennials with n...</td>\n",
       "      <td>Exmoor' is a clump-forming perennial with deci...</td>\n",
       "      <td>deciduous</td>\n",
       "      <td>Clump-forming</td>\n",
       "      <td>H4</td>\n",
       "      <td>NaN</td>\n",
       "      <td>green</td>\n",
       "      <td>...</td>\n",
       "      <td>Neutral, Acid, Alkaline</td>\n",
       "      <td>0.5-1 metres</td>\n",
       "      <td>0.1-0.5 metres</td>\n",
       "      <td>2-5 years</td>\n",
       "      <td>Grow in fertile, moist but well-drained soil i...</td>\n",
       "      <td>Propagate by division every three to four year...</td>\n",
       "      <td>Wall-side Borders Drought Resistant Cut Flower...</td>\n",
       "      <td>In late autumn remove any remaining leaves, bu...</td>\n",
       "      <td>May be affected by agapanthus gall midge</td>\n",
       "      <td>A virus disease may be a problem</td>\n",
       "    </tr>\n",
       "    <tr>\n",
       "      <th>1</th>\n",
       "      <td>Asteraceae</td>\n",
       "      <td>Chrysanthemum</td>\n",
       "      <td>NaN</td>\n",
       "      <td>Chrysanthemum are erect woody-based perennials...</td>\n",
       "      <td>Constable' is a compact herbaceous perennial t...</td>\n",
       "      <td>Deciduous</td>\n",
       "      <td>Bushy</td>\n",
       "      <td>H3</td>\n",
       "      <td>NaN</td>\n",
       "      <td>green</td>\n",
       "      <td>...</td>\n",
       "      <td>Neutral, Acid, Alkaline</td>\n",
       "      <td>0.1-0.5 metres</td>\n",
       "      <td>0.1-0.5 metres</td>\n",
       "      <td>1 year</td>\n",
       "      <td>Suited to pot cultivation for flowering outdoo...</td>\n",
       "      <td>Propagate by basal cuttings in early spring</td>\n",
       "      <td>Patio &amp; Container Plants</td>\n",
       "      <td>Pinch out cuttings-raised plants at the start ...</td>\n",
       "      <td>May be susceptible to chrysanthemum leaf miner...</td>\n",
       "      <td>Susceptible to chrysanthemum white rust, powde...</td>\n",
       "    </tr>\n",
       "    <tr>\n",
       "      <th>2</th>\n",
       "      <td>Amaryllidaceae</td>\n",
       "      <td>Daffodils</td>\n",
       "      <td>NaN</td>\n",
       "      <td>Narcissus are bulbous herbaceous perennials wi...</td>\n",
       "      <td>N. minor is a vigorous, dwarf trumpet daffodil...</td>\n",
       "      <td>Deciduous</td>\n",
       "      <td>Clump-forming</td>\n",
       "      <td>H5</td>\n",
       "      <td>NaN</td>\n",
       "      <td>NaN</td>\n",
       "      <td>...</td>\n",
       "      <td>Neutral, Acid, Alkaline</td>\n",
       "      <td>0.1-0.5 metres</td>\n",
       "      <td>0-0.1 metre</td>\n",
       "      <td>2-5 years</td>\n",
       "      <td>Plant at one and a half to two times its own d...</td>\n",
       "      <td>Propagate by removing offsets as the leaves fa...</td>\n",
       "      <td>Cut Flowers Flower borders and beds Underplant...</td>\n",
       "      <td>Deadhead as flowers fade and allow the leaves ...</td>\n",
       "      <td>May be attacked by slugs, large narcissus bulb...</td>\n",
       "      <td>Susceptible to narcissus basal rot</td>\n",
       "    </tr>\n",
       "  </tbody>\n",
       "</table>\n",
       "<p>3 rows × 32 columns</p>\n",
       "</div>"
      ],
      "text/plain": [
       "           Family          Genus  Species  \\\n",
       "0   Agapanthaceae     Agapanthus      NaN   \n",
       "1      Asteraceae  Chrysanthemum      NaN   \n",
       "2  Amaryllidaceae      Daffodils      NaN   \n",
       "\n",
       "                                   Genus description  \\\n",
       "0  Agapanthus are clump-forming perennials with n...   \n",
       "1  Chrysanthemum are erect woody-based perennials...   \n",
       "2  Narcissus are bulbous herbaceous perennials wi...   \n",
       "\n",
       "                                       Genus details Characteristics_Foliage  \\\n",
       "0  Exmoor' is a clump-forming perennial with deci...               deciduous   \n",
       "1  Constable' is a compact herbaceous perennial t...               Deciduous   \n",
       "2  N. minor is a vigorous, dwarf trumpet daffodil...               Deciduous   \n",
       "\n",
       "  Characteristics_Habit Characteristics _Hardiness Colour in autumn fruits  \\\n",
       "0         Clump-forming                         H4                     NaN   \n",
       "1                 Bushy                         H3                     NaN   \n",
       "2         Clump-forming                         H5                     NaN   \n",
       "\n",
       "  Colour in autumn foliage  ...                  Soil pH Size Ultimate height  \\\n",
       "0                    green  ...  Neutral, Acid, Alkaline         0.5-1 metres   \n",
       "1                    green  ...  Neutral, Acid, Alkaline       0.1-0.5 metres   \n",
       "2                      NaN  ...  Neutral, Acid, Alkaline       0.1-0.5 metres   \n",
       "\n",
       "  Size Ultimate spread Size Time to ultimate height  \\\n",
       "0       0.1-0.5 metres                    2-5 years   \n",
       "1       0.1-0.5 metres                       1 year   \n",
       "2          0-0.1 metre                    2-5 years   \n",
       "\n",
       "                             How to grow_Cultivation  \\\n",
       "0  Grow in fertile, moist but well-drained soil i...   \n",
       "1  Suited to pot cultivation for flowering outdoo...   \n",
       "2  Plant at one and a half to two times its own d...   \n",
       "\n",
       "                            How to grow_ Propogation  \\\n",
       "0  Propagate by division every three to four year...   \n",
       "1        Propagate by basal cuttings in early spring   \n",
       "2  Propagate by removing offsets as the leaves fa...   \n",
       "\n",
       "  How to grow_ Suggested planting locations and garden types  \\\n",
       "0  Wall-side Borders Drought Resistant Cut Flower...           \n",
       "1                           Patio & Container Plants           \n",
       "2  Cut Flowers Flower borders and beds Underplant...           \n",
       "\n",
       "                                How to care_ Pruning  \\\n",
       "0  In late autumn remove any remaining leaves, bu...   \n",
       "1  Pinch out cuttings-raised plants at the start ...   \n",
       "2  Deadhead as flowers fade and allow the leaves ...   \n",
       "\n",
       "                                   How to care_Pests  \\\n",
       "0           May be affected by agapanthus gall midge   \n",
       "1  May be susceptible to chrysanthemum leaf miner...   \n",
       "2  May be attacked by slugs, large narcissus bulb...   \n",
       "\n",
       "                                How to care_Diseases  \n",
       "0                   A virus disease may be a problem  \n",
       "1  Susceptible to chrysanthemum white rust, powde...  \n",
       "2                 Susceptible to narcissus basal rot  \n",
       "\n",
       "[3 rows x 32 columns]"
      ]
     },
     "execution_count": 9,
     "metadata": {},
     "output_type": "execute_result"
    }
   ],
   "source": [
    "root_path = os.getcwd()\n",
    "#csv_path = os.path.join(root_path,'..','data') the absolute path don't work always so need to be reworked later on\n",
    "csv_path = r'C:\\Users\\User\\code\\Joshymitzu\\plantbase\\plantbase\\data'\n",
    "plants_care= pd.read_csv(os.path.join(csv_path,'plants_info_enhanced.csv'))\n",
    "plants_care.head()"
   ]
  },
  {
   "cell_type": "markdown",
   "metadata": {},
   "source": [
    "### Build x Y"
   ]
  },
  {
   "cell_type": "code",
   "execution_count": 1,
   "metadata": {},
   "outputs": [],
   "source": [
    "X_list = []\n",
    "Y_list = []"
   ]
  },
  {
   "cell_type": "code",
   "execution_count": 3,
   "metadata": {},
   "outputs": [
    {
     "ename": "NameError",
     "evalue": "name 'bumbulb_images' is not defined",
     "output_type": "error",
     "traceback": [
      "\u001b[1;31m---------------------------------------------------------------------------\u001b[0m",
      "\u001b[1;31mNameError\u001b[0m                                 Traceback (most recent call last)",
      "\u001b[1;32m<ipython-input-3-b2a3a085c35c>\u001b[0m in \u001b[0;36m<module>\u001b[1;34m\u001b[0m\n\u001b[1;32m----> 1\u001b[1;33m \u001b[1;32mfor\u001b[0m \u001b[0mindex\u001b[0m\u001b[1;33m,\u001b[0m \u001b[0mrows\u001b[0m \u001b[1;32min\u001b[0m \u001b[0mbumbulb_images\u001b[0m\u001b[1;33m.\u001b[0m\u001b[0miterrows\u001b[0m\u001b[1;33m(\u001b[0m\u001b[1;33m)\u001b[0m\u001b[1;33m:\u001b[0m\u001b[1;33m\u001b[0m\u001b[1;33m\u001b[0m\u001b[0m\n\u001b[0m\u001b[0;32m      2\u001b[0m     \u001b[0mpic_in_iter\u001b[0m \u001b[1;33m=\u001b[0m \u001b[0mnp\u001b[0m\u001b[1;33m.\u001b[0m\u001b[0marray\u001b[0m\u001b[1;33m(\u001b[0m\u001b[0mImage\u001b[0m\u001b[1;33m.\u001b[0m\u001b[0mopen\u001b[0m\u001b[1;33m(\u001b[0m\u001b[1;34mrf'../raw_data/train/{rows.image_title}.jpg'\u001b[0m\u001b[1;33m)\u001b[0m\u001b[1;33m)\u001b[0m\u001b[1;33m\u001b[0m\u001b[1;33m\u001b[0m\u001b[0m\n\u001b[0;32m      3\u001b[0m     \u001b[0mX_list\u001b[0m\u001b[1;33m.\u001b[0m\u001b[0mappend\u001b[0m\u001b[1;33m(\u001b[0m\u001b[0mpic_in_iter\u001b[0m\u001b[1;33m)\u001b[0m\u001b[1;33m\u001b[0m\u001b[1;33m\u001b[0m\u001b[0m\n\u001b[0;32m      4\u001b[0m     \u001b[0mY_list\u001b[0m\u001b[1;33m.\u001b[0m\u001b[0mappend\u001b[0m\u001b[1;33m(\u001b[0m\u001b[0mrows\u001b[0m\u001b[1;33m.\u001b[0m\u001b[0mspecies\u001b[0m\u001b[1;33m)\u001b[0m\u001b[1;33m\u001b[0m\u001b[1;33m\u001b[0m\u001b[0m\n",
      "\u001b[1;31mNameError\u001b[0m: name 'bumbulb_images' is not defined"
     ]
    }
   ],
   "source": [
    "for index, rows in bumbulb_images.iterrows():\n",
    "    pic_in_iter = np.array(Image.open(rf'../raw_data/train/{rows.image_title}.jpg'))\n",
    "    X_list.append(pic_in_iter)\n",
    "    Y_list.append(rows.species)"
   ]
  },
  {
   "cell_type": "code",
   "execution_count": null,
   "metadata": {},
   "outputs": [],
   "source": [
    "len(X_list), len(Y_list)"
   ]
  },
  {
   "cell_type": "code",
   "execution_count": null,
   "metadata": {},
   "outputs": [],
   "source": [
    "X = np.stack(X_list, axis=0)\n",
    "Y = np.stack(Y_list, axis=0)"
   ]
  },
  {
   "cell_type": "code",
   "execution_count": null,
   "metadata": {},
   "outputs": [],
   "source": [
    "len(X.shape), len(Y.shape)"
   ]
  },
  {
   "cell_type": "code",
   "execution_count": null,
   "metadata": {},
   "outputs": [],
   "source": [
    "y = Y"
   ]
  },
  {
   "cell_type": "code",
   "execution_count": null,
   "metadata": {},
   "outputs": [],
   "source": [
    "from sklearn.preprocessing import LabelEncoder\n",
    "\n",
    "encoder = LabelEncoder()\n",
    "\n",
    "y_encoded = encoder.fit_transform(y)"
   ]
  },
  {
   "cell_type": "code",
   "execution_count": null,
   "metadata": {},
   "outputs": [],
   "source": [
    "from sklearn.preprocessing import LabelBinarizer\n",
    "\n",
    "encoder_2 = LabelBinarizer()\n",
    "test_2 = encoder_2.fit_transform(y)"
   ]
  },
  {
   "cell_type": "code",
   "execution_count": null,
   "metadata": {},
   "outputs": [],
   "source": [
    "test_2"
   ]
  },
  {
   "cell_type": "code",
   "execution_count": null,
   "metadata": {},
   "outputs": [],
   "source": [
    "pd.Data"
   ]
  },
  {
   "cell_type": "code",
   "execution_count": null,
   "metadata": {},
   "outputs": [],
   "source": [
    "X_train, X_test, y_train, y_test = train_test_split(X, y_encoded, test_size=0.3, random_state=1)"
   ]
  },
  {
   "cell_type": "code",
   "execution_count": null,
   "metadata": {},
   "outputs": [],
   "source": [
    "X_train, X_test, y_train, y_test = train_test_split(X, test_2, test_size=0.3, random_state=1)"
   ]
  },
  {
   "cell_type": "code",
   "execution_count": null,
   "metadata": {},
   "outputs": [],
   "source": [
    "X_train.shape, y_train.shape"
   ]
  },
  {
   "cell_type": "code",
   "execution_count": null,
   "metadata": {},
   "outputs": [],
   "source": [
    "y_hot_train = tensorflow.keras.utils.to_categorical(y_train, num_classes=25)\n",
    "y_hot_test = tensorflow.keras.utils.to_categorical(y_test, num_classes=25)"
   ]
  },
  {
   "cell_type": "code",
   "execution_count": null,
   "metadata": {},
   "outputs": [],
   "source": [
    "y_hot_train"
   ]
  },
  {
   "cell_type": "markdown",
   "metadata": {},
   "source": [
    "### Baseline model\n"
   ]
  },
  {
   "cell_type": "code",
   "execution_count": null,
   "metadata": {},
   "outputs": [],
   "source": [
    "def build_model():\n",
    "    \n",
    "    model = Sequential()\n",
    "    model.add(Conv2D(30, (5,5), strides=(1,1), padding='valid', input_shape=(150, 150, 3), activation='relu')) # change shape of the pictures based on the new shape\n",
    "    model.add(MaxPooling2D(3))\n",
    "    \n",
    "    model.add(Conv2D(60, (2, 2), padding='same', activation='relu'))\n",
    "    model.add(MaxPooling2D(3))\n",
    "    \n",
    "    model.add(Conv2D(50, (2, 2), padding='same', activation='relu'))\n",
    "    model.add(MaxPooling2D(3))\n",
    "    \n",
    "    model.add(Flatten())\n",
    "    model.add(Dense(25))\n",
    "    model.add(Activation('softmax'))\n",
    "    \n",
    "    return model\n",
    "\n",
    "model = build_model()\n",
    "model.summary()"
   ]
  },
  {
   "cell_type": "code",
   "execution_count": null,
   "metadata": {},
   "outputs": [],
   "source": [
    "model.compile(loss='categorical_crossentropy',\n",
    "              optimizer='adam',\n",
    "              metrics=['accuracy'])"
   ]
  },
  {
   "cell_type": "code",
   "execution_count": null,
   "metadata": {},
   "outputs": [],
   "source": [
    "from tensorflow.keras.callbacks import EarlyStopping\n",
    "es = EarlyStopping(monitor='val_loss',\n",
    "                   patience=5,\n",
    "                   mode='min')"
   ]
  },
  {
   "cell_type": "code",
   "execution_count": null,
   "metadata": {},
   "outputs": [],
   "source": [
    "y_hot_train.shape # change the y based on the primary y and x list"
   ]
  },
  {
   "cell_type": "code",
   "execution_count": null,
   "metadata": {},
   "outputs": [],
   "source": [
    "history = model.fit(X_train, y_hot_train, validation_split=0.3, callbacks=[es], epochs=100, batch_size=32) # make sure we are using the right  data for validation "
   ]
  },
  {
   "cell_type": "markdown",
   "metadata": {},
   "source": [
    "### Save trainded baseline model"
   ]
  },
  {
   "cell_type": "code",
   "execution_count": null,
   "metadata": {},
   "outputs": [],
   "source": [
    "import joblib\n",
    "from tensorflow.keras.models import model_from_json"
   ]
  },
  {
   "cell_type": "code",
   "execution_count": null,
   "metadata": {},
   "outputs": [],
   "source": [
    "model_json = model.to_json()\n",
    "with open(\"bumbulb_baseline_cnn.json\", \"w\") as json_file: # change the picture \n",
    "    json_file.write(model_json)\n",
    "# serialize weights to HDF5\n",
    "model.save_weights(\"model.h5\")\n",
    "print(\"Saved model to disk\")"
   ]
  },
  {
   "cell_type": "markdown",
   "metadata": {},
   "source": [
    "### Load baseline model"
   ]
  },
  {
   "cell_type": "code",
   "execution_count": null,
   "metadata": {},
   "outputs": [],
   "source": [
    "# load json and create model\n",
    "json_file = open('bumbulb_baseline_cnn.json', 'r')\n",
    "loaded_model_json = json_file.read()\n",
    "json_file.close()\n",
    "loaded_model = model_from_json(loaded_model_json)\n",
    "# load weights into new model\n",
    "loaded_model.load_weights(\"model.h5\")\n",
    "print(\"Loaded model from disk\")"
   ]
  },
  {
   "cell_type": "code",
   "execution_count": null,
   "metadata": {},
   "outputs": [],
   "source": [
    "# evaluate loaded model on test data\n",
    "loaded_model.compile(loss='categorical_crossentropy',\n",
    "              optimizer='adam',\n",
    "              metrics=['accuracy'])"
   ]
  },
  {
   "cell_type": "markdown",
   "metadata": {},
   "source": [
    "### Analyzing results "
   ]
  },
  {
   "cell_type": "code",
   "execution_count": null,
   "metadata": {},
   "outputs": [],
   "source": [
    "history.history"
   ]
  },
  {
   "cell_type": "code",
   "execution_count": null,
   "metadata": {},
   "outputs": [],
   "source": [
    "history_df = pd.DataFrame.from_dict(history.history, orient='index').transpose()"
   ]
  },
  {
   "cell_type": "code",
   "execution_count": null,
   "metadata": {},
   "outputs": [],
   "source": [
    "plt.plot(history_df)\n",
    "plt.legend(history_df.columns)"
   ]
  },
  {
   "cell_type": "code",
   "execution_count": null,
   "metadata": {},
   "outputs": [],
   "source": [
    "results = model.evaluate(X_test, y_hot_test, batch_size=32)"
   ]
  },
  {
   "cell_type": "markdown",
   "metadata": {},
   "source": [
    "### Visualise results"
   ]
  },
  {
   "cell_type": "code",
   "execution_count": null,
   "metadata": {},
   "outputs": [],
   "source": [
    "y_pred = loaded_model.predict(X_test)"
   ]
  },
  {
   "cell_type": "code",
   "execution_count": null,
   "metadata": {},
   "outputs": [],
   "source": [
    "np.sort(y_pred[0])"
   ]
  },
  {
   "cell_type": "code",
   "execution_count": null,
   "metadata": {},
   "outputs": [],
   "source": [
    "y_pred.shape"
   ]
  },
  {
   "cell_type": "code",
   "execution_count": null,
   "metadata": {},
   "outputs": [],
   "source": [
    "y_pred_df = pd.DataFrame(y_pred)"
   ]
  },
  {
   "cell_type": "code",
   "execution_count": null,
   "metadata": {},
   "outputs": [],
   "source": [
    "columns = np.unique(y)"
   ]
  },
  {
   "cell_type": "code",
   "execution_count": null,
   "metadata": {},
   "outputs": [],
   "source": [
    "rename_columns = {}\n",
    "col_index = 0\n",
    "for n in columns:\n",
    "    rename_columns[col_index] = n\n",
    "    col_index += 1"
   ]
  },
  {
   "cell_type": "code",
   "execution_count": null,
   "metadata": {},
   "outputs": [],
   "source": [
    "rename_columns"
   ]
  },
  {
   "cell_type": "code",
   "execution_count": null,
   "metadata": {},
   "outputs": [],
   "source": [
    "y_pred_df = y_pred_df.rename(columns = rename_columns)"
   ]
  },
  {
   "cell_type": "code",
   "execution_count": null,
   "metadata": {},
   "outputs": [],
   "source": [
    "y_pred_df.loc[0]"
   ]
  },
  {
   "cell_type": "code",
   "execution_count": null,
   "metadata": {},
   "outputs": [],
   "source": [
    "y_pred_df['pred_species'] = y_pred_df.idxmax(axis=1)"
   ]
  },
  {
   "cell_type": "code",
   "execution_count": null,
   "metadata": {},
   "outputs": [],
   "source": [
    "y_pred_df['pred_species']"
   ]
  },
  {
   "cell_type": "code",
   "execution_count": null,
   "metadata": {},
   "outputs": [],
   "source": [
    "y_true_df = pd.DataFrame(y_hot_test).rename(columns = rename_columns)"
   ]
  },
  {
   "cell_type": "code",
   "execution_count": null,
   "metadata": {},
   "outputs": [],
   "source": [
    "y_true_df['true_species'] = y_true_df.idxmax(axis=1)"
   ]
  },
  {
   "cell_type": "code",
   "execution_count": null,
   "metadata": {},
   "outputs": [],
   "source": [
    "prediction_review = (y_pred_df['pred_species'] == y_true_df['true_species'])"
   ]
  },
  {
   "cell_type": "code",
   "execution_count": null,
   "metadata": {},
   "outputs": [],
   "source": [
    "prediction_review.count()"
   ]
  },
  {
   "cell_type": "code",
   "execution_count": null,
   "metadata": {},
   "outputs": [],
   "source": [
    "prediction_vec_df = y_pred_df[['pred_species']].copy()\n",
    "prediction_vec_df['true_species'] = y_true_df['true_species'].copy()\n",
    "prediction_vec_df['result'] = (y_pred_df['pred_species'] == y_true_df['true_species'])"
   ]
  },
  {
   "cell_type": "code",
   "execution_count": null,
   "metadata": {},
   "outputs": [],
   "source": [
    "prediction_vec_df['false'] = prediction_vec_df['result'].apply(lambda x: 1 if x == False else 0)\n",
    "prediction_vec_df['true'] = prediction_vec_df['result'].apply(lambda x: 1 if x == True else 0)\n",
    "prediction_vec_df.head(2)"
   ]
  },
  {
   "cell_type": "code",
   "execution_count": null,
   "metadata": {},
   "outputs": [],
   "source": [
    "true_pos_neg = prediction_vec_df.groupby('true_species').sum().drop(columns=['result'])\n",
    "true_pos_neg['percent_true'] = true_pos_neg['true'] / (true_pos_neg['true'] + true_pos_neg['false'])"
   ]
  },
  {
   "cell_type": "code",
   "execution_count": null,
   "metadata": {},
   "outputs": [],
   "source": [
    "success_ratio = round(true_pos_neg[['percent_true']]*100).sort_values(by='percent_true', ascending=False)"
   ]
  },
  {
   "cell_type": "code",
   "execution_count": null,
   "metadata": {},
   "outputs": [],
   "source": [
    "success_ratio"
   ]
  },
  {
   "cell_type": "code",
   "execution_count": null,
   "metadata": {},
   "outputs": [],
   "source": [
    "success_ratio.plot.bar()"
   ]
  },
  {
   "cell_type": "code",
   "execution_count": null,
   "metadata": {},
   "outputs": [],
   "source": [
    "plt.figure(figsize=(20,15))\n",
    "chart = sns.countplot(\n",
    "    x=\"true_species\", data=prediction_vec_df,\n",
    "    palette='Set1', hue='result', order=success_ratio.index)\n",
    "chart_rotate = chart.set_xticklabels(chart.get_xticklabels(), rotation=70)"
   ]
  },
  {
   "cell_type": "code",
   "execution_count": null,
   "metadata": {},
   "outputs": [],
   "source": [
    "plt.figure(figsize=(10,20))\n",
    "chart = sns.countplot(\n",
    "    y=\"true_species\", data=prediction_vec_df,\n",
    "    palette='Set1', hue='angle', order=success_ratio.index)\n",
    "chart_rotate = chart.set_xticklabels(chart.get_xticklabels(), rotation=70)"
   ]
  },
  {
   "cell_type": "code",
   "execution_count": null,
   "metadata": {},
   "outputs": [],
   "source": [
    "plt.figure(figsize=(5,5))\n",
    "chart = sns.countplot(\n",
    "    x=\"angle\", data=prediction_vec_df,\n",
    "    palette='Set1', hue='result')\n",
    "chart_rotate = chart.set_xticklabels(chart.get_xticklabels(), rotation=70)"
   ]
  },
  {
   "cell_type": "code",
   "execution_count": null,
   "metadata": {},
   "outputs": [],
   "source": []
  },
  {
   "cell_type": "code",
   "execution_count": null,
   "metadata": {},
   "outputs": [],
   "source": []
  },
  {
   "cell_type": "code",
   "execution_count": null,
   "metadata": {},
   "outputs": [],
   "source": []
  },
  {
   "cell_type": "markdown",
   "metadata": {},
   "source": [
    "#### VGG16"
   ]
  },
  {
   "cell_type": "code",
   "execution_count": null,
   "metadata": {},
   "outputs": [],
   "source": [
    "#VGG16 function from tf.keras\n",
    "# tf.keras.applications.VGG16(\n",
    "#     include_top=True,\n",
    "#     weights=\"imagenet\",\n",
    "#     input_tensor=None,\n",
    "#     input_shape=None,\n",
    "#     pooling=None,\n",
    "#     classes=1000,\n",
    "#     classifier_activation=\"softmax\",\n",
    "# )"
   ]
  },
  {
   "cell_type": "code",
   "execution_count": null,
   "metadata": {},
   "outputs": [],
   "source": [
    "from tensorflow.keras.applications.vgg16 import VGG16\n",
    "\n",
    "def load_model():\n",
    "    model = VGG16(weights=\"imagenet\", include_top=False, input_shape=X_train[0].shape)\n",
    "    return model"
   ]
  },
  {
   "cell_type": "code",
   "execution_count": null,
   "metadata": {},
   "outputs": [],
   "source": [
    "model = load_model()\n",
    "model.summary()"
   ]
  },
  {
   "cell_type": "code",
   "execution_count": null,
   "metadata": {},
   "outputs": [],
   "source": [
    "def update_model(model):\n",
    "    # Set the first layers to be untrainable\n",
    "    model.trainable = False\n",
    "    \n",
    "    # Add layers to the mdoel\n",
    "    flatten_layer = Flatten()\n",
    "    dense_layer = Dense(500, activation='relu')\n",
    "    prediction_layer = Dense(25, activation='softmax')\n",
    "\n",
    "    model = Sequential([\n",
    "        model,\n",
    "        flatten_layer,\n",
    "        dense_layer,\n",
    "        prediction_layer\n",
    "    ])\n",
    "    \n",
    "    return model"
   ]
  },
  {
   "cell_type": "code",
   "execution_count": null,
   "metadata": {},
   "outputs": [],
   "source": [
    "model = update_model(model)\n",
    "model.summary()"
   ]
  },
  {
   "cell_type": "code",
   "execution_count": null,
   "metadata": {},
   "outputs": [],
   "source": [
    "def compile_model(model):\n",
    "    \n",
    "    opt = optimizers.Adam(learning_rate=1e-4)\n",
    "    model.compile(loss='categorical_crossentropy',\n",
    "                  optimizer=opt,\n",
    "                  metrics=['accuracy'])\n",
    "    \n",
    "    return model"
   ]
  },
  {
   "cell_type": "code",
   "execution_count": null,
   "metadata": {},
   "outputs": [],
   "source": [
    "def build_model():\n",
    "    \n",
    "    model = load_model()\n",
    "    model = update_model(model)\n",
    "    model = compile_model(model)\n",
    "    \n",
    "    return model\n",
    "\n",
    "model = build_model()"
   ]
  },
  {
   "cell_type": "code",
   "execution_count": null,
   "metadata": {},
   "outputs": [],
   "source": [
    "X_train_vg = preprocess_input(X_train) \n",
    "X_test_vg = preprocess_input(X_test)"
   ]
  },
  {
   "cell_type": "code",
   "execution_count": null,
   "metadata": {},
   "outputs": [],
   "source": [
    "from tensorflow.keras.callbacks import EarlyStopping\n",
    "\n",
    "es = EarlyStopping(monitor='val_loss', mode='min', patience=5, verbose=1, restore_best_weights=True)\n",
    "\n",
    "history = model.fit(X_train_vg, y_hot_train, \n",
    "                    validation_split=0.3, \n",
    "                    epochs=10, \n",
    "                    batch_size=16, \n",
    "                    callbacks=[es])"
   ]
  },
  {
   "cell_type": "code",
   "execution_count": null,
   "metadata": {},
   "outputs": [],
   "source": []
  },
  {
   "cell_type": "code",
   "execution_count": null,
   "metadata": {},
   "outputs": [],
   "source": []
  },
  {
   "cell_type": "code",
   "execution_count": null,
   "metadata": {},
   "outputs": [],
   "source": []
  },
  {
   "cell_type": "code",
   "execution_count": null,
   "metadata": {},
   "outputs": [],
   "source": []
  }
 ],
 "metadata": {
  "kernelspec": {
   "display_name": "Python 3",
   "language": "python",
   "name": "python3"
  },
  "language_info": {
   "codemirror_mode": {
    "name": "ipython",
    "version": 3
   },
   "file_extension": ".py",
   "mimetype": "text/x-python",
   "name": "python",
   "nbconvert_exporter": "python",
   "pygments_lexer": "ipython3",
   "version": "3.7.7"
  },
  "toc": {
   "base_numbering": 1,
   "nav_menu": {},
   "number_sections": false,
   "sideBar": true,
   "skip_h1_title": false,
   "title_cell": "Table of Contents",
   "title_sidebar": "Contents",
   "toc_cell": false,
   "toc_position": {},
   "toc_section_display": true,
   "toc_window_display": false
  }
 },
 "nbformat": 4,
 "nbformat_minor": 4
}
