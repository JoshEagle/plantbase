{
 "cells": [
  {
   "cell_type": "markdown",
   "metadata": {},
   "source": [
    "# Importing requirements"
   ]
  },
  {
   "cell_type": "code",
   "execution_count": 25,
   "metadata": {},
   "outputs": [],
   "source": [
    "import os\n",
    "import pandas as pd \n",
    "import numpy as np\n",
    "\n",
    "from matplotlib.pyplot import imread\n",
    "\n",
    "import matplotlib.pyplot as plt\n",
    "%matplotlib inline"
   ]
  },
  {
   "cell_type": "markdown",
   "metadata": {},
   "source": [
    "# Importing plants csv"
   ]
  },
  {
   "cell_type": "code",
   "execution_count": 26,
   "metadata": {},
   "outputs": [],
   "source": [
    "# this file path will only work if you are running this notebook from the plantbase/notebooks folder\n",
    "\n",
    "plants_df = pd.read_csv(\"../plantbase/data/priority_plants_v1.csv\").drop(columns = 'Unnamed: 0')\n",
    "plants_df.head()"
   ]
  },
  {
   "cell_type": "markdown",
   "metadata": {},
   "source": [
    "# Adding new columns"
   ]
  },
  {
   "cell_type": "code",
   "execution_count": 28,
   "metadata": {},
   "outputs": [
    {
     "data": {
      "text/html": [
       "<div>\n",
       "<style scoped>\n",
       "    .dataframe tbody tr th:only-of-type {\n",
       "        vertical-align: middle;\n",
       "    }\n",
       "\n",
       "    .dataframe tbody tr th {\n",
       "        vertical-align: top;\n",
       "    }\n",
       "\n",
       "    .dataframe thead th {\n",
       "        text-align: right;\n",
       "    }\n",
       "</style>\n",
       "<table border=\"1\" class=\"dataframe\">\n",
       "  <thead>\n",
       "    <tr style=\"text-align: right;\">\n",
       "      <th></th>\n",
       "      <th>id</th>\n",
       "      <th>family</th>\n",
       "      <th>genus</th>\n",
       "      <th>species</th>\n",
       "      <th>content</th>\n",
       "      <th>filename</th>\n",
       "    </tr>\n",
       "  </thead>\n",
       "  <tbody>\n",
       "    <tr>\n",
       "      <th>0</th>\n",
       "      <td>1</td>\n",
       "      <td>Amaryllidaceae</td>\n",
       "      <td>Narcissus</td>\n",
       "      <td>Narcissus dubius Gouan</td>\n",
       "      <td>Entire</td>\n",
       "      <td>1.jpg</td>\n",
       "    </tr>\n",
       "    <tr>\n",
       "      <th>1</th>\n",
       "      <td>100014</td>\n",
       "      <td>Scrophulariaceae</td>\n",
       "      <td>Verbascum</td>\n",
       "      <td>Verbascum pulverulentum Vill.</td>\n",
       "      <td>Leaf</td>\n",
       "      <td>100014.jpg</td>\n",
       "    </tr>\n",
       "    <tr>\n",
       "      <th>2</th>\n",
       "      <td>100022</td>\n",
       "      <td>Orchidaceae</td>\n",
       "      <td>Ophrys</td>\n",
       "      <td>Ophrys scolopax Cav.</td>\n",
       "      <td>Entire</td>\n",
       "      <td>100022.jpg</td>\n",
       "    </tr>\n",
       "    <tr>\n",
       "      <th>3</th>\n",
       "      <td>100038</td>\n",
       "      <td>Iridaceae</td>\n",
       "      <td>Iris</td>\n",
       "      <td>Iris lutescens Lam.</td>\n",
       "      <td>Flower</td>\n",
       "      <td>100038.jpg</td>\n",
       "    </tr>\n",
       "    <tr>\n",
       "      <th>4</th>\n",
       "      <td>100069</td>\n",
       "      <td>Rosaceae</td>\n",
       "      <td>Crataegus</td>\n",
       "      <td>Crataegus azarolus L.</td>\n",
       "      <td>Stem</td>\n",
       "      <td>100069.jpg</td>\n",
       "    </tr>\n",
       "  </tbody>\n",
       "</table>\n",
       "</div>"
      ],
      "text/plain": [
       "       id            family      genus                        species content  \\\n",
       "0       1    Amaryllidaceae  Narcissus         Narcissus dubius Gouan  Entire   \n",
       "1  100014  Scrophulariaceae  Verbascum  Verbascum pulverulentum Vill.    Leaf   \n",
       "2  100022       Orchidaceae     Ophrys           Ophrys scolopax Cav.  Entire   \n",
       "3  100038         Iridaceae       Iris            Iris lutescens Lam.  Flower   \n",
       "4  100069          Rosaceae  Crataegus          Crataegus azarolus L.    Stem   \n",
       "\n",
       "     filename  \n",
       "0       1.jpg  \n",
       "1  100014.jpg  \n",
       "2  100022.jpg  \n",
       "3  100038.jpg  \n",
       "4  100069.jpg  "
      ]
     },
     "execution_count": 28,
     "metadata": {},
     "output_type": "execute_result"
    }
   ],
   "source": [
    "# creating filename column from id +'.jpg'\n",
    "plants_df['filename'] = plants_df['id'].map(lambda x: f\"{x}.jpg\")\n",
    "plants_df.head()"
   ]
  },
  {
   "cell_type": "code",
   "execution_count": 29,
   "metadata": {},
   "outputs": [],
   "source": [
    "# I can't remember how to do absolute file paths so for now just put your own one in! \n",
    "directory = r'..\\raw_data\\train'"
   ]
  },
  {
   "cell_type": "code",
   "execution_count": 30,
   "metadata": {},
   "outputs": [
    {
     "name": "stderr",
     "output_type": "stream",
     "text": [
      "c:\\users\\joshu\\.venvs\\lewagon\\lib\\site-packages\\pandas\\core\\indexing.py:190: SettingWithCopyWarning: \n",
      "A value is trying to be set on a copy of a slice from a DataFrame\n",
      "\n",
      "See the caveats in the documentation: http://pandas.pydata.org/pandas-docs/stable/indexing.html#indexing-view-versus-copy\n",
      "  self._setitem_with_indexer(indexer, value)\n"
     ]
    },
    {
     "data": {
      "text/html": [
       "<div>\n",
       "<style scoped>\n",
       "    .dataframe tbody tr th:only-of-type {\n",
       "        vertical-align: middle;\n",
       "    }\n",
       "\n",
       "    .dataframe tbody tr th {\n",
       "        vertical-align: top;\n",
       "    }\n",
       "\n",
       "    .dataframe thead th {\n",
       "        text-align: right;\n",
       "    }\n",
       "</style>\n",
       "<table border=\"1\" class=\"dataframe\">\n",
       "  <thead>\n",
       "    <tr style=\"text-align: right;\">\n",
       "      <th></th>\n",
       "      <th>id</th>\n",
       "      <th>family</th>\n",
       "      <th>genus</th>\n",
       "      <th>species</th>\n",
       "      <th>content</th>\n",
       "      <th>filename</th>\n",
       "      <th>image_height</th>\n",
       "      <th>image_width</th>\n",
       "    </tr>\n",
       "  </thead>\n",
       "  <tbody>\n",
       "    <tr>\n",
       "      <th>0</th>\n",
       "      <td>1</td>\n",
       "      <td>Amaryllidaceae</td>\n",
       "      <td>Narcissus</td>\n",
       "      <td>Narcissus dubius Gouan</td>\n",
       "      <td>Entire</td>\n",
       "      <td>1.jpg</td>\n",
       "      <td>512</td>\n",
       "      <td>800</td>\n",
       "    </tr>\n",
       "    <tr>\n",
       "      <th>1</th>\n",
       "      <td>100014</td>\n",
       "      <td>Scrophulariaceae</td>\n",
       "      <td>Verbascum</td>\n",
       "      <td>Verbascum pulverulentum Vill.</td>\n",
       "      <td>Leaf</td>\n",
       "      <td>100014.jpg</td>\n",
       "      <td>600</td>\n",
       "      <td>800</td>\n",
       "    </tr>\n",
       "    <tr>\n",
       "      <th>2</th>\n",
       "      <td>100022</td>\n",
       "      <td>Orchidaceae</td>\n",
       "      <td>Ophrys</td>\n",
       "      <td>Ophrys scolopax Cav.</td>\n",
       "      <td>Entire</td>\n",
       "      <td>100022.jpg</td>\n",
       "      <td>587</td>\n",
       "      <td>800</td>\n",
       "    </tr>\n",
       "    <tr>\n",
       "      <th>3</th>\n",
       "      <td>100038</td>\n",
       "      <td>Iridaceae</td>\n",
       "      <td>Iris</td>\n",
       "      <td>Iris lutescens Lam.</td>\n",
       "      <td>Flower</td>\n",
       "      <td>100038.jpg</td>\n",
       "      <td>600</td>\n",
       "      <td>800</td>\n",
       "    </tr>\n",
       "    <tr>\n",
       "      <th>4</th>\n",
       "      <td>100069</td>\n",
       "      <td>Rosaceae</td>\n",
       "      <td>Crataegus</td>\n",
       "      <td>Crataegus azarolus L.</td>\n",
       "      <td>Stem</td>\n",
       "      <td>100069.jpg</td>\n",
       "      <td>800</td>\n",
       "      <td>533</td>\n",
       "    </tr>\n",
       "  </tbody>\n",
       "</table>\n",
       "</div>"
      ],
      "text/plain": [
       "       id            family      genus                        species content  \\\n",
       "0       1    Amaryllidaceae  Narcissus         Narcissus dubius Gouan  Entire   \n",
       "1  100014  Scrophulariaceae  Verbascum  Verbascum pulverulentum Vill.    Leaf   \n",
       "2  100022       Orchidaceae     Ophrys           Ophrys scolopax Cav.  Entire   \n",
       "3  100038         Iridaceae       Iris            Iris lutescens Lam.  Flower   \n",
       "4  100069          Rosaceae  Crataegus          Crataegus azarolus L.    Stem   \n",
       "\n",
       "     filename  image_height  image_width  \n",
       "0       1.jpg           512          800  \n",
       "1  100014.jpg           600          800  \n",
       "2  100022.jpg           587          800  \n",
       "3  100038.jpg           600          800  \n",
       "4  100069.jpg           800          533  "
      ]
     },
     "execution_count": 30,
     "metadata": {},
     "output_type": "execute_result"
    }
   ],
   "source": [
    "plants_df['image_height'] = 0\n",
    "plants_df['image_width'] = 0\n",
    "\n",
    "for index, file in enumerate(plants_df['filename']): \n",
    "    \n",
    "    img_array = imread(rf\"{directory}\\{file}\")\n",
    "    plants_df['image_height'].loc[index] = img_array.shape[0]\n",
    "    plants_df['image_width'].loc[index] = img_array.shape[1]    \n",
    "\n",
    "plants_df.head()\n",
    "        "
   ]
  },
  {
   "cell_type": "code",
   "execution_count": 32,
   "metadata": {},
   "outputs": [],
   "source": [
    "plants_df.to_csv(\"../plantbase/data/plants_with_image_dimensions_v1.csv\")"
   ]
  },
  {
   "cell_type": "code",
   "execution_count": null,
   "metadata": {},
   "outputs": [],
   "source": []
  }
 ],
 "metadata": {
  "kernelspec": {
   "display_name": "Python 3",
   "language": "python",
   "name": "python3"
  },
  "language_info": {
   "codemirror_mode": {
    "name": "ipython",
    "version": 3
   },
   "file_extension": ".py",
   "mimetype": "text/x-python",
   "name": "python",
   "nbconvert_exporter": "python",
   "pygments_lexer": "ipython3",
   "version": "3.7.7"
  },
  "toc": {
   "base_numbering": 1,
   "nav_menu": {},
   "number_sections": true,
   "sideBar": true,
   "skip_h1_title": false,
   "title_cell": "Table of Contents",
   "title_sidebar": "Contents",
   "toc_cell": false,
   "toc_position": {},
   "toc_section_display": true,
   "toc_window_display": false
  },
  "varInspector": {
   "cols": {
    "lenName": 16,
    "lenType": 16,
    "lenVar": 40
   },
   "kernels_config": {
    "python": {
     "delete_cmd_postfix": "",
     "delete_cmd_prefix": "del ",
     "library": "var_list.py",
     "varRefreshCmd": "print(var_dic_list())"
    },
    "r": {
     "delete_cmd_postfix": ") ",
     "delete_cmd_prefix": "rm(",
     "library": "var_list.r",
     "varRefreshCmd": "cat(var_dic_list()) "
    }
   },
   "types_to_exclude": [
    "module",
    "function",
    "builtin_function_or_method",
    "instance",
    "_Feature"
   ],
   "window_display": false
  }
 },
 "nbformat": 4,
 "nbformat_minor": 4
}
