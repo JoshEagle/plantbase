{
 "cells": [
  {
   "cell_type": "markdown",
   "metadata": {},
   "source": [
    "# Weather API\n",
    "\n",
    "Trying to integrate a basic weather API with PlantBase app"
   ]
  },
  {
   "cell_type": "code",
   "execution_count": 81,
   "metadata": {},
   "outputs": [],
   "source": [
    "from datetime import date"
   ]
  },
  {
   "cell_type": "code",
   "execution_count": 84,
   "metadata": {},
   "outputs": [
    {
     "data": {
      "text/plain": [
       "datetime.date(2020, 12, 2)"
      ]
     },
     "execution_count": 84,
     "metadata": {},
     "output_type": "execute_result"
    }
   ],
   "source": [
    "today = date.today()\n",
    "today"
   ]
  },
  {
   "cell_type": "code",
   "execution_count": 88,
   "metadata": {},
   "outputs": [
    {
     "data": {
      "text/plain": [
       "'2020/12/2'"
      ]
     },
     "execution_count": 88,
     "metadata": {},
     "output_type": "execute_result"
    }
   ],
   "source": [
    "today.strftime('%Y/%-m/%-d')"
   ]
  },
  {
   "cell_type": "code",
   "execution_count": null,
   "metadata": {},
   "outputs": [],
   "source": []
  },
  {
   "cell_type": "code",
   "execution_count": 64,
   "metadata": {},
   "outputs": [],
   "source": [
    "import os\n",
    "import json"
   ]
  },
  {
   "cell_type": "code",
   "execution_count": 93,
   "metadata": {
    "scrolled": true
   },
   "outputs": [
    {
     "name": "stdout",
     "output_type": "stream",
     "text": [
      "  % Total    % Received % Xferd  Average Speed   Time    Time     Time  Current\n",
      "                                 Dload  Upload   Total   Spent    Left  Speed\n",
      "100  3528  100  3528    0     0   5600      0 --:--:-- --:--:-- --:--:--  5591\n"
     ]
    }
   ],
   "source": [
    "! curl https://www.metaweather.com/api/location/44418/ > LondonWeather"
   ]
  },
  {
   "cell_type": "code",
   "execution_count": 94,
   "metadata": {},
   "outputs": [],
   "source": [
    "LondonWeather = json.load(open('LondonWeather'))"
   ]
  },
  {
   "cell_type": "code",
   "execution_count": 95,
   "metadata": {},
   "outputs": [
    {
     "data": {
      "text/plain": [
       "{'consolidated_weather': [{'id': 6093640645476352,\n",
       "   'weather_state_name': 'Showers',\n",
       "   'weather_state_abbr': 's',\n",
       "   'wind_direction_compass': 'WSW',\n",
       "   'created': '2020-12-02T09:20:01.398045Z',\n",
       "   'applicable_date': '2020-12-02',\n",
       "   'min_temp': 2.575,\n",
       "   'max_temp': 7.1,\n",
       "   'the_temp': 6.085,\n",
       "   'wind_speed': 3.5361108789283917,\n",
       "   'wind_direction': 241.95304514219862,\n",
       "   'air_pressure': 1018.0,\n",
       "   'humidity': 77,\n",
       "   'visibility': 7.109418495983457,\n",
       "   'predictability': 73},\n",
       "  {'id': 4965903130165248,\n",
       "   'weather_state_name': 'Heavy Rain',\n",
       "   'weather_state_abbr': 'hr',\n",
       "   'wind_direction_compass': 'S',\n",
       "   'created': '2020-12-02T09:20:02.383075Z',\n",
       "   'applicable_date': '2020-12-03',\n",
       "   'min_temp': 4.0,\n",
       "   'max_temp': 7.0600000000000005,\n",
       "   'the_temp': 6.42,\n",
       "   'wind_speed': 5.058358937739601,\n",
       "   'wind_direction': 188.5258543779409,\n",
       "   'air_pressure': 991.5,\n",
       "   'humidity': 85,\n",
       "   'visibility': 6.337986160820806,\n",
       "   'predictability': 77},\n",
       "  {'id': 6130411504664576,\n",
       "   'weather_state_name': 'Light Rain',\n",
       "   'weather_state_abbr': 'lr',\n",
       "   'wind_direction_compass': 'W',\n",
       "   'created': '2020-12-02T09:20:01.585149Z',\n",
       "   'applicable_date': '2020-12-04',\n",
       "   'min_temp': 2.31,\n",
       "   'max_temp': 4.885,\n",
       "   'the_temp': 4.84,\n",
       "   'wind_speed': 7.314853473106392,\n",
       "   'wind_direction': 270.80840774284974,\n",
       "   'air_pressure': 978.0,\n",
       "   'humidity': 81,\n",
       "   'visibility': 8.987823610116918,\n",
       "   'predictability': 75},\n",
       "  {'id': 5519187393904640,\n",
       "   'weather_state_name': 'Light Rain',\n",
       "   'weather_state_abbr': 'lr',\n",
       "   'wind_direction_compass': 'ESE',\n",
       "   'created': '2020-12-02T09:20:01.794268Z',\n",
       "   'applicable_date': '2020-12-05',\n",
       "   'min_temp': 0.79,\n",
       "   'max_temp': 6.455,\n",
       "   'the_temp': 6.1850000000000005,\n",
       "   'wind_speed': 5.1671005315782494,\n",
       "   'wind_direction': 123.18804602973287,\n",
       "   'air_pressure': 990.0,\n",
       "   'humidity': 79,\n",
       "   'visibility': 10.224352282669212,\n",
       "   'predictability': 75},\n",
       "  {'id': 5848177426038784,\n",
       "   'weather_state_name': 'Light Rain',\n",
       "   'weather_state_abbr': 'lr',\n",
       "   'wind_direction_compass': 'NW',\n",
       "   'created': '2020-12-02T09:20:01.234126Z',\n",
       "   'applicable_date': '2020-12-06',\n",
       "   'min_temp': 1.8299999999999998,\n",
       "   'max_temp': 5.07,\n",
       "   'the_temp': 5.335,\n",
       "   'wind_speed': 4.287143895964898,\n",
       "   'wind_direction': 322.0042766920885,\n",
       "   'air_pressure': 997.5,\n",
       "   'humidity': 80,\n",
       "   'visibility': 10.579776604628966,\n",
       "   'predictability': 75},\n",
       "  {'id': 4664115374063616,\n",
       "   'weather_state_name': 'Heavy Rain',\n",
       "   'weather_state_abbr': 'hr',\n",
       "   'wind_direction_compass': 'SW',\n",
       "   'created': '2020-12-02T09:20:03.983019Z',\n",
       "   'applicable_date': '2020-12-07',\n",
       "   'min_temp': 3.3899999999999997,\n",
       "   'max_temp': 7.109999999999999,\n",
       "   'the_temp': 5.91,\n",
       "   'wind_speed': 6.113928258967629,\n",
       "   'wind_direction': 221.49999999999997,\n",
       "   'air_pressure': 989.0,\n",
       "   'humidity': 84,\n",
       "   'visibility': 9.999726596675416,\n",
       "   'predictability': 77}],\n",
       " 'time': '2020-12-02T10:58:18.257424Z',\n",
       " 'sun_rise': '2020-12-02T07:45:43.874954Z',\n",
       " 'sun_set': '2020-12-02T15:54:07.726173Z',\n",
       " 'timezone_name': 'LMT',\n",
       " 'parent': {'title': 'England',\n",
       "  'location_type': 'Region / State / Province',\n",
       "  'woeid': 24554868,\n",
       "  'latt_long': '52.883560,-1.974060'},\n",
       " 'sources': [{'title': 'BBC',\n",
       "   'slug': 'bbc',\n",
       "   'url': 'http://www.bbc.co.uk/weather/',\n",
       "   'crawl_rate': 360},\n",
       "  {'title': 'Forecast.io',\n",
       "   'slug': 'forecast-io',\n",
       "   'url': 'http://forecast.io/',\n",
       "   'crawl_rate': 480},\n",
       "  {'title': 'HAMweather',\n",
       "   'slug': 'hamweather',\n",
       "   'url': 'http://www.hamweather.com/',\n",
       "   'crawl_rate': 360},\n",
       "  {'title': 'Met Office',\n",
       "   'slug': 'met-office',\n",
       "   'url': 'http://www.metoffice.gov.uk/',\n",
       "   'crawl_rate': 180},\n",
       "  {'title': 'OpenWeatherMap',\n",
       "   'slug': 'openweathermap',\n",
       "   'url': 'http://openweathermap.org/',\n",
       "   'crawl_rate': 360},\n",
       "  {'title': 'Weather Underground',\n",
       "   'slug': 'wunderground',\n",
       "   'url': 'https://www.wunderground.com/?apiref=fc30dc3cd224e19b',\n",
       "   'crawl_rate': 720},\n",
       "  {'title': 'World Weather Online',\n",
       "   'slug': 'world-weather-online',\n",
       "   'url': 'http://www.worldweatheronline.com/',\n",
       "   'crawl_rate': 360}],\n",
       " 'title': 'London',\n",
       " 'location_type': 'City',\n",
       " 'woeid': 44418,\n",
       " 'latt_long': '51.506321,-0.12714',\n",
       " 'timezone': 'Europe/London'}"
      ]
     },
     "execution_count": 95,
     "metadata": {},
     "output_type": "execute_result"
    }
   ],
   "source": [
    "LondonWeather"
   ]
  },
  {
   "cell_type": "code",
   "execution_count": 99,
   "metadata": {},
   "outputs": [
    {
     "data": {
      "text/plain": [
       "{'id': 6093640645476352,\n",
       " 'weather_state_name': 'Showers',\n",
       " 'weather_state_abbr': 's',\n",
       " 'wind_direction_compass': 'WSW',\n",
       " 'created': '2020-12-02T09:20:01.398045Z',\n",
       " 'applicable_date': '2020-12-02',\n",
       " 'min_temp': 2.575,\n",
       " 'max_temp': 7.1,\n",
       " 'the_temp': 6.085,\n",
       " 'wind_speed': 3.5361108789283917,\n",
       " 'wind_direction': 241.95304514219862,\n",
       " 'air_pressure': 1018.0,\n",
       " 'humidity': 77,\n",
       " 'visibility': 7.109418495983457,\n",
       " 'predictability': 73}"
      ]
     },
     "execution_count": 99,
     "metadata": {},
     "output_type": "execute_result"
    }
   ],
   "source": [
    "LondonWeather['consolidated_weather'][0]"
   ]
  },
  {
   "cell_type": "code",
   "execution_count": 100,
   "metadata": {},
   "outputs": [
    {
     "data": {
      "text/plain": [
       "{'id': 4965903130165248,\n",
       " 'weather_state_name': 'Heavy Rain',\n",
       " 'weather_state_abbr': 'hr',\n",
       " 'wind_direction_compass': 'S',\n",
       " 'created': '2020-12-02T09:20:02.383075Z',\n",
       " 'applicable_date': '2020-12-03',\n",
       " 'min_temp': 4.0,\n",
       " 'max_temp': 7.0600000000000005,\n",
       " 'the_temp': 6.42,\n",
       " 'wind_speed': 5.058358937739601,\n",
       " 'wind_direction': 188.5258543779409,\n",
       " 'air_pressure': 991.5,\n",
       " 'humidity': 85,\n",
       " 'visibility': 6.337986160820806,\n",
       " 'predictability': 77}"
      ]
     },
     "execution_count": 100,
     "metadata": {},
     "output_type": "execute_result"
    }
   ],
   "source": [
    "LondonWeather['consolidated_weather'][1]"
   ]
  },
  {
   "cell_type": "code",
   "execution_count": 101,
   "metadata": {},
   "outputs": [
    {
     "data": {
      "text/plain": [
       "{'id': 6130411504664576,\n",
       " 'weather_state_name': 'Light Rain',\n",
       " 'weather_state_abbr': 'lr',\n",
       " 'wind_direction_compass': 'W',\n",
       " 'created': '2020-12-02T09:20:01.585149Z',\n",
       " 'applicable_date': '2020-12-04',\n",
       " 'min_temp': 2.31,\n",
       " 'max_temp': 4.885,\n",
       " 'the_temp': 4.84,\n",
       " 'wind_speed': 7.314853473106392,\n",
       " 'wind_direction': 270.80840774284974,\n",
       " 'air_pressure': 978.0,\n",
       " 'humidity': 81,\n",
       " 'visibility': 8.987823610116918,\n",
       " 'predictability': 75}"
      ]
     },
     "execution_count": 101,
     "metadata": {},
     "output_type": "execute_result"
    }
   ],
   "source": [
    "LondonWeather['consolidated_weather'][2]"
   ]
  },
  {
   "cell_type": "code",
   "execution_count": 102,
   "metadata": {},
   "outputs": [
    {
     "data": {
      "text/plain": [
       "{'id': 5519187393904640,\n",
       " 'weather_state_name': 'Light Rain',\n",
       " 'weather_state_abbr': 'lr',\n",
       " 'wind_direction_compass': 'ESE',\n",
       " 'created': '2020-12-02T09:20:01.794268Z',\n",
       " 'applicable_date': '2020-12-05',\n",
       " 'min_temp': 0.79,\n",
       " 'max_temp': 6.455,\n",
       " 'the_temp': 6.1850000000000005,\n",
       " 'wind_speed': 5.1671005315782494,\n",
       " 'wind_direction': 123.18804602973287,\n",
       " 'air_pressure': 990.0,\n",
       " 'humidity': 79,\n",
       " 'visibility': 10.224352282669212,\n",
       " 'predictability': 75}"
      ]
     },
     "execution_count": 102,
     "metadata": {},
     "output_type": "execute_result"
    }
   ],
   "source": [
    "LondonWeather['consolidated_weather'][3]"
   ]
  },
  {
   "cell_type": "code",
   "execution_count": 103,
   "metadata": {},
   "outputs": [
    {
     "data": {
      "text/plain": [
       "{'id': 5848177426038784,\n",
       " 'weather_state_name': 'Light Rain',\n",
       " 'weather_state_abbr': 'lr',\n",
       " 'wind_direction_compass': 'NW',\n",
       " 'created': '2020-12-02T09:20:01.234126Z',\n",
       " 'applicable_date': '2020-12-06',\n",
       " 'min_temp': 1.8299999999999998,\n",
       " 'max_temp': 5.07,\n",
       " 'the_temp': 5.335,\n",
       " 'wind_speed': 4.287143895964898,\n",
       " 'wind_direction': 322.0042766920885,\n",
       " 'air_pressure': 997.5,\n",
       " 'humidity': 80,\n",
       " 'visibility': 10.579776604628966,\n",
       " 'predictability': 75}"
      ]
     },
     "execution_count": 103,
     "metadata": {},
     "output_type": "execute_result"
    }
   ],
   "source": [
    "LondonWeather['consolidated_weather'][4]"
   ]
  },
  {
   "cell_type": "code",
   "execution_count": 104,
   "metadata": {},
   "outputs": [
    {
     "data": {
      "text/plain": [
       "{'id': 4664115374063616,\n",
       " 'weather_state_name': 'Heavy Rain',\n",
       " 'weather_state_abbr': 'hr',\n",
       " 'wind_direction_compass': 'SW',\n",
       " 'created': '2020-12-02T09:20:03.983019Z',\n",
       " 'applicable_date': '2020-12-07',\n",
       " 'min_temp': 3.3899999999999997,\n",
       " 'max_temp': 7.109999999999999,\n",
       " 'the_temp': 5.91,\n",
       " 'wind_speed': 6.113928258967629,\n",
       " 'wind_direction': 221.49999999999997,\n",
       " 'air_pressure': 989.0,\n",
       " 'humidity': 84,\n",
       " 'visibility': 9.999726596675416,\n",
       " 'predictability': 77}"
      ]
     },
     "execution_count": 104,
     "metadata": {},
     "output_type": "execute_result"
    }
   ],
   "source": [
    "LondonWeather['consolidated_weather'][5]"
   ]
  },
  {
   "cell_type": "code",
   "execution_count": null,
   "metadata": {},
   "outputs": [],
   "source": []
  },
  {
   "cell_type": "code",
   "execution_count": null,
   "metadata": {},
   "outputs": [],
   "source": []
  },
  {
   "cell_type": "code",
   "execution_count": null,
   "metadata": {},
   "outputs": [],
   "source": []
  },
  {
   "cell_type": "code",
   "execution_count": null,
   "metadata": {},
   "outputs": [],
   "source": []
  },
  {
   "cell_type": "code",
   "execution_count": null,
   "metadata": {},
   "outputs": [],
   "source": []
  },
  {
   "cell_type": "code",
   "execution_count": 127,
   "metadata": {},
   "outputs": [],
   "source": [
    "weather_summary = []\n",
    "titles, paras = [], []\n",
    "\n",
    "weather_info = {\n",
    "    'applicable_date',\n",
    "    'weather_state_name',\n",
    "    'min_temp',\n",
    "    'max_temp',\n",
    "    'wind_speed',\n",
    "    'humidity'\n",
    "}\n",
    "\n",
    "for i in range(5):\n",
    "    for key, value in LondonWeather['consolidated_weather'][i].items():\n",
    "        if key in weather_info:\n",
    "            titles.append(key)\n",
    "            paras.append(value)\n",
    "    weather_summary.append(dict(zip(titles,paras)))"
   ]
  },
  {
   "cell_type": "code",
   "execution_count": 128,
   "metadata": {},
   "outputs": [],
   "source": [
    "import pandas as pd"
   ]
  },
  {
   "cell_type": "code",
   "execution_count": 129,
   "metadata": {},
   "outputs": [
    {
     "data": {
      "text/html": [
       "<div>\n",
       "<style scoped>\n",
       "    .dataframe tbody tr th:only-of-type {\n",
       "        vertical-align: middle;\n",
       "    }\n",
       "\n",
       "    .dataframe tbody tr th {\n",
       "        vertical-align: top;\n",
       "    }\n",
       "\n",
       "    .dataframe thead th {\n",
       "        text-align: right;\n",
       "    }\n",
       "</style>\n",
       "<table border=\"1\" class=\"dataframe\">\n",
       "  <thead>\n",
       "    <tr style=\"text-align: right;\">\n",
       "      <th></th>\n",
       "      <th>weather_state_name</th>\n",
       "      <th>applicable_date</th>\n",
       "      <th>min_temp</th>\n",
       "      <th>max_temp</th>\n",
       "      <th>wind_speed</th>\n",
       "      <th>humidity</th>\n",
       "    </tr>\n",
       "  </thead>\n",
       "  <tbody>\n",
       "    <tr>\n",
       "      <th>0</th>\n",
       "      <td>Showers</td>\n",
       "      <td>2020-12-02</td>\n",
       "      <td>2.575</td>\n",
       "      <td>7.100</td>\n",
       "      <td>3.536111</td>\n",
       "      <td>77</td>\n",
       "    </tr>\n",
       "    <tr>\n",
       "      <th>1</th>\n",
       "      <td>Heavy Rain</td>\n",
       "      <td>2020-12-03</td>\n",
       "      <td>4.000</td>\n",
       "      <td>7.060</td>\n",
       "      <td>5.058359</td>\n",
       "      <td>85</td>\n",
       "    </tr>\n",
       "    <tr>\n",
       "      <th>2</th>\n",
       "      <td>Light Rain</td>\n",
       "      <td>2020-12-04</td>\n",
       "      <td>2.310</td>\n",
       "      <td>4.885</td>\n",
       "      <td>7.314853</td>\n",
       "      <td>81</td>\n",
       "    </tr>\n",
       "    <tr>\n",
       "      <th>3</th>\n",
       "      <td>Light Rain</td>\n",
       "      <td>2020-12-05</td>\n",
       "      <td>0.790</td>\n",
       "      <td>6.455</td>\n",
       "      <td>5.167101</td>\n",
       "      <td>79</td>\n",
       "    </tr>\n",
       "    <tr>\n",
       "      <th>4</th>\n",
       "      <td>Light Rain</td>\n",
       "      <td>2020-12-06</td>\n",
       "      <td>1.830</td>\n",
       "      <td>5.070</td>\n",
       "      <td>4.287144</td>\n",
       "      <td>80</td>\n",
       "    </tr>\n",
       "  </tbody>\n",
       "</table>\n",
       "</div>"
      ],
      "text/plain": [
       "  weather_state_name applicable_date  min_temp  max_temp  wind_speed  humidity\n",
       "0            Showers      2020-12-02     2.575     7.100    3.536111        77\n",
       "1         Heavy Rain      2020-12-03     4.000     7.060    5.058359        85\n",
       "2         Light Rain      2020-12-04     2.310     4.885    7.314853        81\n",
       "3         Light Rain      2020-12-05     0.790     6.455    5.167101        79\n",
       "4         Light Rain      2020-12-06     1.830     5.070    4.287144        80"
      ]
     },
     "execution_count": 129,
     "metadata": {},
     "output_type": "execute_result"
    }
   ],
   "source": [
    "pd.DataFrame(weather_summary)"
   ]
  },
  {
   "cell_type": "code",
   "execution_count": null,
   "metadata": {},
   "outputs": [],
   "source": []
  }
 ],
 "metadata": {
  "kernelspec": {
   "display_name": "Python 3",
   "language": "python",
   "name": "python3"
  },
  "language_info": {
   "codemirror_mode": {
    "name": "ipython",
    "version": 3
   },
   "file_extension": ".py",
   "mimetype": "text/x-python",
   "name": "python",
   "nbconvert_exporter": "python",
   "pygments_lexer": "ipython3",
   "version": "3.7.7"
  },
  "toc": {
   "base_numbering": 1,
   "nav_menu": {},
   "number_sections": true,
   "sideBar": true,
   "skip_h1_title": false,
   "title_cell": "Table of Contents",
   "title_sidebar": "Contents",
   "toc_cell": false,
   "toc_position": {},
   "toc_section_display": true,
   "toc_window_display": false
  }
 },
 "nbformat": 4,
 "nbformat_minor": 4
}
