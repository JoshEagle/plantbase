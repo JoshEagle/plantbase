{
 "cells": [
  {
   "cell_type": "markdown",
   "metadata": {},
   "source": [
    "# Importing data"
   ]
  },
  {
   "cell_type": "code",
   "execution_count": 2,
   "metadata": {},
   "outputs": [],
   "source": [
    "import pandas as pd\n",
    "\n",
    "plants_df = pd.read_csv(\"../plantbase/data/all_plants_train.csv\").drop(columns=\"Unnamed: 0\")"
   ]
  },
  {
   "cell_type": "code",
   "execution_count": 3,
   "metadata": {},
   "outputs": [
    {
     "data": {
      "text/html": [
       "<div>\n",
       "<style scoped>\n",
       "    .dataframe tbody tr th:only-of-type {\n",
       "        vertical-align: middle;\n",
       "    }\n",
       "\n",
       "    .dataframe tbody tr th {\n",
       "        vertical-align: top;\n",
       "    }\n",
       "\n",
       "    .dataframe thead th {\n",
       "        text-align: right;\n",
       "    }\n",
       "</style>\n",
       "<table border=\"1\" class=\"dataframe\">\n",
       "  <thead>\n",
       "    <tr style=\"text-align: right;\">\n",
       "      <th></th>\n",
       "      <th>id</th>\n",
       "      <th>family</th>\n",
       "      <th>genus</th>\n",
       "      <th>species</th>\n",
       "      <th>content</th>\n",
       "    </tr>\n",
       "  </thead>\n",
       "  <tbody>\n",
       "    <tr>\n",
       "      <th>0</th>\n",
       "      <td>1</td>\n",
       "      <td>Amaryllidaceae</td>\n",
       "      <td>Narcissus</td>\n",
       "      <td>Narcissus dubius Gouan</td>\n",
       "      <td>Entire</td>\n",
       "    </tr>\n",
       "    <tr>\n",
       "      <th>1</th>\n",
       "      <td>10</td>\n",
       "      <td>Orchidaceae</td>\n",
       "      <td>Epipactis</td>\n",
       "      <td>Epipactis atrorubens (Hoffm.) Besser</td>\n",
       "      <td>Entire</td>\n",
       "    </tr>\n",
       "    <tr>\n",
       "      <th>2</th>\n",
       "      <td>1000</td>\n",
       "      <td>Fabaceae</td>\n",
       "      <td>Cercis</td>\n",
       "      <td>Cercis siliquastrum L.</td>\n",
       "      <td>Branch</td>\n",
       "    </tr>\n",
       "    <tr>\n",
       "      <th>3</th>\n",
       "      <td>10000</td>\n",
       "      <td>Lamiaceae</td>\n",
       "      <td>Clinopodium</td>\n",
       "      <td>Clinopodium nepeta (L.) Kuntze</td>\n",
       "      <td>Flower</td>\n",
       "    </tr>\n",
       "    <tr>\n",
       "      <th>4</th>\n",
       "      <td>100001</td>\n",
       "      <td>Rosaceae</td>\n",
       "      <td>Cydonia</td>\n",
       "      <td>Cydonia oblonga Mill.</td>\n",
       "      <td>Leaf</td>\n",
       "    </tr>\n",
       "  </tbody>\n",
       "</table>\n",
       "</div>"
      ],
      "text/plain": [
       "       id          family        genus                               species  \\\n",
       "0       1  Amaryllidaceae    Narcissus                Narcissus dubius Gouan   \n",
       "1      10     Orchidaceae    Epipactis  Epipactis atrorubens (Hoffm.) Besser   \n",
       "2    1000        Fabaceae       Cercis                Cercis siliquastrum L.   \n",
       "3   10000       Lamiaceae  Clinopodium        Clinopodium nepeta (L.) Kuntze   \n",
       "4  100001        Rosaceae      Cydonia                 Cydonia oblonga Mill.   \n",
       "\n",
       "  content  \n",
       "0  Entire  \n",
       "1  Entire  \n",
       "2  Branch  \n",
       "3  Flower  \n",
       "4    Leaf  "
      ]
     },
     "execution_count": 3,
     "metadata": {},
     "output_type": "execute_result"
    }
   ],
   "source": [
    "plants_df.head()"
   ]
  },
  {
   "cell_type": "code",
   "execution_count": 35,
   "metadata": {},
   "outputs": [
    {
     "data": {
      "text/html": [
       "<div>\n",
       "<style scoped>\n",
       "    .dataframe tbody tr th:only-of-type {\n",
       "        vertical-align: middle;\n",
       "    }\n",
       "\n",
       "    .dataframe tbody tr th {\n",
       "        vertical-align: top;\n",
       "    }\n",
       "\n",
       "    .dataframe thead th {\n",
       "        text-align: right;\n",
       "    }\n",
       "</style>\n",
       "<table border=\"1\" class=\"dataframe\">\n",
       "  <thead>\n",
       "    <tr style=\"text-align: right;\">\n",
       "      <th></th>\n",
       "      <th>genus</th>\n",
       "      <th>content</th>\n",
       "      <th>count</th>\n",
       "    </tr>\n",
       "  </thead>\n",
       "  <tbody>\n",
       "    <tr>\n",
       "      <th>2083</th>\n",
       "      <td>Ophrys</td>\n",
       "      <td>Flower</td>\n",
       "      <td>660</td>\n",
       "    </tr>\n",
       "    <tr>\n",
       "      <th>1325</th>\n",
       "      <td>Geranium</td>\n",
       "      <td>Flower</td>\n",
       "      <td>436</td>\n",
       "    </tr>\n",
       "    <tr>\n",
       "      <th>1185</th>\n",
       "      <td>Euphorbia</td>\n",
       "      <td>Flower</td>\n",
       "      <td>397</td>\n",
       "    </tr>\n",
       "    <tr>\n",
       "      <th>2679</th>\n",
       "      <td>Silene</td>\n",
       "      <td>Flower</td>\n",
       "      <td>395</td>\n",
       "    </tr>\n",
       "    <tr>\n",
       "      <th>2403</th>\n",
       "      <td>Prunus</td>\n",
       "      <td>Flower</td>\n",
       "      <td>382</td>\n",
       "    </tr>\n",
       "    <tr>\n",
       "      <th>554</th>\n",
       "      <td>Campanula</td>\n",
       "      <td>Flower</td>\n",
       "      <td>381</td>\n",
       "    </tr>\n",
       "    <tr>\n",
       "      <th>659</th>\n",
       "      <td>Centaurea</td>\n",
       "      <td>Flower</td>\n",
       "      <td>363</td>\n",
       "    </tr>\n",
       "    <tr>\n",
       "      <th>1310</th>\n",
       "      <td>Gentiana</td>\n",
       "      <td>Flower</td>\n",
       "      <td>296</td>\n",
       "    </tr>\n",
       "    <tr>\n",
       "      <th>2980</th>\n",
       "      <td>Verbascum</td>\n",
       "      <td>Flower</td>\n",
       "      <td>295</td>\n",
       "    </tr>\n",
       "    <tr>\n",
       "      <th>2095</th>\n",
       "      <td>Orchis</td>\n",
       "      <td>Flower</td>\n",
       "      <td>291</td>\n",
       "    </tr>\n",
       "    <tr>\n",
       "      <th>1878</th>\n",
       "      <td>Malva</td>\n",
       "      <td>Flower</td>\n",
       "      <td>289</td>\n",
       "    </tr>\n",
       "    <tr>\n",
       "      <th>199</th>\n",
       "      <td>Anemone</td>\n",
       "      <td>Flower</td>\n",
       "      <td>278</td>\n",
       "    </tr>\n",
       "    <tr>\n",
       "      <th>3027</th>\n",
       "      <td>Viola</td>\n",
       "      <td>Flower</td>\n",
       "      <td>254</td>\n",
       "    </tr>\n",
       "    <tr>\n",
       "      <th>1648</th>\n",
       "      <td>Lamium</td>\n",
       "      <td>Flower</td>\n",
       "      <td>237</td>\n",
       "    </tr>\n",
       "    <tr>\n",
       "      <th>19</th>\n",
       "      <td>Acer</td>\n",
       "      <td>Flower</td>\n",
       "      <td>232</td>\n",
       "    </tr>\n",
       "    <tr>\n",
       "      <th>118</th>\n",
       "      <td>Allium</td>\n",
       "      <td>Flower</td>\n",
       "      <td>232</td>\n",
       "    </tr>\n",
       "    <tr>\n",
       "      <th>751</th>\n",
       "      <td>Cirsium</td>\n",
       "      <td>Flower</td>\n",
       "      <td>231</td>\n",
       "    </tr>\n",
       "    <tr>\n",
       "      <th>940</th>\n",
       "      <td>Dactylorhiza</td>\n",
       "      <td>Flower</td>\n",
       "      <td>230</td>\n",
       "    </tr>\n",
       "    <tr>\n",
       "      <th>2007</th>\n",
       "      <td>Narcissus</td>\n",
       "      <td>Flower</td>\n",
       "      <td>223</td>\n",
       "    </tr>\n",
       "    <tr>\n",
       "      <th>2891</th>\n",
       "      <td>Trifolium</td>\n",
       "      <td>Flower</td>\n",
       "      <td>214</td>\n",
       "    </tr>\n",
       "  </tbody>\n",
       "</table>\n",
       "</div>"
      ],
      "text/plain": [
       "             genus content  count\n",
       "2083        Ophrys  Flower    660\n",
       "1325      Geranium  Flower    436\n",
       "1185     Euphorbia  Flower    397\n",
       "2679        Silene  Flower    395\n",
       "2403        Prunus  Flower    382\n",
       "554      Campanula  Flower    381\n",
       "659      Centaurea  Flower    363\n",
       "1310      Gentiana  Flower    296\n",
       "2980     Verbascum  Flower    295\n",
       "2095        Orchis  Flower    291\n",
       "1878         Malva  Flower    289\n",
       "199        Anemone  Flower    278\n",
       "3027         Viola  Flower    254\n",
       "1648        Lamium  Flower    237\n",
       "19            Acer  Flower    232\n",
       "118         Allium  Flower    232\n",
       "751        Cirsium  Flower    231\n",
       "940   Dactylorhiza  Flower    230\n",
       "2007     Narcissus  Flower    223\n",
       "2891     Trifolium  Flower    214"
      ]
     },
     "execution_count": 35,
     "metadata": {},
     "output_type": "execute_result"
    }
   ],
   "source": [
    "#filtering cvs by genus, content and count \n",
    "contents=plants_df.groupby([\"genus\", \"content\"]).size().reset_index(name=\"count\")\n",
    "contents=contents[contents['content']=='Flower'].sort_values('count',ascending=False)\n",
    "\n",
    "#looking at the images with only 100 values \n",
    "contents[contents['count']>100].sort_values('count',ascending=False).head(20)"
   ]
  },
  {
   "cell_type": "code",
   "execution_count": 36,
   "metadata": {},
   "outputs": [],
   "source": [
    "#selected the genus we will focus on\n",
    "selected_genus=['Campanula','Crataegus', 'Geranium', 'Narcissus','Ophrys', 'Rosa', 'Verbascum', 'Iris','Allium','Ajuga','Veronica','Gentiana','Viola','Malva', 'Cirsium', 'Trifolium']"
   ]
  },
  {
   "cell_type": "code",
   "execution_count": 38,
   "metadata": {},
   "outputs": [
    {
     "data": {
      "text/plain": [
       "16"
      ]
     },
     "execution_count": 38,
     "metadata": {},
     "output_type": "execute_result"
    }
   ],
   "source": [
    "#number of genuses selected\n",
    "len(selected_genus)"
   ]
  },
  {
   "cell_type": "markdown",
   "metadata": {},
   "source": [
    "# Filtering the cvs by content type (=Flowers) and for selected genuses"
   ]
  },
  {
   "cell_type": "code",
   "execution_count": 43,
   "metadata": {},
   "outputs": [],
   "source": [
    "filtered_df=plants_df[plants_df.genus.isin(selected_genus)]\n",
    "filtered_df=filtered_df[filtered_df['content']=='Flower']"
   ]
  },
  {
   "cell_type": "code",
   "execution_count": 45,
   "metadata": {},
   "outputs": [
    {
     "data": {
      "text/plain": [
       "Ophrys       660\n",
       "Geranium     436\n",
       "Campanula    381\n",
       "Gentiana     296\n",
       "Verbascum    295\n",
       "Malva        289\n",
       "Viola        254\n",
       "Allium       232\n",
       "Cirsium      231\n",
       "Narcissus    223\n",
       "Trifolium    214\n",
       "Veronica     200\n",
       "Crataegus    183\n",
       "Iris         154\n",
       "Rosa         150\n",
       "Ajuga        119\n",
       "Name: genus, dtype: int64"
      ]
     },
     "execution_count": 45,
     "metadata": {},
     "output_type": "execute_result"
    }
   ],
   "source": [
    "#checking the number of images per plant\n",
    "filtered_df.genus.value_counts()"
   ]
  },
  {
   "cell_type": "markdown",
   "metadata": {},
   "source": [
    "# Outputting to csv"
   ]
  },
  {
   "cell_type": "code",
   "execution_count": 46,
   "metadata": {},
   "outputs": [],
   "source": [
    "#resetting the index and dropping the old index\n",
    "filtered_df = filtered_df.reset_index().drop(columns = 'index')"
   ]
  },
  {
   "cell_type": "code",
   "execution_count": 47,
   "metadata": {},
   "outputs": [],
   "source": [
    "filtered_df.to_csv(\"../plantbase/data/priority_plants_VF.csv\")"
   ]
  }
 ],
 "metadata": {
  "kernelspec": {
   "display_name": "Python 3",
   "language": "python",
   "name": "python3"
  },
  "language_info": {
   "codemirror_mode": {
    "name": "ipython",
    "version": 3
   },
   "file_extension": ".py",
   "mimetype": "text/x-python",
   "name": "python",
   "nbconvert_exporter": "python",
   "pygments_lexer": "ipython3",
   "version": "3.7.7"
  }
 },
 "nbformat": 4,
 "nbformat_minor": 4
}
