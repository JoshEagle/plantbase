{
 "cells": [
  {
   "cell_type": "code",
   "execution_count": 6,
   "metadata": {},
   "outputs": [],
   "source": [
    "import joblib\n",
    "import pandas as pd\n",
    "import os\n",
    "import pytz\n",
    "import streamlit as st\n",
    "import numpy as np\n",
    "from PIL import Image\n",
    "import streamlit.components.v1 as components\n",
    "from tensorflow.keras.preprocessing.image import load_img\n",
    "from tensorflow.keras.preprocessing.image import img_to_array\n",
    "from tensorflow.keras.models import load_model"
   ]
  },
  {
   "cell_type": "code",
   "execution_count": 7,
   "metadata": {
    "scrolled": true
   },
   "outputs": [],
   "source": [
    "plants_care = pd.read_csv('plantbase/scraping/plant_info_wk2.csv')"
   ]
  },
  {
   "cell_type": "code",
   "execution_count": 12,
   "metadata": {},
   "outputs": [
    {
     "data": {
      "text/plain": [
       "['Unnamed: 0',\n",
       " 'Genus name',\n",
       " 'Species',\n",
       " 'Family',\n",
       " 'Genus',\n",
       " 'Details',\n",
       " 'Foliage',\n",
       " 'Habit',\n",
       " 'Hardiness ratings',\n",
       " 'Sunlight',\n",
       " 'Moisture',\n",
       " 'Soil',\n",
       " 'pH',\n",
       " 'Ultimate height',\n",
       " 'Ultimate spread',\n",
       " 'Time to ultimate height',\n",
       " 'Cultivation',\n",
       " 'Propagation',\n",
       " 'Suggested planting locations and garden types',\n",
       " 'Pruning',\n",
       " 'Pests',\n",
       " 'Diseases ']"
      ]
     },
     "execution_count": 12,
     "metadata": {},
     "output_type": "execute_result"
    }
   ],
   "source": [
    "#plants_care_head= plants_care.head()\n",
    "plants_care.columns.values.tolist()"
   ]
  },
  {
   "cell_type": "code",
   "execution_count": 24,
   "metadata": {},
   "outputs": [],
   "source": [
    "plant_name= plants_care['Genus name'].iloc[0]"
   ]
  },
  {
   "cell_type": "code",
   "execution_count": 56,
   "metadata": {},
   "outputs": [],
   "source": [
    "plant_features= ['Cultivation', 'Propagation', 'Suggested planting locations and garden types', 'Pruning', 'Pests', 'Diseases ']\n",
    "plant_name = 'Rosa'"
   ]
  },
  {
   "cell_type": "code",
   "execution_count": 79,
   "metadata": {},
   "outputs": [
    {
     "data": {
      "text/plain": [
       "'Grow in full sun in light, non-acidic, well-drained soil: will tolerate shallow chalky soils, dry soils, and poor soils, but will need staking in richer soils, and will not tolerate wet soils'"
      ]
     },
     "execution_count": 79,
     "metadata": {},
     "output_type": "execute_result"
    }
   ],
   "source": [
    "cultivation= plants_care['Cultivation'].iloc[0]\n",
    "cultivation"
   ]
  },
  {
   "cell_type": "code",
   "execution_count": 32,
   "metadata": {},
   "outputs": [],
   "source": [
    "def how_to_grow(plant_name,plant_features, plant_care):\n",
    "    if plant_name in list(plants_care['Genus name']):\n",
    "        temp = plants_care.iloc[plants_care.index[plants_care['Genus name'] == plant_name]][plant_features].iloc[0]\n",
    "        features = temp.index\n",
    "        string_values = temp.values\n",
    "        return dict(zip(features,string_values))\n"
   ]
  },
  {
   "cell_type": "code",
   "execution_count": null,
   "metadata": {},
   "outputs": [],
   "source": [
    "def how_to_grow(plant_name,plant_features, plant_care)"
   ]
  },
  {
   "cell_type": "code",
   "execution_count": null,
   "metadata": {},
   "outputs": [],
   "source": []
  },
  {
   "cell_type": "code",
   "execution_count": 2,
   "metadata": {
    "scrolled": true
   },
   "outputs": [],
   "source": [
    "#how_to_grow(plant_name,'Cultivation')"
   ]
  },
  {
   "cell_type": "code",
   "execution_count": 58,
   "metadata": {},
   "outputs": [],
   "source": [
    "\n",
    "def how_to_cultivate_v2(plant_name,plants_care,plant_features):\n",
    "     if plant_name in list(plants_care['Genus name']):\n",
    "        tmp = plants_care.iloc[plants_care.index[plants_care['Genus name'] == plant_name]][[plant_features]]\n",
    "        string_values = tmp.values\n",
    "        cultivation = tmp['Cultivation'].iloc[0]\n",
    "        propagation = tmp['Propagation'].iloc[0]\n",
    "        location = tmp['Suggested planting locations and garden types'].iloc[0]\n",
    "        pruning = tmp['Pruning'].iloc[0]\n",
    "        pests = tmp['Pests'].iloc[0]\n",
    "        diseases = tmp['Diseases '].iloc[0]\n",
    "  \n",
    "        return cultivation, diseases, pests, pruning, location, propagation, cultivation"
   ]
  },
  {
   "cell_type": "code",
   "execution_count": 3,
   "metadata": {},
   "outputs": [],
   "source": [
    "\n",
    "#how_to_cultivate_v2('Rosa',plants_care, cultivation)\n"
   ]
  },
  {
   "cell_type": "code",
   "execution_count": 85,
   "metadata": {},
   "outputs": [],
   "source": [
    "plant_name = 'Rosa'\n",
    "plant_features = ['Cultivation']"
   ]
  },
  {
   "cell_type": "code",
   "execution_count": 103,
   "metadata": {},
   "outputs": [],
   "source": [
    "\n",
    "\n",
    "def how_to_grow_2(plant_name,plant_features, plants_care):\n",
    "    if plant_name in list(plants_care['Genus name']):\n",
    "        temp = plants_care.iloc[plants_care.index[plants_care['Genus name'] == plant_name]][plant_features].iloc[0]\n",
    "        return [temp[elt] for elt in temp.index]\n"
   ]
  },
  {
   "cell_type": "code",
   "execution_count": 104,
   "metadata": {},
   "outputs": [
    {
     "data": {
      "text/plain": [
       "['Grow in full sun with fertile, humus-rich, moist but well-drained soil. For best flowering apply a balanced fertiliser and mulch in late winter or early spring and a balanced fertiliser again in early summer. See rose cultivation']"
      ]
     },
     "execution_count": 104,
     "metadata": {},
     "output_type": "execute_result"
    }
   ],
   "source": [
    "how_to_grow_2(plant_name,plant_features, plants_care)"
   ]
  },
  {
   "cell_type": "code",
   "execution_count": null,
   "metadata": {},
   "outputs": [],
   "source": []
  },
  {
   "cell_type": "code",
   "execution_count": 83,
   "metadata": {},
   "outputs": [],
   "source": [
    "def how_to_cultivate_v2(plant_name,plants_care,plant_features):\n",
    "     if plant_name in list(plants_care['Genus name']):\n",
    "        tmp = plants_care.iloc[plants_care.index[plants_care['Genus name'] == plant_name]][plant_features]\n",
    "        string_values = tmp.values\n",
    "        cultivation = tmp['Cultivation'].iloc[0]\n",
    "        propagation = tmp['Propagation'].iloc[0]\n",
    "        location = tmp['Suggested planting locations and garden types'].iloc[0]\n",
    "        pruning = tmp['Pruning'].iloc[0]\n",
    "        pests = tmp['Pests'].iloc[0]\n",
    "        diseases = tmp['Diseases '].iloc[0]\n",
    "  \n",
    "        return cultivation, diseases, pests, pruning, location, propagation"
   ]
  },
  {
   "cell_type": "code",
   "execution_count": 1,
   "metadata": {},
   "outputs": [],
   "source": [
    "plant_name = 'Rosa'\n",
    "\n",
    "#how_to_cultivate_v2(plant_name,plants_care,plant_features)"
   ]
  },
  {
   "cell_type": "code",
   "execution_count": 105,
   "metadata": {},
   "outputs": [],
   "source": [
    "def cultivation():\n",
    "    if plant_name in list(plants_care['Genus name']):\n",
    "        tmp = plants_care.iloc[plants_care.index[plants_care['Genus name'] == plant_name]]['Cultivation'].iloc[0]\n",
    "    return tmp"
   ]
  },
  {
   "cell_type": "code",
   "execution_count": 106,
   "metadata": {},
   "outputs": [
    {
     "data": {
      "text/plain": [
       "'Grow in full sun with fertile, humus-rich, moist but well-drained soil. For best flowering apply a balanced fertiliser and mulch in late winter or early spring and a balanced fertiliser again in early summer. See rose cultivation'"
      ]
     },
     "execution_count": 106,
     "metadata": {},
     "output_type": "execute_result"
    }
   ],
   "source": [
    "cultivation()"
   ]
  },
  {
   "cell_type": "code",
   "execution_count": null,
   "metadata": {},
   "outputs": [],
   "source": []
  },
  {
   "cell_type": "code",
   "execution_count": null,
   "metadata": {},
   "outputs": [],
   "source": []
  },
  {
   "cell_type": "code",
   "execution_count": 114,
   "metadata": {},
   "outputs": [],
   "source": [
    "plant_features= ['Cultivation', 'Propagation', 'Suggested planting locations and garden types', 'Pruning', 'Pests', 'Diseases ']\n",
    "plant_name = 'Rosa'\n",
    "plants_care = pd.read_csv('plantbase/scraping/plant_info_wk2.csv')"
   ]
  },
  {
   "cell_type": "code",
   "execution_count": 115,
   "metadata": {},
   "outputs": [],
   "source": [
    "def Propagation(plant_name, plants_care, plant_features):\n",
    "    if plant_name in list(plants_care['Genus name']):\n",
    "        prop = plants_care.iloc[plants_care.index[plants_care['Genus name'] == plant_name]][plant_features].iloc[0]\n",
    "    return prop"
   ]
  },
  {
   "cell_type": "code",
   "execution_count": 122,
   "metadata": {},
   "outputs": [
    {
     "data": {
      "text/plain": [
       "'Propagate by hardwood cuttings in autumn or by chip budding in summer'"
      ]
     },
     "execution_count": 122,
     "metadata": {},
     "output_type": "execute_result"
    }
   ],
   "source": [
    "Propagation(plant_name, plants_care, 'Propagation')"
   ]
  },
  {
   "cell_type": "code",
   "execution_count": 123,
   "metadata": {},
   "outputs": [
    {
     "data": {
      "text/plain": [
       "'Grow in full sun with fertile, humus-rich, moist but well-drained soil. For best flowering apply a balanced fertiliser and mulch in late winter or early spring and a balanced fertiliser again in early summer. See rose cultivation'"
      ]
     },
     "execution_count": 123,
     "metadata": {},
     "output_type": "execute_result"
    }
   ],
   "source": [
    "Propagation(plant_name, plants_care, 'Cultivation')"
   ]
  },
  {
   "cell_type": "markdown",
   "metadata": {},
   "source": [
    "#### show plant pictures"
   ]
  },
  {
   "cell_type": "code",
   "execution_count": 19,
   "metadata": {},
   "outputs": [],
   "source": [
    "name =('../raw_data/train')"
   ]
  },
  {
   "cell_type": "code",
   "execution_count": 20,
   "metadata": {},
   "outputs": [
    {
     "name": "stdout",
     "output_type": "stream",
     "text": [
      "['.git', '.github', '.ipynb_checkpoints', 'app_style', 'model', 'notebooks', 'plantbase', 'raw_data', 'scripts', 'tests']\n"
     ]
    }
   ],
   "source": [
    "import os\n",
    "print ([name for name in os.listdir(\".\") if os.path.isdir(name)])"
   ]
  },
  {
   "cell_type": "code",
   "execution_count": null,
   "metadata": {},
   "outputs": [],
   "source": [
    "\n",
    "plant_name= 'Rose' # this plant name has to be here otherwise code is crushing with error UnboundLocalError: local variable referenced before assignment\n",
    "\n",
    "plant_folders = ('plantbase/raw_data/train')\n",
    "\n",
    "def plant_image(plant_folders, plant_name)\n",
    "    if plant_name in plant_folders\n",
    "\n",
    "if st.button('This is NOT my plant'):\n",
    "    st.write('') # code if not this plant then search for others\n",
    "# else:\n",
    "#     st.write('Goodbye')"
   ]
  },
  {
   "cell_type": "code",
   "execution_count": null,
   "metadata": {},
   "outputs": [],
   "source": []
  },
  {
   "cell_type": "code",
   "execution_count": null,
   "metadata": {},
   "outputs": [],
   "source": []
  },
  {
   "cell_type": "code",
   "execution_count": null,
   "metadata": {},
   "outputs": [],
   "source": []
  }
 ],
 "metadata": {
  "kernelspec": {
   "display_name": "Python 3",
   "language": "python",
   "name": "python3"
  },
  "language_info": {
   "codemirror_mode": {
    "name": "ipython",
    "version": 3
   },
   "file_extension": ".py",
   "mimetype": "text/x-python",
   "name": "python",
   "nbconvert_exporter": "python",
   "pygments_lexer": "ipython3",
   "version": "3.7.7"
  },
  "toc": {
   "base_numbering": 1,
   "nav_menu": {},
   "number_sections": false,
   "sideBar": true,
   "skip_h1_title": false,
   "title_cell": "Table of Contents",
   "title_sidebar": "Contents",
   "toc_cell": false,
   "toc_position": {},
   "toc_section_display": true,
   "toc_window_display": false
  }
 },
 "nbformat": 4,
 "nbformat_minor": 4
}
